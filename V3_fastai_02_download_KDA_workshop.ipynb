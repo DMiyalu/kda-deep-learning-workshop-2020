{
  "nbformat": 4,
  "nbformat_minor": 0,
  "metadata": {
    "kernelspec": {
      "display_name": "Python 3",
      "language": "python",
      "name": "python3"
    },
    "colab": {
      "name": "V3_fastai_02_download_KDA_workshop.ipynb",
      "provenance": [],
      "collapsed_sections": [
        "PdRGMwtYWhl6",
        "ytMS0L6DWhl7",
        "iH00YETLWhmM",
        "BV5qZ3PGWhmf",
        "d2SLh0qtWhmv"
      ],
      "include_colab_link": true
    },
    "accelerator": "GPU",
    "widgets": {
      "application/vnd.jupyter.widget-state+json": {
        "b1c539bf3f154195beff9eadf55504a3": {
          "model_module": "@jupyter-widgets/controls",
          "model_name": "HBoxModel",
          "state": {
            "_view_name": "HBoxView",
            "_dom_classes": [],
            "_model_name": "HBoxModel",
            "_view_module": "@jupyter-widgets/controls",
            "_model_module_version": "1.5.0",
            "_view_count": null,
            "_view_module_version": "1.5.0",
            "box_style": "",
            "layout": "IPY_MODEL_6be87d633bac4ac39f4810680ed3668a",
            "_model_module": "@jupyter-widgets/controls",
            "children": [
              "IPY_MODEL_9b1f124318ac431ea95fb6edae1cc255",
              "IPY_MODEL_bf0925e7315544a6b11ce04ae20a3d58"
            ]
          }
        },
        "6be87d633bac4ac39f4810680ed3668a": {
          "model_module": "@jupyter-widgets/base",
          "model_name": "LayoutModel",
          "state": {
            "_view_name": "LayoutView",
            "grid_template_rows": null,
            "right": null,
            "justify_content": null,
            "_view_module": "@jupyter-widgets/base",
            "overflow": null,
            "_model_module_version": "1.2.0",
            "_view_count": null,
            "flex_flow": null,
            "width": null,
            "min_width": null,
            "border": null,
            "align_items": null,
            "bottom": null,
            "_model_module": "@jupyter-widgets/base",
            "top": null,
            "grid_column": null,
            "overflow_y": null,
            "overflow_x": null,
            "grid_auto_flow": null,
            "grid_area": null,
            "grid_template_columns": null,
            "flex": null,
            "_model_name": "LayoutModel",
            "justify_items": null,
            "grid_row": null,
            "max_height": null,
            "align_content": null,
            "visibility": null,
            "align_self": null,
            "height": null,
            "min_height": null,
            "padding": null,
            "grid_auto_rows": null,
            "grid_gap": null,
            "max_width": null,
            "order": null,
            "_view_module_version": "1.2.0",
            "grid_template_areas": null,
            "object_position": null,
            "object_fit": null,
            "grid_auto_columns": null,
            "margin": null,
            "display": null,
            "left": null
          }
        },
        "9b1f124318ac431ea95fb6edae1cc255": {
          "model_module": "@jupyter-widgets/controls",
          "model_name": "FloatProgressModel",
          "state": {
            "_view_name": "ProgressView",
            "style": "IPY_MODEL_c5ccadb37f864ef699b4ab293570b026",
            "_dom_classes": [],
            "description": "100%",
            "_model_name": "FloatProgressModel",
            "bar_style": "success",
            "max": 87306240,
            "_view_module": "@jupyter-widgets/controls",
            "_model_module_version": "1.5.0",
            "value": 87306240,
            "_view_count": null,
            "_view_module_version": "1.5.0",
            "orientation": "horizontal",
            "min": 0,
            "description_tooltip": null,
            "_model_module": "@jupyter-widgets/controls",
            "layout": "IPY_MODEL_2e9f4e7f152c4b53b9d6023f6e6cabbb"
          }
        },
        "bf0925e7315544a6b11ce04ae20a3d58": {
          "model_module": "@jupyter-widgets/controls",
          "model_name": "HTMLModel",
          "state": {
            "_view_name": "HTMLView",
            "style": "IPY_MODEL_89115e6c4e2f412ebcdab6d661cd0799",
            "_dom_classes": [],
            "description": "",
            "_model_name": "HTMLModel",
            "placeholder": "​",
            "_view_module": "@jupyter-widgets/controls",
            "_model_module_version": "1.5.0",
            "value": " 83.3M/83.3M [01:22&lt;00:00, 1.06MB/s]",
            "_view_count": null,
            "_view_module_version": "1.5.0",
            "description_tooltip": null,
            "_model_module": "@jupyter-widgets/controls",
            "layout": "IPY_MODEL_af7c1fce0561482da7eee5f2be8bda6f"
          }
        },
        "c5ccadb37f864ef699b4ab293570b026": {
          "model_module": "@jupyter-widgets/controls",
          "model_name": "ProgressStyleModel",
          "state": {
            "_view_name": "StyleView",
            "_model_name": "ProgressStyleModel",
            "description_width": "initial",
            "_view_module": "@jupyter-widgets/base",
            "_model_module_version": "1.5.0",
            "_view_count": null,
            "_view_module_version": "1.2.0",
            "bar_color": null,
            "_model_module": "@jupyter-widgets/controls"
          }
        },
        "2e9f4e7f152c4b53b9d6023f6e6cabbb": {
          "model_module": "@jupyter-widgets/base",
          "model_name": "LayoutModel",
          "state": {
            "_view_name": "LayoutView",
            "grid_template_rows": null,
            "right": null,
            "justify_content": null,
            "_view_module": "@jupyter-widgets/base",
            "overflow": null,
            "_model_module_version": "1.2.0",
            "_view_count": null,
            "flex_flow": null,
            "width": null,
            "min_width": null,
            "border": null,
            "align_items": null,
            "bottom": null,
            "_model_module": "@jupyter-widgets/base",
            "top": null,
            "grid_column": null,
            "overflow_y": null,
            "overflow_x": null,
            "grid_auto_flow": null,
            "grid_area": null,
            "grid_template_columns": null,
            "flex": null,
            "_model_name": "LayoutModel",
            "justify_items": null,
            "grid_row": null,
            "max_height": null,
            "align_content": null,
            "visibility": null,
            "align_self": null,
            "height": null,
            "min_height": null,
            "padding": null,
            "grid_auto_rows": null,
            "grid_gap": null,
            "max_width": null,
            "order": null,
            "_view_module_version": "1.2.0",
            "grid_template_areas": null,
            "object_position": null,
            "object_fit": null,
            "grid_auto_columns": null,
            "margin": null,
            "display": null,
            "left": null
          }
        },
        "89115e6c4e2f412ebcdab6d661cd0799": {
          "model_module": "@jupyter-widgets/controls",
          "model_name": "DescriptionStyleModel",
          "state": {
            "_view_name": "StyleView",
            "_model_name": "DescriptionStyleModel",
            "description_width": "",
            "_view_module": "@jupyter-widgets/base",
            "_model_module_version": "1.5.0",
            "_view_count": null,
            "_view_module_version": "1.2.0",
            "_model_module": "@jupyter-widgets/controls"
          }
        },
        "af7c1fce0561482da7eee5f2be8bda6f": {
          "model_module": "@jupyter-widgets/base",
          "model_name": "LayoutModel",
          "state": {
            "_view_name": "LayoutView",
            "grid_template_rows": null,
            "right": null,
            "justify_content": null,
            "_view_module": "@jupyter-widgets/base",
            "overflow": null,
            "_model_module_version": "1.2.0",
            "_view_count": null,
            "flex_flow": null,
            "width": null,
            "min_width": null,
            "border": null,
            "align_items": null,
            "bottom": null,
            "_model_module": "@jupyter-widgets/base",
            "top": null,
            "grid_column": null,
            "overflow_y": null,
            "overflow_x": null,
            "grid_auto_flow": null,
            "grid_area": null,
            "grid_template_columns": null,
            "flex": null,
            "_model_name": "LayoutModel",
            "justify_items": null,
            "grid_row": null,
            "max_height": null,
            "align_content": null,
            "visibility": null,
            "align_self": null,
            "height": null,
            "min_height": null,
            "padding": null,
            "grid_auto_rows": null,
            "grid_gap": null,
            "max_width": null,
            "order": null,
            "_view_module_version": "1.2.0",
            "grid_template_areas": null,
            "object_position": null,
            "object_fit": null,
            "grid_auto_columns": null,
            "margin": null,
            "display": null,
            "left": null
          }
        },
        "96df7b556368495db9fe0bf70890db2b": {
          "model_module": "@jupyter-widgets/controls",
          "model_name": "HBoxModel",
          "state": {
            "_view_name": "HBoxView",
            "_dom_classes": [],
            "_model_name": "HBoxModel",
            "_view_module": "@jupyter-widgets/controls",
            "_model_module_version": "1.5.0",
            "_view_count": null,
            "_view_module_version": "1.5.0",
            "box_style": "",
            "layout": "IPY_MODEL_0e1ae2b358a7461faed72005b1f88a33",
            "_model_module": "@jupyter-widgets/controls",
            "children": [
              "IPY_MODEL_588b77fec72d44989d9ff27b562ad809",
              "IPY_MODEL_1f9229087b8242e9beda114dbb75f9dc",
              "IPY_MODEL_6f14f68a873544abbbcc3090c1664662",
              "IPY_MODEL_f5b9b05f1e144960ba217a890bb74404",
              "IPY_MODEL_b886cb11daee4494aa3a4546ec5001e6"
            ]
          }
        },
        "0e1ae2b358a7461faed72005b1f88a33": {
          "model_module": "@jupyter-widgets/base",
          "model_name": "LayoutModel",
          "state": {
            "_view_name": "LayoutView",
            "grid_template_rows": null,
            "right": null,
            "justify_content": null,
            "_view_module": "@jupyter-widgets/base",
            "overflow": null,
            "_model_module_version": "1.2.0",
            "_view_count": null,
            "flex_flow": null,
            "width": null,
            "min_width": null,
            "border": null,
            "align_items": null,
            "bottom": null,
            "_model_module": "@jupyter-widgets/base",
            "top": null,
            "grid_column": null,
            "overflow_y": null,
            "overflow_x": null,
            "grid_auto_flow": null,
            "grid_area": null,
            "grid_template_columns": null,
            "flex": null,
            "_model_name": "LayoutModel",
            "justify_items": null,
            "grid_row": null,
            "max_height": null,
            "align_content": null,
            "visibility": null,
            "align_self": null,
            "height": null,
            "min_height": null,
            "padding": null,
            "grid_auto_rows": null,
            "grid_gap": null,
            "max_width": null,
            "order": null,
            "_view_module_version": "1.2.0",
            "grid_template_areas": null,
            "object_position": null,
            "object_fit": null,
            "grid_auto_columns": null,
            "margin": null,
            "display": null,
            "left": null
          }
        },
        "588b77fec72d44989d9ff27b562ad809": {
          "model_module": "@jupyter-widgets/controls",
          "model_name": "VBoxModel",
          "state": {
            "_view_name": "VBoxView",
            "_dom_classes": [],
            "_model_name": "VBoxModel",
            "_view_module": "@jupyter-widgets/controls",
            "_model_module_version": "1.5.0",
            "_view_count": null,
            "_view_module_version": "1.5.0",
            "box_style": "",
            "layout": "IPY_MODEL_c8a416013afb4bc2959458b42f391f11",
            "_model_module": "@jupyter-widgets/controls",
            "children": [
              "IPY_MODEL_b0261e89b99b40d7954f6ace26656678",
              "IPY_MODEL_ca3b858e64754fdfb8791d846d560191",
              "IPY_MODEL_9d3d6372e5c3443390aef238f7847c74"
            ]
          }
        },
        "1f9229087b8242e9beda114dbb75f9dc": {
          "model_module": "@jupyter-widgets/controls",
          "model_name": "VBoxModel",
          "state": {
            "_view_name": "VBoxView",
            "_dom_classes": [],
            "_model_name": "VBoxModel",
            "_view_module": "@jupyter-widgets/controls",
            "_model_module_version": "1.5.0",
            "_view_count": null,
            "_view_module_version": "1.5.0",
            "box_style": "",
            "layout": "IPY_MODEL_c8a416013afb4bc2959458b42f391f11",
            "_model_module": "@jupyter-widgets/controls",
            "children": [
              "IPY_MODEL_f102ffd8526348d797776fd62beaeebc",
              "IPY_MODEL_e3cab15e9fbe4569a127168516001c71",
              "IPY_MODEL_de450457335549d29b22d68a71903c19"
            ]
          }
        },
        "6f14f68a873544abbbcc3090c1664662": {
          "model_module": "@jupyter-widgets/controls",
          "model_name": "VBoxModel",
          "state": {
            "_view_name": "VBoxView",
            "_dom_classes": [],
            "_model_name": "VBoxModel",
            "_view_module": "@jupyter-widgets/controls",
            "_model_module_version": "1.5.0",
            "_view_count": null,
            "_view_module_version": "1.5.0",
            "box_style": "",
            "layout": "IPY_MODEL_c8a416013afb4bc2959458b42f391f11",
            "_model_module": "@jupyter-widgets/controls",
            "children": [
              "IPY_MODEL_90b6aca2d5574ad3a2d82dbbc8c63361",
              "IPY_MODEL_75663716e87a4d478812173bd5761389",
              "IPY_MODEL_d1d261b61e5f4883b3f0433b4240e1c0"
            ]
          }
        },
        "f5b9b05f1e144960ba217a890bb74404": {
          "model_module": "@jupyter-widgets/controls",
          "model_name": "VBoxModel",
          "state": {
            "_view_name": "VBoxView",
            "_dom_classes": [],
            "_model_name": "VBoxModel",
            "_view_module": "@jupyter-widgets/controls",
            "_model_module_version": "1.5.0",
            "_view_count": null,
            "_view_module_version": "1.5.0",
            "box_style": "",
            "layout": "IPY_MODEL_c8a416013afb4bc2959458b42f391f11",
            "_model_module": "@jupyter-widgets/controls",
            "children": [
              "IPY_MODEL_ae4c4f9ae93c41cf92985c8244cbbf93",
              "IPY_MODEL_2f8e20d2b3ad49c5a90cf3933bc5cec1",
              "IPY_MODEL_3c15a3e5712d4090b87b39abda418813"
            ]
          }
        },
        "b886cb11daee4494aa3a4546ec5001e6": {
          "model_module": "@jupyter-widgets/controls",
          "model_name": "VBoxModel",
          "state": {
            "_view_name": "VBoxView",
            "_dom_classes": [],
            "_model_name": "VBoxModel",
            "_view_module": "@jupyter-widgets/controls",
            "_model_module_version": "1.5.0",
            "_view_count": null,
            "_view_module_version": "1.5.0",
            "box_style": "",
            "layout": "IPY_MODEL_c8a416013afb4bc2959458b42f391f11",
            "_model_module": "@jupyter-widgets/controls",
            "children": [
              "IPY_MODEL_7a466df93c724ec3bd26fb9fb32874d1",
              "IPY_MODEL_4acd69dd43654fbc979da7a43583ea85",
              "IPY_MODEL_95dbee83dcfb4142987217b3b7a974ec"
            ]
          }
        },
        "c8a416013afb4bc2959458b42f391f11": {
          "model_module": "@jupyter-widgets/base",
          "model_name": "LayoutModel",
          "state": {
            "_view_name": "LayoutView",
            "grid_template_rows": null,
            "right": null,
            "justify_content": null,
            "_view_module": "@jupyter-widgets/base",
            "overflow": null,
            "_model_module_version": "1.2.0",
            "_view_count": null,
            "flex_flow": null,
            "width": "auto",
            "min_width": null,
            "border": null,
            "align_items": null,
            "bottom": null,
            "_model_module": "@jupyter-widgets/base",
            "top": null,
            "grid_column": null,
            "overflow_y": null,
            "overflow_x": "hidden",
            "grid_auto_flow": null,
            "grid_area": null,
            "grid_template_columns": null,
            "flex": null,
            "_model_name": "LayoutModel",
            "justify_items": null,
            "grid_row": null,
            "max_height": null,
            "align_content": null,
            "visibility": null,
            "align_self": null,
            "height": "300px",
            "min_height": null,
            "padding": null,
            "grid_auto_rows": null,
            "grid_gap": null,
            "max_width": null,
            "order": null,
            "_view_module_version": "1.2.0",
            "grid_template_areas": null,
            "object_position": null,
            "object_fit": null,
            "grid_auto_columns": null,
            "margin": null,
            "display": null,
            "left": null
          }
        },
        "b0261e89b99b40d7954f6ace26656678": {
          "model_module": "@jupyter-widgets/controls",
          "model_name": "ImageModel",
          "state": {
            "_view_name": "ImageView",
            "_dom_classes": [],
            "_model_name": "ImageModel",
            "format": "jpg",
            "_view_module": "@jupyter-widgets/controls",
            "_model_module_version": "1.5.0",
            "_view_count": null,
            "width": "",
            "_view_module_version": "1.5.0",
            "layout": "IPY_MODEL_00192d10357744d3bf9909b4be440d57",
            "height": "",
            "_model_module": "@jupyter-widgets/controls"
          }
        },
        "ca3b858e64754fdfb8791d846d560191": {
          "model_module": "@jupyter-widgets/controls",
          "model_name": "DropdownModel",
          "state": {
            "_options_labels": [
              "basketball",
              "football",
              "judo"
            ],
            "_view_name": "DropdownView",
            "style": "IPY_MODEL_5baae9ada82f4d72869ea8902298fffd",
            "_dom_classes": [],
            "description": "",
            "_model_name": "DropdownModel",
            "index": 1,
            "_view_module": "@jupyter-widgets/controls",
            "_model_module_version": "1.5.0",
            "_view_count": null,
            "disabled": false,
            "_view_module_version": "1.5.0",
            "description_tooltip": null,
            "_model_module": "@jupyter-widgets/controls",
            "layout": "IPY_MODEL_00fd6164990d4952b398dc48b0e53138"
          }
        },
        "9d3d6372e5c3443390aef238f7847c74": {
          "model_module": "@jupyter-widgets/controls",
          "model_name": "ButtonModel",
          "state": {
            "_view_name": "ButtonView",
            "style": "IPY_MODEL_09f1c2eb239041b98fb6bc812bc25f75",
            "_dom_classes": [],
            "description": "Delete",
            "_model_name": "ButtonModel",
            "button_style": "",
            "_view_module": "@jupyter-widgets/controls",
            "_model_module_version": "1.5.0",
            "tooltip": "",
            "_view_count": null,
            "disabled": false,
            "_view_module_version": "1.5.0",
            "layout": "IPY_MODEL_96ba921ca62b4af4aa79ad3491221a65",
            "_model_module": "@jupyter-widgets/controls",
            "icon": ""
          }
        },
        "f102ffd8526348d797776fd62beaeebc": {
          "model_module": "@jupyter-widgets/controls",
          "model_name": "ImageModel",
          "state": {
            "_view_name": "ImageView",
            "_dom_classes": [],
            "_model_name": "ImageModel",
            "format": "jpg",
            "_view_module": "@jupyter-widgets/controls",
            "_model_module_version": "1.5.0",
            "_view_count": null,
            "width": "",
            "_view_module_version": "1.5.0",
            "layout": "IPY_MODEL_00192d10357744d3bf9909b4be440d57",
            "height": "",
            "_model_module": "@jupyter-widgets/controls"
          }
        },
        "e3cab15e9fbe4569a127168516001c71": {
          "model_module": "@jupyter-widgets/controls",
          "model_name": "DropdownModel",
          "state": {
            "_options_labels": [
              "basketball",
              "football",
              "judo"
            ],
            "_view_name": "DropdownView",
            "style": "IPY_MODEL_1a9dda0876734b9a957c60ee7056f277",
            "_dom_classes": [],
            "description": "",
            "_model_name": "DropdownModel",
            "index": 1,
            "_view_module": "@jupyter-widgets/controls",
            "_model_module_version": "1.5.0",
            "_view_count": null,
            "disabled": false,
            "_view_module_version": "1.5.0",
            "description_tooltip": null,
            "_model_module": "@jupyter-widgets/controls",
            "layout": "IPY_MODEL_00fd6164990d4952b398dc48b0e53138"
          }
        },
        "de450457335549d29b22d68a71903c19": {
          "model_module": "@jupyter-widgets/controls",
          "model_name": "ButtonModel",
          "state": {
            "_view_name": "ButtonView",
            "style": "IPY_MODEL_12138ceb60e744e381ec88f223260738",
            "_dom_classes": [],
            "description": "Delete",
            "_model_name": "ButtonModel",
            "button_style": "",
            "_view_module": "@jupyter-widgets/controls",
            "_model_module_version": "1.5.0",
            "tooltip": "",
            "_view_count": null,
            "disabled": false,
            "_view_module_version": "1.5.0",
            "layout": "IPY_MODEL_96ba921ca62b4af4aa79ad3491221a65",
            "_model_module": "@jupyter-widgets/controls",
            "icon": ""
          }
        },
        "90b6aca2d5574ad3a2d82dbbc8c63361": {
          "model_module": "@jupyter-widgets/controls",
          "model_name": "ImageModel",
          "state": {
            "_view_name": "ImageView",
            "_dom_classes": [],
            "_model_name": "ImageModel",
            "format": "jpg",
            "_view_module": "@jupyter-widgets/controls",
            "_model_module_version": "1.5.0",
            "_view_count": null,
            "width": "",
            "_view_module_version": "1.5.0",
            "layout": "IPY_MODEL_00192d10357744d3bf9909b4be440d57",
            "height": "",
            "_model_module": "@jupyter-widgets/controls"
          }
        },
        "75663716e87a4d478812173bd5761389": {
          "model_module": "@jupyter-widgets/controls",
          "model_name": "DropdownModel",
          "state": {
            "_options_labels": [
              "basketball",
              "football",
              "judo"
            ],
            "_view_name": "DropdownView",
            "style": "IPY_MODEL_144e685764c14629ae22e7f50c433959",
            "_dom_classes": [],
            "description": "",
            "_model_name": "DropdownModel",
            "index": 0,
            "_view_module": "@jupyter-widgets/controls",
            "_model_module_version": "1.5.0",
            "_view_count": null,
            "disabled": false,
            "_view_module_version": "1.5.0",
            "description_tooltip": null,
            "_model_module": "@jupyter-widgets/controls",
            "layout": "IPY_MODEL_00fd6164990d4952b398dc48b0e53138"
          }
        },
        "d1d261b61e5f4883b3f0433b4240e1c0": {
          "model_module": "@jupyter-widgets/controls",
          "model_name": "ButtonModel",
          "state": {
            "_view_name": "ButtonView",
            "style": "IPY_MODEL_5925d52e55964e84bca4bee03a44de09",
            "_dom_classes": [],
            "description": "Delete",
            "_model_name": "ButtonModel",
            "button_style": "",
            "_view_module": "@jupyter-widgets/controls",
            "_model_module_version": "1.5.0",
            "tooltip": "",
            "_view_count": null,
            "disabled": false,
            "_view_module_version": "1.5.0",
            "layout": "IPY_MODEL_96ba921ca62b4af4aa79ad3491221a65",
            "_model_module": "@jupyter-widgets/controls",
            "icon": ""
          }
        },
        "ae4c4f9ae93c41cf92985c8244cbbf93": {
          "model_module": "@jupyter-widgets/controls",
          "model_name": "ImageModel",
          "state": {
            "_view_name": "ImageView",
            "_dom_classes": [],
            "_model_name": "ImageModel",
            "format": "jpg",
            "_view_module": "@jupyter-widgets/controls",
            "_model_module_version": "1.5.0",
            "_view_count": null,
            "width": "",
            "_view_module_version": "1.5.0",
            "layout": "IPY_MODEL_00192d10357744d3bf9909b4be440d57",
            "height": "",
            "_model_module": "@jupyter-widgets/controls"
          }
        },
        "2f8e20d2b3ad49c5a90cf3933bc5cec1": {
          "model_module": "@jupyter-widgets/controls",
          "model_name": "DropdownModel",
          "state": {
            "_options_labels": [
              "basketball",
              "football",
              "judo"
            ],
            "_view_name": "DropdownView",
            "style": "IPY_MODEL_86e0a0392f23447cb6dcf97580f77998",
            "_dom_classes": [],
            "description": "",
            "_model_name": "DropdownModel",
            "index": 1,
            "_view_module": "@jupyter-widgets/controls",
            "_model_module_version": "1.5.0",
            "_view_count": null,
            "disabled": false,
            "_view_module_version": "1.5.0",
            "description_tooltip": null,
            "_model_module": "@jupyter-widgets/controls",
            "layout": "IPY_MODEL_00fd6164990d4952b398dc48b0e53138"
          }
        },
        "3c15a3e5712d4090b87b39abda418813": {
          "model_module": "@jupyter-widgets/controls",
          "model_name": "ButtonModel",
          "state": {
            "_view_name": "ButtonView",
            "style": "IPY_MODEL_498b5e190d444cadb3299e93211e53ba",
            "_dom_classes": [],
            "description": "Delete",
            "_model_name": "ButtonModel",
            "button_style": "",
            "_view_module": "@jupyter-widgets/controls",
            "_model_module_version": "1.5.0",
            "tooltip": "",
            "_view_count": null,
            "disabled": false,
            "_view_module_version": "1.5.0",
            "layout": "IPY_MODEL_96ba921ca62b4af4aa79ad3491221a65",
            "_model_module": "@jupyter-widgets/controls",
            "icon": ""
          }
        },
        "7a466df93c724ec3bd26fb9fb32874d1": {
          "model_module": "@jupyter-widgets/controls",
          "model_name": "ImageModel",
          "state": {
            "_view_name": "ImageView",
            "_dom_classes": [],
            "_model_name": "ImageModel",
            "format": "jpg",
            "_view_module": "@jupyter-widgets/controls",
            "_model_module_version": "1.5.0",
            "_view_count": null,
            "width": "",
            "_view_module_version": "1.5.0",
            "layout": "IPY_MODEL_00192d10357744d3bf9909b4be440d57",
            "height": "",
            "_model_module": "@jupyter-widgets/controls"
          }
        },
        "4acd69dd43654fbc979da7a43583ea85": {
          "model_module": "@jupyter-widgets/controls",
          "model_name": "DropdownModel",
          "state": {
            "_options_labels": [
              "basketball",
              "football",
              "judo"
            ],
            "_view_name": "DropdownView",
            "style": "IPY_MODEL_06ff8d8aa98340a68fe8c436f08c588d",
            "_dom_classes": [],
            "description": "",
            "_model_name": "DropdownModel",
            "index": 1,
            "_view_module": "@jupyter-widgets/controls",
            "_model_module_version": "1.5.0",
            "_view_count": null,
            "disabled": false,
            "_view_module_version": "1.5.0",
            "description_tooltip": null,
            "_model_module": "@jupyter-widgets/controls",
            "layout": "IPY_MODEL_00fd6164990d4952b398dc48b0e53138"
          }
        },
        "95dbee83dcfb4142987217b3b7a974ec": {
          "model_module": "@jupyter-widgets/controls",
          "model_name": "ButtonModel",
          "state": {
            "_view_name": "ButtonView",
            "style": "IPY_MODEL_43fb17d9e6944d8c8dbbfd8821f99abf",
            "_dom_classes": [],
            "description": "Delete",
            "_model_name": "ButtonModel",
            "button_style": "",
            "_view_module": "@jupyter-widgets/controls",
            "_model_module_version": "1.5.0",
            "tooltip": "",
            "_view_count": null,
            "disabled": false,
            "_view_module_version": "1.5.0",
            "layout": "IPY_MODEL_96ba921ca62b4af4aa79ad3491221a65",
            "_model_module": "@jupyter-widgets/controls",
            "icon": ""
          }
        },
        "00192d10357744d3bf9909b4be440d57": {
          "model_module": "@jupyter-widgets/base",
          "model_name": "LayoutModel",
          "state": {
            "_view_name": "LayoutView",
            "grid_template_rows": null,
            "right": null,
            "justify_content": null,
            "_view_module": "@jupyter-widgets/base",
            "overflow": null,
            "_model_module_version": "1.2.0",
            "_view_count": null,
            "flex_flow": null,
            "width": "300px",
            "min_width": null,
            "border": null,
            "align_items": null,
            "bottom": null,
            "_model_module": "@jupyter-widgets/base",
            "top": null,
            "grid_column": null,
            "overflow_y": null,
            "overflow_x": null,
            "grid_auto_flow": null,
            "grid_area": null,
            "grid_template_columns": null,
            "flex": null,
            "_model_name": "LayoutModel",
            "justify_items": null,
            "grid_row": null,
            "max_height": null,
            "align_content": null,
            "visibility": null,
            "align_self": null,
            "height": "250px",
            "min_height": null,
            "padding": null,
            "grid_auto_rows": null,
            "grid_gap": null,
            "max_width": null,
            "order": null,
            "_view_module_version": "1.2.0",
            "grid_template_areas": null,
            "object_position": null,
            "object_fit": null,
            "grid_auto_columns": null,
            "margin": null,
            "display": null,
            "left": null
          }
        },
        "5baae9ada82f4d72869ea8902298fffd": {
          "model_module": "@jupyter-widgets/controls",
          "model_name": "DescriptionStyleModel",
          "state": {
            "_view_name": "StyleView",
            "_model_name": "DescriptionStyleModel",
            "description_width": "",
            "_view_module": "@jupyter-widgets/base",
            "_model_module_version": "1.5.0",
            "_view_count": null,
            "_view_module_version": "1.2.0",
            "_model_module": "@jupyter-widgets/controls"
          }
        },
        "00fd6164990d4952b398dc48b0e53138": {
          "model_module": "@jupyter-widgets/base",
          "model_name": "LayoutModel",
          "state": {
            "_view_name": "LayoutView",
            "grid_template_rows": null,
            "right": null,
            "justify_content": null,
            "_view_module": "@jupyter-widgets/base",
            "overflow": null,
            "_model_module_version": "1.2.0",
            "_view_count": null,
            "flex_flow": null,
            "width": "auto",
            "min_width": null,
            "border": null,
            "align_items": null,
            "bottom": null,
            "_model_module": "@jupyter-widgets/base",
            "top": null,
            "grid_column": null,
            "overflow_y": null,
            "overflow_x": null,
            "grid_auto_flow": null,
            "grid_area": null,
            "grid_template_columns": null,
            "flex": null,
            "_model_name": "LayoutModel",
            "justify_items": null,
            "grid_row": null,
            "max_height": null,
            "align_content": null,
            "visibility": null,
            "align_self": null,
            "height": null,
            "min_height": null,
            "padding": null,
            "grid_auto_rows": null,
            "grid_gap": null,
            "max_width": null,
            "order": null,
            "_view_module_version": "1.2.0",
            "grid_template_areas": null,
            "object_position": null,
            "object_fit": null,
            "grid_auto_columns": null,
            "margin": null,
            "display": null,
            "left": null
          }
        },
        "09f1c2eb239041b98fb6bc812bc25f75": {
          "model_module": "@jupyter-widgets/controls",
          "model_name": "ButtonStyleModel",
          "state": {
            "_view_name": "StyleView",
            "_model_name": "ButtonStyleModel",
            "_view_module": "@jupyter-widgets/base",
            "_model_module_version": "1.5.0",
            "_view_count": null,
            "button_color": null,
            "font_weight": "",
            "_view_module_version": "1.2.0",
            "_model_module": "@jupyter-widgets/controls"
          }
        },
        "96ba921ca62b4af4aa79ad3491221a65": {
          "model_module": "@jupyter-widgets/base",
          "model_name": "LayoutModel",
          "state": {
            "_view_name": "LayoutView",
            "grid_template_rows": null,
            "right": null,
            "justify_content": null,
            "_view_module": "@jupyter-widgets/base",
            "overflow": null,
            "_model_module_version": "1.2.0",
            "_view_count": null,
            "flex_flow": null,
            "width": "auto",
            "min_width": null,
            "border": null,
            "align_items": null,
            "bottom": null,
            "_model_module": "@jupyter-widgets/base",
            "top": null,
            "grid_column": null,
            "overflow_y": null,
            "overflow_x": null,
            "grid_auto_flow": null,
            "grid_area": null,
            "grid_template_columns": null,
            "flex": null,
            "_model_name": "LayoutModel",
            "justify_items": null,
            "grid_row": null,
            "max_height": null,
            "align_content": null,
            "visibility": null,
            "align_self": null,
            "height": null,
            "min_height": null,
            "padding": null,
            "grid_auto_rows": null,
            "grid_gap": null,
            "max_width": null,
            "order": null,
            "_view_module_version": "1.2.0",
            "grid_template_areas": null,
            "object_position": null,
            "object_fit": null,
            "grid_auto_columns": null,
            "margin": null,
            "display": null,
            "left": null
          }
        },
        "1a9dda0876734b9a957c60ee7056f277": {
          "model_module": "@jupyter-widgets/controls",
          "model_name": "DescriptionStyleModel",
          "state": {
            "_view_name": "StyleView",
            "_model_name": "DescriptionStyleModel",
            "description_width": "",
            "_view_module": "@jupyter-widgets/base",
            "_model_module_version": "1.5.0",
            "_view_count": null,
            "_view_module_version": "1.2.0",
            "_model_module": "@jupyter-widgets/controls"
          }
        },
        "12138ceb60e744e381ec88f223260738": {
          "model_module": "@jupyter-widgets/controls",
          "model_name": "ButtonStyleModel",
          "state": {
            "_view_name": "StyleView",
            "_model_name": "ButtonStyleModel",
            "_view_module": "@jupyter-widgets/base",
            "_model_module_version": "1.5.0",
            "_view_count": null,
            "button_color": null,
            "font_weight": "",
            "_view_module_version": "1.2.0",
            "_model_module": "@jupyter-widgets/controls"
          }
        },
        "144e685764c14629ae22e7f50c433959": {
          "model_module": "@jupyter-widgets/controls",
          "model_name": "DescriptionStyleModel",
          "state": {
            "_view_name": "StyleView",
            "_model_name": "DescriptionStyleModel",
            "description_width": "",
            "_view_module": "@jupyter-widgets/base",
            "_model_module_version": "1.5.0",
            "_view_count": null,
            "_view_module_version": "1.2.0",
            "_model_module": "@jupyter-widgets/controls"
          }
        },
        "5925d52e55964e84bca4bee03a44de09": {
          "model_module": "@jupyter-widgets/controls",
          "model_name": "ButtonStyleModel",
          "state": {
            "_view_name": "StyleView",
            "_model_name": "ButtonStyleModel",
            "_view_module": "@jupyter-widgets/base",
            "_model_module_version": "1.5.0",
            "_view_count": null,
            "button_color": null,
            "font_weight": "",
            "_view_module_version": "1.2.0",
            "_model_module": "@jupyter-widgets/controls"
          }
        },
        "86e0a0392f23447cb6dcf97580f77998": {
          "model_module": "@jupyter-widgets/controls",
          "model_name": "DescriptionStyleModel",
          "state": {
            "_view_name": "StyleView",
            "_model_name": "DescriptionStyleModel",
            "description_width": "",
            "_view_module": "@jupyter-widgets/base",
            "_model_module_version": "1.5.0",
            "_view_count": null,
            "_view_module_version": "1.2.0",
            "_model_module": "@jupyter-widgets/controls"
          }
        },
        "498b5e190d444cadb3299e93211e53ba": {
          "model_module": "@jupyter-widgets/controls",
          "model_name": "ButtonStyleModel",
          "state": {
            "_view_name": "StyleView",
            "_model_name": "ButtonStyleModel",
            "_view_module": "@jupyter-widgets/base",
            "_model_module_version": "1.5.0",
            "_view_count": null,
            "button_color": null,
            "font_weight": "",
            "_view_module_version": "1.2.0",
            "_model_module": "@jupyter-widgets/controls"
          }
        },
        "06ff8d8aa98340a68fe8c436f08c588d": {
          "model_module": "@jupyter-widgets/controls",
          "model_name": "DescriptionStyleModel",
          "state": {
            "_view_name": "StyleView",
            "_model_name": "DescriptionStyleModel",
            "description_width": "",
            "_view_module": "@jupyter-widgets/base",
            "_model_module_version": "1.5.0",
            "_view_count": null,
            "_view_module_version": "1.2.0",
            "_model_module": "@jupyter-widgets/controls"
          }
        },
        "43fb17d9e6944d8c8dbbfd8821f99abf": {
          "model_module": "@jupyter-widgets/controls",
          "model_name": "ButtonStyleModel",
          "state": {
            "_view_name": "StyleView",
            "_model_name": "ButtonStyleModel",
            "_view_module": "@jupyter-widgets/base",
            "_model_module_version": "1.5.0",
            "_view_count": null,
            "button_color": null,
            "font_weight": "",
            "_view_module_version": "1.2.0",
            "_model_module": "@jupyter-widgets/controls"
          }
        },
        "da9179cf798a4d46a15b1cb399fe5758": {
          "model_module": "@jupyter-widgets/controls",
          "model_name": "ButtonModel",
          "state": {
            "_view_name": "ButtonView",
            "style": "IPY_MODEL_3d672398533048b5af515d856aaa28bf",
            "_dom_classes": [],
            "description": "Next Batch",
            "_model_name": "ButtonModel",
            "button_style": "primary",
            "_view_module": "@jupyter-widgets/controls",
            "_model_module_version": "1.5.0",
            "tooltip": "",
            "_view_count": null,
            "disabled": false,
            "_view_module_version": "1.5.0",
            "layout": "IPY_MODEL_96ba921ca62b4af4aa79ad3491221a65",
            "_model_module": "@jupyter-widgets/controls",
            "icon": ""
          }
        },
        "3d672398533048b5af515d856aaa28bf": {
          "model_module": "@jupyter-widgets/controls",
          "model_name": "ButtonStyleModel",
          "state": {
            "_view_name": "StyleView",
            "_model_name": "ButtonStyleModel",
            "_view_module": "@jupyter-widgets/base",
            "_model_module_version": "1.5.0",
            "_view_count": null,
            "button_color": null,
            "font_weight": "",
            "_view_module_version": "1.2.0",
            "_model_module": "@jupyter-widgets/controls"
          }
        },
        "65ffa0fe443f496c8c0960cabfc778a8": {
          "model_module": "@jupyter-widgets/controls",
          "model_name": "HBoxModel",
          "state": {
            "_view_name": "HBoxView",
            "_dom_classes": [],
            "_model_name": "HBoxModel",
            "_view_module": "@jupyter-widgets/controls",
            "_model_module_version": "1.5.0",
            "_view_count": null,
            "_view_module_version": "1.5.0",
            "box_style": "",
            "layout": "IPY_MODEL_0e1ae2b358a7461faed72005b1f88a33",
            "_model_module": "@jupyter-widgets/controls",
            "children": [
              "IPY_MODEL_ebf3e5f9c36f4b3fa52e0b9e1d8a2a11",
              "IPY_MODEL_929cdec0ac1c4200b32d98b4d56a91dd",
              "IPY_MODEL_09d258e3d37f424e8b30997e288e6331",
              "IPY_MODEL_9672f3463f0048ffaffa1bb48cf7f76a",
              "IPY_MODEL_2c7f0fd487a442ec8600de12ffec9498"
            ]
          }
        },
        "ebf3e5f9c36f4b3fa52e0b9e1d8a2a11": {
          "model_module": "@jupyter-widgets/controls",
          "model_name": "VBoxModel",
          "state": {
            "_view_name": "VBoxView",
            "_dom_classes": [],
            "_model_name": "VBoxModel",
            "_view_module": "@jupyter-widgets/controls",
            "_model_module_version": "1.5.0",
            "_view_count": null,
            "_view_module_version": "1.5.0",
            "box_style": "",
            "layout": "IPY_MODEL_c8a416013afb4bc2959458b42f391f11",
            "_model_module": "@jupyter-widgets/controls",
            "children": [
              "IPY_MODEL_480cd38f7f5e4beface6169380937d62",
              "IPY_MODEL_54dcc6db4f194c18b1174afac37f4a1e",
              "IPY_MODEL_536e9d8fa09548cc8d4dc9503b3c1304"
            ]
          }
        },
        "929cdec0ac1c4200b32d98b4d56a91dd": {
          "model_module": "@jupyter-widgets/controls",
          "model_name": "VBoxModel",
          "state": {
            "_view_name": "VBoxView",
            "_dom_classes": [],
            "_model_name": "VBoxModel",
            "_view_module": "@jupyter-widgets/controls",
            "_model_module_version": "1.5.0",
            "_view_count": null,
            "_view_module_version": "1.5.0",
            "box_style": "",
            "layout": "IPY_MODEL_c8a416013afb4bc2959458b42f391f11",
            "_model_module": "@jupyter-widgets/controls",
            "children": [
              "IPY_MODEL_89658f8cff84469d8b0044fdcc6baad9",
              "IPY_MODEL_c777244dcc4d42ffbb04fc681a09e442",
              "IPY_MODEL_eed3636cebf84b0c97c5f279eded6f74"
            ]
          }
        },
        "09d258e3d37f424e8b30997e288e6331": {
          "model_module": "@jupyter-widgets/controls",
          "model_name": "VBoxModel",
          "state": {
            "_view_name": "VBoxView",
            "_dom_classes": [],
            "_model_name": "VBoxModel",
            "_view_module": "@jupyter-widgets/controls",
            "_model_module_version": "1.5.0",
            "_view_count": null,
            "_view_module_version": "1.5.0",
            "box_style": "",
            "layout": "IPY_MODEL_c8a416013afb4bc2959458b42f391f11",
            "_model_module": "@jupyter-widgets/controls",
            "children": [
              "IPY_MODEL_7dbc57b217cc449388c005f1efd86798",
              "IPY_MODEL_21eb7c60e76d47fa8ba13f67df9416bd",
              "IPY_MODEL_98d58548cbed45ad9a3208f4dddffcf4"
            ]
          }
        },
        "9672f3463f0048ffaffa1bb48cf7f76a": {
          "model_module": "@jupyter-widgets/controls",
          "model_name": "VBoxModel",
          "state": {
            "_view_name": "VBoxView",
            "_dom_classes": [],
            "_model_name": "VBoxModel",
            "_view_module": "@jupyter-widgets/controls",
            "_model_module_version": "1.5.0",
            "_view_count": null,
            "_view_module_version": "1.5.0",
            "box_style": "",
            "layout": "IPY_MODEL_c8a416013afb4bc2959458b42f391f11",
            "_model_module": "@jupyter-widgets/controls",
            "children": [
              "IPY_MODEL_c67eed14bd30436c9d1381fbc797323e",
              "IPY_MODEL_4831bbf72e734cf9951984df0ce98ef4",
              "IPY_MODEL_d573fa4196124b0ca49f562c350ff7c9"
            ]
          }
        },
        "2c7f0fd487a442ec8600de12ffec9498": {
          "model_module": "@jupyter-widgets/controls",
          "model_name": "VBoxModel",
          "state": {
            "_view_name": "VBoxView",
            "_dom_classes": [],
            "_model_name": "VBoxModel",
            "_view_module": "@jupyter-widgets/controls",
            "_model_module_version": "1.5.0",
            "_view_count": null,
            "_view_module_version": "1.5.0",
            "box_style": "",
            "layout": "IPY_MODEL_c8a416013afb4bc2959458b42f391f11",
            "_model_module": "@jupyter-widgets/controls",
            "children": [
              "IPY_MODEL_69a362e09ed846b89441e1f978a3f700",
              "IPY_MODEL_5668ecea21dc41c592c9cd51128564fc",
              "IPY_MODEL_84224e6c556749848488efcaf8d025b2"
            ]
          }
        },
        "480cd38f7f5e4beface6169380937d62": {
          "model_module": "@jupyter-widgets/controls",
          "model_name": "ImageModel",
          "state": {
            "_view_name": "ImageView",
            "_dom_classes": [],
            "_model_name": "ImageModel",
            "format": "jpg",
            "_view_module": "@jupyter-widgets/controls",
            "_model_module_version": "1.5.0",
            "_view_count": null,
            "width": "",
            "_view_module_version": "1.5.0",
            "layout": "IPY_MODEL_00192d10357744d3bf9909b4be440d57",
            "height": "",
            "_model_module": "@jupyter-widgets/controls"
          }
        },
        "54dcc6db4f194c18b1174afac37f4a1e": {
          "model_module": "@jupyter-widgets/controls",
          "model_name": "DropdownModel",
          "state": {
            "_options_labels": [
              "basketball",
              "football",
              "judo"
            ],
            "_view_name": "DropdownView",
            "style": "IPY_MODEL_2c2c01755afb48afadc9f7942f5f930a",
            "_dom_classes": [],
            "description": "",
            "_model_name": "DropdownModel",
            "index": 1,
            "_view_module": "@jupyter-widgets/controls",
            "_model_module_version": "1.5.0",
            "_view_count": null,
            "disabled": false,
            "_view_module_version": "1.5.0",
            "description_tooltip": null,
            "_model_module": "@jupyter-widgets/controls",
            "layout": "IPY_MODEL_00fd6164990d4952b398dc48b0e53138"
          }
        },
        "536e9d8fa09548cc8d4dc9503b3c1304": {
          "model_module": "@jupyter-widgets/controls",
          "model_name": "ButtonModel",
          "state": {
            "_view_name": "ButtonView",
            "style": "IPY_MODEL_92440aa8ef774c0884d323c9d3d50833",
            "_dom_classes": [],
            "description": "Delete",
            "_model_name": "ButtonModel",
            "button_style": "",
            "_view_module": "@jupyter-widgets/controls",
            "_model_module_version": "1.5.0",
            "tooltip": "",
            "_view_count": null,
            "disabled": false,
            "_view_module_version": "1.5.0",
            "layout": "IPY_MODEL_96ba921ca62b4af4aa79ad3491221a65",
            "_model_module": "@jupyter-widgets/controls",
            "icon": ""
          }
        },
        "89658f8cff84469d8b0044fdcc6baad9": {
          "model_module": "@jupyter-widgets/controls",
          "model_name": "ImageModel",
          "state": {
            "_view_name": "ImageView",
            "_dom_classes": [],
            "_model_name": "ImageModel",
            "format": "jpg",
            "_view_module": "@jupyter-widgets/controls",
            "_model_module_version": "1.5.0",
            "_view_count": null,
            "width": "",
            "_view_module_version": "1.5.0",
            "layout": "IPY_MODEL_00192d10357744d3bf9909b4be440d57",
            "height": "",
            "_model_module": "@jupyter-widgets/controls"
          }
        },
        "c777244dcc4d42ffbb04fc681a09e442": {
          "model_module": "@jupyter-widgets/controls",
          "model_name": "DropdownModel",
          "state": {
            "_options_labels": [
              "basketball",
              "football",
              "judo"
            ],
            "_view_name": "DropdownView",
            "style": "IPY_MODEL_5976f0925eaa452795d5d57a3310c224",
            "_dom_classes": [],
            "description": "",
            "_model_name": "DropdownModel",
            "index": 1,
            "_view_module": "@jupyter-widgets/controls",
            "_model_module_version": "1.5.0",
            "_view_count": null,
            "disabled": false,
            "_view_module_version": "1.5.0",
            "description_tooltip": null,
            "_model_module": "@jupyter-widgets/controls",
            "layout": "IPY_MODEL_00fd6164990d4952b398dc48b0e53138"
          }
        },
        "eed3636cebf84b0c97c5f279eded6f74": {
          "model_module": "@jupyter-widgets/controls",
          "model_name": "ButtonModel",
          "state": {
            "_view_name": "ButtonView",
            "style": "IPY_MODEL_48f47c03d2564864bc7b460ec422a728",
            "_dom_classes": [],
            "description": "Delete",
            "_model_name": "ButtonModel",
            "button_style": "",
            "_view_module": "@jupyter-widgets/controls",
            "_model_module_version": "1.5.0",
            "tooltip": "",
            "_view_count": null,
            "disabled": false,
            "_view_module_version": "1.5.0",
            "layout": "IPY_MODEL_96ba921ca62b4af4aa79ad3491221a65",
            "_model_module": "@jupyter-widgets/controls",
            "icon": ""
          }
        },
        "7dbc57b217cc449388c005f1efd86798": {
          "model_module": "@jupyter-widgets/controls",
          "model_name": "ImageModel",
          "state": {
            "_view_name": "ImageView",
            "_dom_classes": [],
            "_model_name": "ImageModel",
            "format": "jpg",
            "_view_module": "@jupyter-widgets/controls",
            "_model_module_version": "1.5.0",
            "_view_count": null,
            "width": "",
            "_view_module_version": "1.5.0",
            "layout": "IPY_MODEL_00192d10357744d3bf9909b4be440d57",
            "height": "",
            "_model_module": "@jupyter-widgets/controls"
          }
        },
        "21eb7c60e76d47fa8ba13f67df9416bd": {
          "model_module": "@jupyter-widgets/controls",
          "model_name": "DropdownModel",
          "state": {
            "_options_labels": [
              "basketball",
              "football",
              "judo"
            ],
            "_view_name": "DropdownView",
            "style": "IPY_MODEL_f20c662433ee4ff798456faf8de4e987",
            "_dom_classes": [],
            "description": "",
            "_model_name": "DropdownModel",
            "index": 1,
            "_view_module": "@jupyter-widgets/controls",
            "_model_module_version": "1.5.0",
            "_view_count": null,
            "disabled": false,
            "_view_module_version": "1.5.0",
            "description_tooltip": null,
            "_model_module": "@jupyter-widgets/controls",
            "layout": "IPY_MODEL_00fd6164990d4952b398dc48b0e53138"
          }
        },
        "98d58548cbed45ad9a3208f4dddffcf4": {
          "model_module": "@jupyter-widgets/controls",
          "model_name": "ButtonModel",
          "state": {
            "_view_name": "ButtonView",
            "style": "IPY_MODEL_38ee3c467eb9451eb53e4c1161df8c42",
            "_dom_classes": [],
            "description": "Delete",
            "_model_name": "ButtonModel",
            "button_style": "",
            "_view_module": "@jupyter-widgets/controls",
            "_model_module_version": "1.5.0",
            "tooltip": "",
            "_view_count": null,
            "disabled": false,
            "_view_module_version": "1.5.0",
            "layout": "IPY_MODEL_96ba921ca62b4af4aa79ad3491221a65",
            "_model_module": "@jupyter-widgets/controls",
            "icon": ""
          }
        },
        "c67eed14bd30436c9d1381fbc797323e": {
          "model_module": "@jupyter-widgets/controls",
          "model_name": "ImageModel",
          "state": {
            "_view_name": "ImageView",
            "_dom_classes": [],
            "_model_name": "ImageModel",
            "format": "jpg",
            "_view_module": "@jupyter-widgets/controls",
            "_model_module_version": "1.5.0",
            "_view_count": null,
            "width": "",
            "_view_module_version": "1.5.0",
            "layout": "IPY_MODEL_00192d10357744d3bf9909b4be440d57",
            "height": "",
            "_model_module": "@jupyter-widgets/controls"
          }
        },
        "4831bbf72e734cf9951984df0ce98ef4": {
          "model_module": "@jupyter-widgets/controls",
          "model_name": "DropdownModel",
          "state": {
            "_options_labels": [
              "basketball",
              "football",
              "judo"
            ],
            "_view_name": "DropdownView",
            "style": "IPY_MODEL_6471202164914160971ba924b615bd07",
            "_dom_classes": [],
            "description": "",
            "_model_name": "DropdownModel",
            "index": 1,
            "_view_module": "@jupyter-widgets/controls",
            "_model_module_version": "1.5.0",
            "_view_count": null,
            "disabled": false,
            "_view_module_version": "1.5.0",
            "description_tooltip": null,
            "_model_module": "@jupyter-widgets/controls",
            "layout": "IPY_MODEL_00fd6164990d4952b398dc48b0e53138"
          }
        },
        "d573fa4196124b0ca49f562c350ff7c9": {
          "model_module": "@jupyter-widgets/controls",
          "model_name": "ButtonModel",
          "state": {
            "_view_name": "ButtonView",
            "style": "IPY_MODEL_ade0a91ab42044dabe1802f6bde971e0",
            "_dom_classes": [],
            "description": "Delete",
            "_model_name": "ButtonModel",
            "button_style": "",
            "_view_module": "@jupyter-widgets/controls",
            "_model_module_version": "1.5.0",
            "tooltip": "",
            "_view_count": null,
            "disabled": false,
            "_view_module_version": "1.5.0",
            "layout": "IPY_MODEL_96ba921ca62b4af4aa79ad3491221a65",
            "_model_module": "@jupyter-widgets/controls",
            "icon": ""
          }
        },
        "69a362e09ed846b89441e1f978a3f700": {
          "model_module": "@jupyter-widgets/controls",
          "model_name": "ImageModel",
          "state": {
            "_view_name": "ImageView",
            "_dom_classes": [],
            "_model_name": "ImageModel",
            "format": "jpg",
            "_view_module": "@jupyter-widgets/controls",
            "_model_module_version": "1.5.0",
            "_view_count": null,
            "width": "",
            "_view_module_version": "1.5.0",
            "layout": "IPY_MODEL_00192d10357744d3bf9909b4be440d57",
            "height": "",
            "_model_module": "@jupyter-widgets/controls"
          }
        },
        "5668ecea21dc41c592c9cd51128564fc": {
          "model_module": "@jupyter-widgets/controls",
          "model_name": "DropdownModel",
          "state": {
            "_options_labels": [
              "basketball",
              "football",
              "judo"
            ],
            "_view_name": "DropdownView",
            "style": "IPY_MODEL_e76f00f2a9974c34b2957873ba84071b",
            "_dom_classes": [],
            "description": "",
            "_model_name": "DropdownModel",
            "index": 0,
            "_view_module": "@jupyter-widgets/controls",
            "_model_module_version": "1.5.0",
            "_view_count": null,
            "disabled": false,
            "_view_module_version": "1.5.0",
            "description_tooltip": null,
            "_model_module": "@jupyter-widgets/controls",
            "layout": "IPY_MODEL_00fd6164990d4952b398dc48b0e53138"
          }
        },
        "84224e6c556749848488efcaf8d025b2": {
          "model_module": "@jupyter-widgets/controls",
          "model_name": "ButtonModel",
          "state": {
            "_view_name": "ButtonView",
            "style": "IPY_MODEL_e51aedbb7c054dec99abaeeda038bf74",
            "_dom_classes": [],
            "description": "Delete",
            "_model_name": "ButtonModel",
            "button_style": "",
            "_view_module": "@jupyter-widgets/controls",
            "_model_module_version": "1.5.0",
            "tooltip": "",
            "_view_count": null,
            "disabled": false,
            "_view_module_version": "1.5.0",
            "layout": "IPY_MODEL_96ba921ca62b4af4aa79ad3491221a65",
            "_model_module": "@jupyter-widgets/controls",
            "icon": ""
          }
        },
        "2c2c01755afb48afadc9f7942f5f930a": {
          "model_module": "@jupyter-widgets/controls",
          "model_name": "DescriptionStyleModel",
          "state": {
            "_view_name": "StyleView",
            "_model_name": "DescriptionStyleModel",
            "description_width": "",
            "_view_module": "@jupyter-widgets/base",
            "_model_module_version": "1.5.0",
            "_view_count": null,
            "_view_module_version": "1.2.0",
            "_model_module": "@jupyter-widgets/controls"
          }
        },
        "92440aa8ef774c0884d323c9d3d50833": {
          "model_module": "@jupyter-widgets/controls",
          "model_name": "ButtonStyleModel",
          "state": {
            "_view_name": "StyleView",
            "_model_name": "ButtonStyleModel",
            "_view_module": "@jupyter-widgets/base",
            "_model_module_version": "1.5.0",
            "_view_count": null,
            "button_color": null,
            "font_weight": "",
            "_view_module_version": "1.2.0",
            "_model_module": "@jupyter-widgets/controls"
          }
        },
        "5976f0925eaa452795d5d57a3310c224": {
          "model_module": "@jupyter-widgets/controls",
          "model_name": "DescriptionStyleModel",
          "state": {
            "_view_name": "StyleView",
            "_model_name": "DescriptionStyleModel",
            "description_width": "",
            "_view_module": "@jupyter-widgets/base",
            "_model_module_version": "1.5.0",
            "_view_count": null,
            "_view_module_version": "1.2.0",
            "_model_module": "@jupyter-widgets/controls"
          }
        },
        "48f47c03d2564864bc7b460ec422a728": {
          "model_module": "@jupyter-widgets/controls",
          "model_name": "ButtonStyleModel",
          "state": {
            "_view_name": "StyleView",
            "_model_name": "ButtonStyleModel",
            "_view_module": "@jupyter-widgets/base",
            "_model_module_version": "1.5.0",
            "_view_count": null,
            "button_color": null,
            "font_weight": "",
            "_view_module_version": "1.2.0",
            "_model_module": "@jupyter-widgets/controls"
          }
        },
        "f20c662433ee4ff798456faf8de4e987": {
          "model_module": "@jupyter-widgets/controls",
          "model_name": "DescriptionStyleModel",
          "state": {
            "_view_name": "StyleView",
            "_model_name": "DescriptionStyleModel",
            "description_width": "",
            "_view_module": "@jupyter-widgets/base",
            "_model_module_version": "1.5.0",
            "_view_count": null,
            "_view_module_version": "1.2.0",
            "_model_module": "@jupyter-widgets/controls"
          }
        },
        "38ee3c467eb9451eb53e4c1161df8c42": {
          "model_module": "@jupyter-widgets/controls",
          "model_name": "ButtonStyleModel",
          "state": {
            "_view_name": "StyleView",
            "_model_name": "ButtonStyleModel",
            "_view_module": "@jupyter-widgets/base",
            "_model_module_version": "1.5.0",
            "_view_count": null,
            "button_color": null,
            "font_weight": "",
            "_view_module_version": "1.2.0",
            "_model_module": "@jupyter-widgets/controls"
          }
        },
        "6471202164914160971ba924b615bd07": {
          "model_module": "@jupyter-widgets/controls",
          "model_name": "DescriptionStyleModel",
          "state": {
            "_view_name": "StyleView",
            "_model_name": "DescriptionStyleModel",
            "description_width": "",
            "_view_module": "@jupyter-widgets/base",
            "_model_module_version": "1.5.0",
            "_view_count": null,
            "_view_module_version": "1.2.0",
            "_model_module": "@jupyter-widgets/controls"
          }
        },
        "ade0a91ab42044dabe1802f6bde971e0": {
          "model_module": "@jupyter-widgets/controls",
          "model_name": "ButtonStyleModel",
          "state": {
            "_view_name": "StyleView",
            "_model_name": "ButtonStyleModel",
            "_view_module": "@jupyter-widgets/base",
            "_model_module_version": "1.5.0",
            "_view_count": null,
            "button_color": null,
            "font_weight": "",
            "_view_module_version": "1.2.0",
            "_model_module": "@jupyter-widgets/controls"
          }
        },
        "e76f00f2a9974c34b2957873ba84071b": {
          "model_module": "@jupyter-widgets/controls",
          "model_name": "DescriptionStyleModel",
          "state": {
            "_view_name": "StyleView",
            "_model_name": "DescriptionStyleModel",
            "description_width": "",
            "_view_module": "@jupyter-widgets/base",
            "_model_module_version": "1.5.0",
            "_view_count": null,
            "_view_module_version": "1.2.0",
            "_model_module": "@jupyter-widgets/controls"
          }
        },
        "e51aedbb7c054dec99abaeeda038bf74": {
          "model_module": "@jupyter-widgets/controls",
          "model_name": "ButtonStyleModel",
          "state": {
            "_view_name": "StyleView",
            "_model_name": "ButtonStyleModel",
            "_view_module": "@jupyter-widgets/base",
            "_model_module_version": "1.5.0",
            "_view_count": null,
            "button_color": null,
            "font_weight": "",
            "_view_module_version": "1.2.0",
            "_model_module": "@jupyter-widgets/controls"
          }
        },
        "40df02c3436b4f988f59157504eb6671": {
          "model_module": "@jupyter-widgets/controls",
          "model_name": "ButtonModel",
          "state": {
            "_view_name": "ButtonView",
            "style": "IPY_MODEL_953e14bcb84443779445dee88cd50f9a",
            "_dom_classes": [],
            "description": "Next Batch",
            "_model_name": "ButtonModel",
            "button_style": "primary",
            "_view_module": "@jupyter-widgets/controls",
            "_model_module_version": "1.5.0",
            "tooltip": "",
            "_view_count": null,
            "disabled": false,
            "_view_module_version": "1.5.0",
            "layout": "IPY_MODEL_96ba921ca62b4af4aa79ad3491221a65",
            "_model_module": "@jupyter-widgets/controls",
            "icon": ""
          }
        },
        "953e14bcb84443779445dee88cd50f9a": {
          "model_module": "@jupyter-widgets/controls",
          "model_name": "ButtonStyleModel",
          "state": {
            "_view_name": "StyleView",
            "_model_name": "ButtonStyleModel",
            "_view_module": "@jupyter-widgets/base",
            "_model_module_version": "1.5.0",
            "_view_count": null,
            "button_color": null,
            "font_weight": "",
            "_view_module_version": "1.2.0",
            "_model_module": "@jupyter-widgets/controls"
          }
        },
        "d4de0f9ce77c4130823c9e62d080dab2": {
          "model_module": "@jupyter-widgets/controls",
          "model_name": "HBoxModel",
          "state": {
            "_view_name": "HBoxView",
            "_dom_classes": [],
            "_model_name": "HBoxModel",
            "_view_module": "@jupyter-widgets/controls",
            "_model_module_version": "1.5.0",
            "_view_count": null,
            "_view_module_version": "1.5.0",
            "box_style": "",
            "layout": "IPY_MODEL_0e1ae2b358a7461faed72005b1f88a33",
            "_model_module": "@jupyter-widgets/controls",
            "children": [
              "IPY_MODEL_f38e32916d2d4690aac122fe009a3621",
              "IPY_MODEL_25c8f1ed07144f028b3a7dfd296461d9",
              "IPY_MODEL_fd5dc4ca9d4b4ca983590cda4fe7bc15",
              "IPY_MODEL_5c3f28d19db348088c569dba7239aec1",
              "IPY_MODEL_8cfaf4641f044970a7c7e5f347ec012f"
            ]
          }
        },
        "f38e32916d2d4690aac122fe009a3621": {
          "model_module": "@jupyter-widgets/controls",
          "model_name": "VBoxModel",
          "state": {
            "_view_name": "VBoxView",
            "_dom_classes": [],
            "_model_name": "VBoxModel",
            "_view_module": "@jupyter-widgets/controls",
            "_model_module_version": "1.5.0",
            "_view_count": null,
            "_view_module_version": "1.5.0",
            "box_style": "",
            "layout": "IPY_MODEL_c8a416013afb4bc2959458b42f391f11",
            "_model_module": "@jupyter-widgets/controls",
            "children": [
              "IPY_MODEL_50059ac3354c4f569e3e99480556a635",
              "IPY_MODEL_8ff4ce4a29624bbfa94d0661ef9b3fcd",
              "IPY_MODEL_8294000d60e24d318bffe21541e41118"
            ]
          }
        },
        "25c8f1ed07144f028b3a7dfd296461d9": {
          "model_module": "@jupyter-widgets/controls",
          "model_name": "VBoxModel",
          "state": {
            "_view_name": "VBoxView",
            "_dom_classes": [],
            "_model_name": "VBoxModel",
            "_view_module": "@jupyter-widgets/controls",
            "_model_module_version": "1.5.0",
            "_view_count": null,
            "_view_module_version": "1.5.0",
            "box_style": "",
            "layout": "IPY_MODEL_c8a416013afb4bc2959458b42f391f11",
            "_model_module": "@jupyter-widgets/controls",
            "children": [
              "IPY_MODEL_334a18ae33b242ef92ea682a52fa8209",
              "IPY_MODEL_e88f32ef545247c1b1be9ff9c2ebeceb",
              "IPY_MODEL_154b7a78ec6a433bbd0783a575fdafe4"
            ]
          }
        },
        "fd5dc4ca9d4b4ca983590cda4fe7bc15": {
          "model_module": "@jupyter-widgets/controls",
          "model_name": "VBoxModel",
          "state": {
            "_view_name": "VBoxView",
            "_dom_classes": [],
            "_model_name": "VBoxModel",
            "_view_module": "@jupyter-widgets/controls",
            "_model_module_version": "1.5.0",
            "_view_count": null,
            "_view_module_version": "1.5.0",
            "box_style": "",
            "layout": "IPY_MODEL_c8a416013afb4bc2959458b42f391f11",
            "_model_module": "@jupyter-widgets/controls",
            "children": [
              "IPY_MODEL_b1a20975633b4fd1ac696e844c33643d",
              "IPY_MODEL_23e1024c063e4c39829307876be52f1f",
              "IPY_MODEL_ff331c2cc82f4b208fd28906285a6eae"
            ]
          }
        },
        "5c3f28d19db348088c569dba7239aec1": {
          "model_module": "@jupyter-widgets/controls",
          "model_name": "VBoxModel",
          "state": {
            "_view_name": "VBoxView",
            "_dom_classes": [],
            "_model_name": "VBoxModel",
            "_view_module": "@jupyter-widgets/controls",
            "_model_module_version": "1.5.0",
            "_view_count": null,
            "_view_module_version": "1.5.0",
            "box_style": "",
            "layout": "IPY_MODEL_c8a416013afb4bc2959458b42f391f11",
            "_model_module": "@jupyter-widgets/controls",
            "children": [
              "IPY_MODEL_41d21687c43842c8bf204af6e35fc5f5",
              "IPY_MODEL_33d174330e42418b803e300ff4ba1d1a",
              "IPY_MODEL_2f133ab6b0d74e0b899c15aefb200491"
            ]
          }
        },
        "8cfaf4641f044970a7c7e5f347ec012f": {
          "model_module": "@jupyter-widgets/controls",
          "model_name": "VBoxModel",
          "state": {
            "_view_name": "VBoxView",
            "_dom_classes": [],
            "_model_name": "VBoxModel",
            "_view_module": "@jupyter-widgets/controls",
            "_model_module_version": "1.5.0",
            "_view_count": null,
            "_view_module_version": "1.5.0",
            "box_style": "",
            "layout": "IPY_MODEL_c8a416013afb4bc2959458b42f391f11",
            "_model_module": "@jupyter-widgets/controls",
            "children": [
              "IPY_MODEL_cb461d26d29343b0b7ec0d4f5022c935",
              "IPY_MODEL_f892ef9bdfed4c2c9f809a5a31b4010b",
              "IPY_MODEL_54ddad7b06eb4d40b9cde4b9d88f6357"
            ]
          }
        },
        "50059ac3354c4f569e3e99480556a635": {
          "model_module": "@jupyter-widgets/controls",
          "model_name": "ImageModel",
          "state": {
            "_view_name": "ImageView",
            "_dom_classes": [],
            "_model_name": "ImageModel",
            "format": "jpg",
            "_view_module": "@jupyter-widgets/controls",
            "_model_module_version": "1.5.0",
            "_view_count": null,
            "width": "",
            "_view_module_version": "1.5.0",
            "layout": "IPY_MODEL_00192d10357744d3bf9909b4be440d57",
            "height": "",
            "_model_module": "@jupyter-widgets/controls"
          }
        },
        "8ff4ce4a29624bbfa94d0661ef9b3fcd": {
          "model_module": "@jupyter-widgets/controls",
          "model_name": "DropdownModel",
          "state": {
            "_options_labels": [
              "basketball",
              "football",
              "judo"
            ],
            "_view_name": "DropdownView",
            "style": "IPY_MODEL_15eea4d613dd4e039be758b9f3eb3ddc",
            "_dom_classes": [],
            "description": "",
            "_model_name": "DropdownModel",
            "index": 1,
            "_view_module": "@jupyter-widgets/controls",
            "_model_module_version": "1.5.0",
            "_view_count": null,
            "disabled": false,
            "_view_module_version": "1.5.0",
            "description_tooltip": null,
            "_model_module": "@jupyter-widgets/controls",
            "layout": "IPY_MODEL_00fd6164990d4952b398dc48b0e53138"
          }
        },
        "8294000d60e24d318bffe21541e41118": {
          "model_module": "@jupyter-widgets/controls",
          "model_name": "ButtonModel",
          "state": {
            "_view_name": "ButtonView",
            "style": "IPY_MODEL_2dfe0005a8cb4bb3a5a23e9b577bc572",
            "_dom_classes": [],
            "description": "Delete",
            "_model_name": "ButtonModel",
            "button_style": "",
            "_view_module": "@jupyter-widgets/controls",
            "_model_module_version": "1.5.0",
            "tooltip": "",
            "_view_count": null,
            "disabled": false,
            "_view_module_version": "1.5.0",
            "layout": "IPY_MODEL_96ba921ca62b4af4aa79ad3491221a65",
            "_model_module": "@jupyter-widgets/controls",
            "icon": ""
          }
        },
        "334a18ae33b242ef92ea682a52fa8209": {
          "model_module": "@jupyter-widgets/controls",
          "model_name": "ImageModel",
          "state": {
            "_view_name": "ImageView",
            "_dom_classes": [],
            "_model_name": "ImageModel",
            "format": "jpg",
            "_view_module": "@jupyter-widgets/controls",
            "_model_module_version": "1.5.0",
            "_view_count": null,
            "width": "",
            "_view_module_version": "1.5.0",
            "layout": "IPY_MODEL_00192d10357744d3bf9909b4be440d57",
            "height": "",
            "_model_module": "@jupyter-widgets/controls"
          }
        },
        "e88f32ef545247c1b1be9ff9c2ebeceb": {
          "model_module": "@jupyter-widgets/controls",
          "model_name": "DropdownModel",
          "state": {
            "_options_labels": [
              "basketball",
              "football",
              "judo"
            ],
            "_view_name": "DropdownView",
            "style": "IPY_MODEL_df09ac668add4c19943ca223bc263293",
            "_dom_classes": [],
            "description": "",
            "_model_name": "DropdownModel",
            "index": 0,
            "_view_module": "@jupyter-widgets/controls",
            "_model_module_version": "1.5.0",
            "_view_count": null,
            "disabled": false,
            "_view_module_version": "1.5.0",
            "description_tooltip": null,
            "_model_module": "@jupyter-widgets/controls",
            "layout": "IPY_MODEL_00fd6164990d4952b398dc48b0e53138"
          }
        },
        "154b7a78ec6a433bbd0783a575fdafe4": {
          "model_module": "@jupyter-widgets/controls",
          "model_name": "ButtonModel",
          "state": {
            "_view_name": "ButtonView",
            "style": "IPY_MODEL_6548974c83eb498a94f31e44afe266bd",
            "_dom_classes": [],
            "description": "Delete",
            "_model_name": "ButtonModel",
            "button_style": "",
            "_view_module": "@jupyter-widgets/controls",
            "_model_module_version": "1.5.0",
            "tooltip": "",
            "_view_count": null,
            "disabled": false,
            "_view_module_version": "1.5.0",
            "layout": "IPY_MODEL_96ba921ca62b4af4aa79ad3491221a65",
            "_model_module": "@jupyter-widgets/controls",
            "icon": ""
          }
        },
        "b1a20975633b4fd1ac696e844c33643d": {
          "model_module": "@jupyter-widgets/controls",
          "model_name": "ImageModel",
          "state": {
            "_view_name": "ImageView",
            "_dom_classes": [],
            "_model_name": "ImageModel",
            "format": "jpg",
            "_view_module": "@jupyter-widgets/controls",
            "_model_module_version": "1.5.0",
            "_view_count": null,
            "width": "",
            "_view_module_version": "1.5.0",
            "layout": "IPY_MODEL_00192d10357744d3bf9909b4be440d57",
            "height": "",
            "_model_module": "@jupyter-widgets/controls"
          }
        },
        "23e1024c063e4c39829307876be52f1f": {
          "model_module": "@jupyter-widgets/controls",
          "model_name": "DropdownModel",
          "state": {
            "_options_labels": [
              "basketball",
              "football",
              "judo"
            ],
            "_view_name": "DropdownView",
            "style": "IPY_MODEL_81909503bcba4874a234f43c842ab4c6",
            "_dom_classes": [],
            "description": "",
            "_model_name": "DropdownModel",
            "index": 1,
            "_view_module": "@jupyter-widgets/controls",
            "_model_module_version": "1.5.0",
            "_view_count": null,
            "disabled": false,
            "_view_module_version": "1.5.0",
            "description_tooltip": null,
            "_model_module": "@jupyter-widgets/controls",
            "layout": "IPY_MODEL_00fd6164990d4952b398dc48b0e53138"
          }
        },
        "ff331c2cc82f4b208fd28906285a6eae": {
          "model_module": "@jupyter-widgets/controls",
          "model_name": "ButtonModel",
          "state": {
            "_view_name": "ButtonView",
            "style": "IPY_MODEL_4e9714fdef2243c49ecd3ff5b07819bd",
            "_dom_classes": [],
            "description": "Delete",
            "_model_name": "ButtonModel",
            "button_style": "",
            "_view_module": "@jupyter-widgets/controls",
            "_model_module_version": "1.5.0",
            "tooltip": "",
            "_view_count": null,
            "disabled": false,
            "_view_module_version": "1.5.0",
            "layout": "IPY_MODEL_96ba921ca62b4af4aa79ad3491221a65",
            "_model_module": "@jupyter-widgets/controls",
            "icon": ""
          }
        },
        "41d21687c43842c8bf204af6e35fc5f5": {
          "model_module": "@jupyter-widgets/controls",
          "model_name": "ImageModel",
          "state": {
            "_view_name": "ImageView",
            "_dom_classes": [],
            "_model_name": "ImageModel",
            "format": "jpg",
            "_view_module": "@jupyter-widgets/controls",
            "_model_module_version": "1.5.0",
            "_view_count": null,
            "width": "",
            "_view_module_version": "1.5.0",
            "layout": "IPY_MODEL_00192d10357744d3bf9909b4be440d57",
            "height": "",
            "_model_module": "@jupyter-widgets/controls"
          }
        },
        "33d174330e42418b803e300ff4ba1d1a": {
          "model_module": "@jupyter-widgets/controls",
          "model_name": "DropdownModel",
          "state": {
            "_options_labels": [
              "basketball",
              "football",
              "judo"
            ],
            "_view_name": "DropdownView",
            "style": "IPY_MODEL_91196eab8993414a80a5c081e0173257",
            "_dom_classes": [],
            "description": "",
            "_model_name": "DropdownModel",
            "index": 1,
            "_view_module": "@jupyter-widgets/controls",
            "_model_module_version": "1.5.0",
            "_view_count": null,
            "disabled": false,
            "_view_module_version": "1.5.0",
            "description_tooltip": null,
            "_model_module": "@jupyter-widgets/controls",
            "layout": "IPY_MODEL_00fd6164990d4952b398dc48b0e53138"
          }
        },
        "2f133ab6b0d74e0b899c15aefb200491": {
          "model_module": "@jupyter-widgets/controls",
          "model_name": "ButtonModel",
          "state": {
            "_view_name": "ButtonView",
            "style": "IPY_MODEL_bc006ca2a5144f929c18f3373c82e79d",
            "_dom_classes": [],
            "description": "Delete",
            "_model_name": "ButtonModel",
            "button_style": "",
            "_view_module": "@jupyter-widgets/controls",
            "_model_module_version": "1.5.0",
            "tooltip": "",
            "_view_count": null,
            "disabled": false,
            "_view_module_version": "1.5.0",
            "layout": "IPY_MODEL_96ba921ca62b4af4aa79ad3491221a65",
            "_model_module": "@jupyter-widgets/controls",
            "icon": ""
          }
        },
        "cb461d26d29343b0b7ec0d4f5022c935": {
          "model_module": "@jupyter-widgets/controls",
          "model_name": "ImageModel",
          "state": {
            "_view_name": "ImageView",
            "_dom_classes": [],
            "_model_name": "ImageModel",
            "format": "jpg",
            "_view_module": "@jupyter-widgets/controls",
            "_model_module_version": "1.5.0",
            "_view_count": null,
            "width": "",
            "_view_module_version": "1.5.0",
            "layout": "IPY_MODEL_00192d10357744d3bf9909b4be440d57",
            "height": "",
            "_model_module": "@jupyter-widgets/controls"
          }
        },
        "f892ef9bdfed4c2c9f809a5a31b4010b": {
          "model_module": "@jupyter-widgets/controls",
          "model_name": "DropdownModel",
          "state": {
            "_options_labels": [
              "basketball",
              "football",
              "judo"
            ],
            "_view_name": "DropdownView",
            "style": "IPY_MODEL_9fb2c9712c304924bf09dd1a68a1f028",
            "_dom_classes": [],
            "description": "",
            "_model_name": "DropdownModel",
            "index": 0,
            "_view_module": "@jupyter-widgets/controls",
            "_model_module_version": "1.5.0",
            "_view_count": null,
            "disabled": false,
            "_view_module_version": "1.5.0",
            "description_tooltip": null,
            "_model_module": "@jupyter-widgets/controls",
            "layout": "IPY_MODEL_00fd6164990d4952b398dc48b0e53138"
          }
        },
        "54ddad7b06eb4d40b9cde4b9d88f6357": {
          "model_module": "@jupyter-widgets/controls",
          "model_name": "ButtonModel",
          "state": {
            "_view_name": "ButtonView",
            "style": "IPY_MODEL_d2d4decb9b5646bbbc499b1c6d36974c",
            "_dom_classes": [],
            "description": "Delete",
            "_model_name": "ButtonModel",
            "button_style": "",
            "_view_module": "@jupyter-widgets/controls",
            "_model_module_version": "1.5.0",
            "tooltip": "",
            "_view_count": null,
            "disabled": false,
            "_view_module_version": "1.5.0",
            "layout": "IPY_MODEL_96ba921ca62b4af4aa79ad3491221a65",
            "_model_module": "@jupyter-widgets/controls",
            "icon": ""
          }
        },
        "15eea4d613dd4e039be758b9f3eb3ddc": {
          "model_module": "@jupyter-widgets/controls",
          "model_name": "DescriptionStyleModel",
          "state": {
            "_view_name": "StyleView",
            "_model_name": "DescriptionStyleModel",
            "description_width": "",
            "_view_module": "@jupyter-widgets/base",
            "_model_module_version": "1.5.0",
            "_view_count": null,
            "_view_module_version": "1.2.0",
            "_model_module": "@jupyter-widgets/controls"
          }
        },
        "2dfe0005a8cb4bb3a5a23e9b577bc572": {
          "model_module": "@jupyter-widgets/controls",
          "model_name": "ButtonStyleModel",
          "state": {
            "_view_name": "StyleView",
            "_model_name": "ButtonStyleModel",
            "_view_module": "@jupyter-widgets/base",
            "_model_module_version": "1.5.0",
            "_view_count": null,
            "button_color": null,
            "font_weight": "",
            "_view_module_version": "1.2.0",
            "_model_module": "@jupyter-widgets/controls"
          }
        },
        "df09ac668add4c19943ca223bc263293": {
          "model_module": "@jupyter-widgets/controls",
          "model_name": "DescriptionStyleModel",
          "state": {
            "_view_name": "StyleView",
            "_model_name": "DescriptionStyleModel",
            "description_width": "",
            "_view_module": "@jupyter-widgets/base",
            "_model_module_version": "1.5.0",
            "_view_count": null,
            "_view_module_version": "1.2.0",
            "_model_module": "@jupyter-widgets/controls"
          }
        },
        "6548974c83eb498a94f31e44afe266bd": {
          "model_module": "@jupyter-widgets/controls",
          "model_name": "ButtonStyleModel",
          "state": {
            "_view_name": "StyleView",
            "_model_name": "ButtonStyleModel",
            "_view_module": "@jupyter-widgets/base",
            "_model_module_version": "1.5.0",
            "_view_count": null,
            "button_color": null,
            "font_weight": "",
            "_view_module_version": "1.2.0",
            "_model_module": "@jupyter-widgets/controls"
          }
        },
        "81909503bcba4874a234f43c842ab4c6": {
          "model_module": "@jupyter-widgets/controls",
          "model_name": "DescriptionStyleModel",
          "state": {
            "_view_name": "StyleView",
            "_model_name": "DescriptionStyleModel",
            "description_width": "",
            "_view_module": "@jupyter-widgets/base",
            "_model_module_version": "1.5.0",
            "_view_count": null,
            "_view_module_version": "1.2.0",
            "_model_module": "@jupyter-widgets/controls"
          }
        },
        "4e9714fdef2243c49ecd3ff5b07819bd": {
          "model_module": "@jupyter-widgets/controls",
          "model_name": "ButtonStyleModel",
          "state": {
            "_view_name": "StyleView",
            "_model_name": "ButtonStyleModel",
            "_view_module": "@jupyter-widgets/base",
            "_model_module_version": "1.5.0",
            "_view_count": null,
            "button_color": null,
            "font_weight": "",
            "_view_module_version": "1.2.0",
            "_model_module": "@jupyter-widgets/controls"
          }
        },
        "91196eab8993414a80a5c081e0173257": {
          "model_module": "@jupyter-widgets/controls",
          "model_name": "DescriptionStyleModel",
          "state": {
            "_view_name": "StyleView",
            "_model_name": "DescriptionStyleModel",
            "description_width": "",
            "_view_module": "@jupyter-widgets/base",
            "_model_module_version": "1.5.0",
            "_view_count": null,
            "_view_module_version": "1.2.0",
            "_model_module": "@jupyter-widgets/controls"
          }
        },
        "bc006ca2a5144f929c18f3373c82e79d": {
          "model_module": "@jupyter-widgets/controls",
          "model_name": "ButtonStyleModel",
          "state": {
            "_view_name": "StyleView",
            "_model_name": "ButtonStyleModel",
            "_view_module": "@jupyter-widgets/base",
            "_model_module_version": "1.5.0",
            "_view_count": null,
            "button_color": null,
            "font_weight": "",
            "_view_module_version": "1.2.0",
            "_model_module": "@jupyter-widgets/controls"
          }
        },
        "9fb2c9712c304924bf09dd1a68a1f028": {
          "model_module": "@jupyter-widgets/controls",
          "model_name": "DescriptionStyleModel",
          "state": {
            "_view_name": "StyleView",
            "_model_name": "DescriptionStyleModel",
            "description_width": "",
            "_view_module": "@jupyter-widgets/base",
            "_model_module_version": "1.5.0",
            "_view_count": null,
            "_view_module_version": "1.2.0",
            "_model_module": "@jupyter-widgets/controls"
          }
        },
        "d2d4decb9b5646bbbc499b1c6d36974c": {
          "model_module": "@jupyter-widgets/controls",
          "model_name": "ButtonStyleModel",
          "state": {
            "_view_name": "StyleView",
            "_model_name": "ButtonStyleModel",
            "_view_module": "@jupyter-widgets/base",
            "_model_module_version": "1.5.0",
            "_view_count": null,
            "button_color": null,
            "font_weight": "",
            "_view_module_version": "1.2.0",
            "_model_module": "@jupyter-widgets/controls"
          }
        },
        "23e429067f8e41ff899bef364dda6695": {
          "model_module": "@jupyter-widgets/controls",
          "model_name": "ButtonModel",
          "state": {
            "_view_name": "ButtonView",
            "style": "IPY_MODEL_0926bdbf4e1c456b909be52d8eae7d4b",
            "_dom_classes": [],
            "description": "Next Batch",
            "_model_name": "ButtonModel",
            "button_style": "primary",
            "_view_module": "@jupyter-widgets/controls",
            "_model_module_version": "1.5.0",
            "tooltip": "",
            "_view_count": null,
            "disabled": false,
            "_view_module_version": "1.5.0",
            "layout": "IPY_MODEL_96ba921ca62b4af4aa79ad3491221a65",
            "_model_module": "@jupyter-widgets/controls",
            "icon": ""
          }
        },
        "0926bdbf4e1c456b909be52d8eae7d4b": {
          "model_module": "@jupyter-widgets/controls",
          "model_name": "ButtonStyleModel",
          "state": {
            "_view_name": "StyleView",
            "_model_name": "ButtonStyleModel",
            "_view_module": "@jupyter-widgets/base",
            "_model_module_version": "1.5.0",
            "_view_count": null,
            "button_color": null,
            "font_weight": "",
            "_view_module_version": "1.2.0",
            "_model_module": "@jupyter-widgets/controls"
          }
        }
      }
    }
  },
  "cells": [
    {
      "cell_type": "markdown",
      "metadata": {
        "id": "view-in-github",
        "colab_type": "text"
      },
      "source": [
        "<a href=\"https://colab.research.google.com/github/jlmbaka/kda-deep-learning-workshop-2020/blob/main/V3_fastai_02_download_KDA_workshop.ipynb\" target=\"_parent\"><img src=\"https://colab.research.google.com/assets/colab-badge.svg\" alt=\"Open In Colab\"/></a>"
      ]
    },
    {
      "cell_type": "code",
      "metadata": {
        "id": "VGHnJuVeY52R",
        "colab": {
          "base_uri": "https://localhost:8080/",
          "height": 34
        },
        "outputId": "849caa58-129b-488d-b241-5b56f9c950b7"
      },
      "source": [
        "from google.colab import drive\n",
        "drive.mount('/content/gdrive', force_remount=True)"
      ],
      "execution_count": null,
      "outputs": [
        {
          "output_type": "stream",
          "text": [
            "Mounted at /content/gdrive\n"
          ],
          "name": "stdout"
        }
      ]
    },
    {
      "cell_type": "markdown",
      "metadata": {
        "id": "rYQ4qsTGEQSF"
      },
      "source": [
        "# Démystification\n",
        "Selon, vous avons-vous besoin des éléments ci-dessous pour le deep learning ?\n",
        "1. Beaucoup de maths V / F\n",
        "2. Beaucoup de données V / F\n",
        "3. Beaucoup d'ordinateurs coûteux V / F\n",
        "4. Un doctorat en intelligence artificielle V / F"
      ]
    },
    {
      "cell_type": "markdown",
      "metadata": {
        "id": "B2Q2G4oHFhbf"
      },
      "source": [
        "## Réalité"
      ]
    },
    {
      "cell_type": "markdown",
      "metadata": {
        "id": "MATZ6_8hGPtv"
      },
      "source": [
        "1. Les mathématiques apprises à l'école secondaire suffisent\n",
        "2. Des résultats records ont été obtenus parfois avec moins de 50 éléments de données\n",
        "3. Vous pouvez obtenir gratuitement ce dont vous avez besoin pour faire la majorité de vos travaux en deep learning\n",
        "4. Plus besoin d'avoir un doctorat grace aux différents packages mis à disposition différentes compagnies"
      ]
    },
    {
      "cell_type": "markdown",
      "metadata": {
        "id": "gTIxIktHGt03"
      },
      "source": [
        "## Deep Learning\n",
        "- Le deep learning est une technique informatique permettant d'extraire et de transformer des données - avec des cas d'utilisation allant de la reconnaissance vocale humaine à la classification de l'imagerie animale - en utilisant plusieurs couches de réseaux neuronaux.\n",
        "- Chacune de ces couches prend ses entrées des couches précédentes et les affine progressivement.\n",
        "- Les couches sont entraînées par des algorithmes qui minimisent leurs erreurs et améliorent leur précision. De cette manière, le réseau apprend à exécuter une tâche spécifiée."
      ]
    },
    {
      "cell_type": "markdown",
      "metadata": {
        "id": "fXtlhj4SHhZd"
      },
      "source": [
        "## Les logiciels: PyTorch, fastai, and Jupyter\n",
        "- PyTorch: Librairie low-level publiée par Facebook\n",
        "- Fastai: Librairie high-level construite au dessus de PyTorch\n",
        "- Jupyter: Environnement intéractif qui nous permet d'écrire du code en Python et d'expérimenter\n"
      ]
    },
    {
      "cell_type": "code",
      "metadata": {
        "id": "ALUnC3E0c9vt",
        "colab": {
          "base_uri": "https://localhost:8080/",
          "height": 1000
        },
        "outputId": "73b9164a-9df0-44d8-c7b6-ccf0a8d66781"
      },
      "source": [
        "!pip install fastai==1.0.42"
      ],
      "execution_count": null,
      "outputs": [
        {
          "output_type": "stream",
          "text": [
            "Collecting fastai==1.0.42\n",
            "\u001b[?25l  Downloading https://files.pythonhosted.org/packages/16/12/b8c2374b15d5d77b28f4d09556510cf7b47bf2364d06913c97be633da7b0/fastai-1.0.42-py3-none-any.whl (162kB)\n",
            "\r\u001b[K     |██                              | 10kB 24.2MB/s eta 0:00:01\r\u001b[K     |████                            | 20kB 2.1MB/s eta 0:00:01\r\u001b[K     |██████                          | 30kB 2.7MB/s eta 0:00:01\r\u001b[K     |████████                        | 40kB 3.0MB/s eta 0:00:01\r\u001b[K     |██████████                      | 51kB 2.4MB/s eta 0:00:01\r\u001b[K     |████████████                    | 61kB 2.7MB/s eta 0:00:01\r\u001b[K     |██████████████                  | 71kB 3.0MB/s eta 0:00:01\r\u001b[K     |████████████████                | 81kB 3.2MB/s eta 0:00:01\r\u001b[K     |██████████████████              | 92kB 3.5MB/s eta 0:00:01\r\u001b[K     |████████████████████▏           | 102kB 3.3MB/s eta 0:00:01\r\u001b[K     |██████████████████████▏         | 112kB 3.3MB/s eta 0:00:01\r\u001b[K     |████████████████████████▏       | 122kB 3.3MB/s eta 0:00:01\r\u001b[K     |██████████████████████████▏     | 133kB 3.3MB/s eta 0:00:01\r\u001b[K     |████████████████████████████▏   | 143kB 3.3MB/s eta 0:00:01\r\u001b[K     |██████████████████████████████▏ | 153kB 3.3MB/s eta 0:00:01\r\u001b[K     |████████████████████████████████| 163kB 3.3MB/s \n",
            "\u001b[?25hRequirement already satisfied: torch>=1.0.0 in /usr/local/lib/python3.6/dist-packages (from fastai==1.0.42) (1.6.0+cu101)\n",
            "Collecting typing\n",
            "\u001b[?25l  Downloading https://files.pythonhosted.org/packages/05/d9/6eebe19d46bd05360c9a9aae822e67a80f9242aabbfc58b641b957546607/typing-3.7.4.3.tar.gz (78kB)\n",
            "\u001b[K     |████████████████████████████████| 81kB 6.3MB/s \n",
            "\u001b[?25hRequirement already satisfied: beautifulsoup4 in /usr/local/lib/python3.6/dist-packages (from fastai==1.0.42) (4.6.3)\n",
            "Requirement already satisfied: numpy>=1.12 in /usr/local/lib/python3.6/dist-packages (from fastai==1.0.42) (1.18.5)\n",
            "Requirement already satisfied: fastprogress>=0.1.18 in /usr/local/lib/python3.6/dist-packages (from fastai==1.0.42) (1.0.0)\n",
            "Requirement already satisfied: requests in /usr/local/lib/python3.6/dist-packages (from fastai==1.0.42) (2.23.0)\n",
            "Requirement already satisfied: scipy in /usr/local/lib/python3.6/dist-packages (from fastai==1.0.42) (1.4.1)\n",
            "Requirement already satisfied: pyyaml in /usr/local/lib/python3.6/dist-packages (from fastai==1.0.42) (3.13)\n",
            "Requirement already satisfied: dataclasses; python_version < \"3.7\" in /usr/local/lib/python3.6/dist-packages (from fastai==1.0.42) (0.7)\n",
            "Requirement already satisfied: numexpr in /usr/local/lib/python3.6/dist-packages (from fastai==1.0.42) (2.7.1)\n",
            "Requirement already satisfied: packaging in /usr/local/lib/python3.6/dist-packages (from fastai==1.0.42) (20.4)\n",
            "Requirement already satisfied: Pillow in /usr/local/lib/python3.6/dist-packages (from fastai==1.0.42) (7.0.0)\n",
            "Requirement already satisfied: spacy>=2.0.18 in /usr/local/lib/python3.6/dist-packages (from fastai==1.0.42) (2.2.4)\n",
            "Requirement already satisfied: pandas in /usr/local/lib/python3.6/dist-packages (from fastai==1.0.42) (1.0.5)\n",
            "Requirement already satisfied: bottleneck in /usr/local/lib/python3.6/dist-packages (from fastai==1.0.42) (1.3.2)\n",
            "Requirement already satisfied: matplotlib in /usr/local/lib/python3.6/dist-packages (from fastai==1.0.42) (3.2.2)\n",
            "Requirement already satisfied: torchvision in /usr/local/lib/python3.6/dist-packages (from fastai==1.0.42) (0.7.0+cu101)\n",
            "Requirement already satisfied: nvidia-ml-py3 in /usr/local/lib/python3.6/dist-packages (from fastai==1.0.42) (7.352.0)\n",
            "Requirement already satisfied: future in /usr/local/lib/python3.6/dist-packages (from torch>=1.0.0->fastai==1.0.42) (0.16.0)\n",
            "Requirement already satisfied: certifi>=2017.4.17 in /usr/local/lib/python3.6/dist-packages (from requests->fastai==1.0.42) (2020.6.20)\n",
            "Requirement already satisfied: idna<3,>=2.5 in /usr/local/lib/python3.6/dist-packages (from requests->fastai==1.0.42) (2.10)\n",
            "Requirement already satisfied: urllib3!=1.25.0,!=1.25.1,<1.26,>=1.21.1 in /usr/local/lib/python3.6/dist-packages (from requests->fastai==1.0.42) (1.24.3)\n",
            "Requirement already satisfied: chardet<4,>=3.0.2 in /usr/local/lib/python3.6/dist-packages (from requests->fastai==1.0.42) (3.0.4)\n",
            "Requirement already satisfied: pyparsing>=2.0.2 in /usr/local/lib/python3.6/dist-packages (from packaging->fastai==1.0.42) (2.4.7)\n",
            "Requirement already satisfied: six in /usr/local/lib/python3.6/dist-packages (from packaging->fastai==1.0.42) (1.15.0)\n",
            "Requirement already satisfied: blis<0.5.0,>=0.4.0 in /usr/local/lib/python3.6/dist-packages (from spacy>=2.0.18->fastai==1.0.42) (0.4.1)\n",
            "Requirement already satisfied: setuptools in /usr/local/lib/python3.6/dist-packages (from spacy>=2.0.18->fastai==1.0.42) (50.3.0)\n",
            "Requirement already satisfied: murmurhash<1.1.0,>=0.28.0 in /usr/local/lib/python3.6/dist-packages (from spacy>=2.0.18->fastai==1.0.42) (1.0.2)\n",
            "Requirement already satisfied: cymem<2.1.0,>=2.0.2 in /usr/local/lib/python3.6/dist-packages (from spacy>=2.0.18->fastai==1.0.42) (2.0.3)\n",
            "Requirement already satisfied: tqdm<5.0.0,>=4.38.0 in /usr/local/lib/python3.6/dist-packages (from spacy>=2.0.18->fastai==1.0.42) (4.41.1)\n",
            "Requirement already satisfied: wasabi<1.1.0,>=0.4.0 in /usr/local/lib/python3.6/dist-packages (from spacy>=2.0.18->fastai==1.0.42) (0.8.0)\n",
            "Requirement already satisfied: plac<1.2.0,>=0.9.6 in /usr/local/lib/python3.6/dist-packages (from spacy>=2.0.18->fastai==1.0.42) (1.1.3)\n",
            "Requirement already satisfied: thinc==7.4.0 in /usr/local/lib/python3.6/dist-packages (from spacy>=2.0.18->fastai==1.0.42) (7.4.0)\n",
            "Requirement already satisfied: srsly<1.1.0,>=1.0.2 in /usr/local/lib/python3.6/dist-packages (from spacy>=2.0.18->fastai==1.0.42) (1.0.2)\n",
            "Requirement already satisfied: catalogue<1.1.0,>=0.0.7 in /usr/local/lib/python3.6/dist-packages (from spacy>=2.0.18->fastai==1.0.42) (1.0.0)\n",
            "Requirement already satisfied: preshed<3.1.0,>=3.0.2 in /usr/local/lib/python3.6/dist-packages (from spacy>=2.0.18->fastai==1.0.42) (3.0.2)\n",
            "Requirement already satisfied: pytz>=2017.2 in /usr/local/lib/python3.6/dist-packages (from pandas->fastai==1.0.42) (2018.9)\n",
            "Requirement already satisfied: python-dateutil>=2.6.1 in /usr/local/lib/python3.6/dist-packages (from pandas->fastai==1.0.42) (2.8.1)\n",
            "Requirement already satisfied: cycler>=0.10 in /usr/local/lib/python3.6/dist-packages (from matplotlib->fastai==1.0.42) (0.10.0)\n",
            "Requirement already satisfied: kiwisolver>=1.0.1 in /usr/local/lib/python3.6/dist-packages (from matplotlib->fastai==1.0.42) (1.2.0)\n",
            "Requirement already satisfied: importlib-metadata>=0.20; python_version < \"3.8\" in /usr/local/lib/python3.6/dist-packages (from catalogue<1.1.0,>=0.0.7->spacy>=2.0.18->fastai==1.0.42) (1.7.0)\n",
            "Requirement already satisfied: zipp>=0.5 in /usr/local/lib/python3.6/dist-packages (from importlib-metadata>=0.20; python_version < \"3.8\"->catalogue<1.1.0,>=0.0.7->spacy>=2.0.18->fastai==1.0.42) (3.1.0)\n",
            "Building wheels for collected packages: typing\n",
            "  Building wheel for typing (setup.py) ... \u001b[?25l\u001b[?25hdone\n",
            "  Created wheel for typing: filename=typing-3.7.4.3-cp36-none-any.whl size=26307 sha256=ab16604bfafb7d2c3a15d342785e526a40244e9dece2d58efd40aa36dfe89c3b\n",
            "  Stored in directory: /root/.cache/pip/wheels/2d/04/41/8e1836e79581989c22eebac3f4e70aaac9af07b0908da173be\n",
            "Successfully built typing\n",
            "Installing collected packages: typing, fastai\n",
            "  Found existing installation: fastai 1.0.61\n",
            "    Uninstalling fastai-1.0.61:\n",
            "      Successfully uninstalled fastai-1.0.61\n",
            "Successfully installed fastai-1.0.42 typing-3.7.4.3\n"
          ],
          "name": "stdout"
        },
        {
          "output_type": "display_data",
          "data": {
            "application/vnd.colab-display-data+json": {
              "pip_warning": {
                "packages": [
                  "typing"
                ]
              }
            }
          },
          "metadata": {
            "tags": []
          }
        }
      ]
    },
    {
      "cell_type": "code",
      "metadata": {
        "id": "LfyqF1494vXu",
        "colab": {
          "base_uri": "https://localhost:8080/",
          "height": 1000
        },
        "outputId": "6696672f-b0dd-4eb2-d0f7-13f0ee04b6ed"
      },
      "source": [
        "pip freeze"
      ],
      "execution_count": null,
      "outputs": [
        {
          "output_type": "stream",
          "text": [
            "absl-py==0.10.0\n",
            "alabaster==0.7.12\n",
            "albumentations==0.1.12\n",
            "altair==4.1.0\n",
            "argon2-cffi==20.1.0\n",
            "asgiref==3.2.10\n",
            "astor==0.8.1\n",
            "astropy==4.0.1.post1\n",
            "astunparse==1.6.3\n",
            "async-generator==1.10\n",
            "atari-py==0.2.6\n",
            "atomicwrites==1.4.0\n",
            "attrs==20.2.0\n",
            "audioread==2.1.8\n",
            "autograd==1.3\n",
            "Babel==2.8.0\n",
            "backcall==0.2.0\n",
            "beautifulsoup4==4.6.3\n",
            "bleach==3.1.5\n",
            "blis==0.4.1\n",
            "bokeh==2.1.1\n",
            "boto==2.49.0\n",
            "boto3==1.14.59\n",
            "botocore==1.17.59\n",
            "Bottleneck==1.3.2\n",
            "branca==0.4.1\n",
            "bs4==0.0.1\n",
            "CacheControl==0.12.6\n",
            "cachetools==4.1.1\n",
            "catalogue==1.0.0\n",
            "certifi==2020.6.20\n",
            "cffi==1.14.2\n",
            "chainer==7.4.0\n",
            "chardet==3.0.4\n",
            "click==7.1.2\n",
            "cloudpickle==1.3.0\n",
            "cmake==3.12.0\n",
            "cmdstanpy==0.9.5\n",
            "colorlover==0.3.0\n",
            "community==1.0.0b1\n",
            "contextlib2==0.5.5\n",
            "convertdate==2.2.2\n",
            "coverage==3.7.1\n",
            "coveralls==0.5\n",
            "crcmod==1.7\n",
            "cufflinks==0.17.3\n",
            "cupy-cuda101==7.4.0\n",
            "cvxopt==1.2.5\n",
            "cvxpy==1.0.31\n",
            "cycler==0.10.0\n",
            "cymem==2.0.3\n",
            "Cython==0.29.21\n",
            "daft==0.0.4\n",
            "dask==2.12.0\n",
            "dataclasses==0.7\n",
            "datascience==0.10.6\n",
            "debugpy==1.0.0rc2\n",
            "decorator==4.4.2\n",
            "defusedxml==0.6.0\n",
            "descartes==1.1.0\n",
            "dill==0.3.2\n",
            "distributed==1.25.3\n",
            "Django==3.1.1\n",
            "dlib==19.18.0\n",
            "dm-tree==0.1.5\n",
            "docopt==0.6.2\n",
            "docutils==0.15.2\n",
            "dopamine-rl==1.0.5\n",
            "earthengine-api==0.1.234\n",
            "easydict==1.9\n",
            "ecos==2.0.7.post1\n",
            "editdistance==0.5.3\n",
            "en-core-web-sm==2.2.5\n",
            "entrypoints==0.3\n",
            "ephem==3.7.7.1\n",
            "et-xmlfile==1.0.1\n",
            "fa2==0.3.5\n",
            "fancyimpute==0.4.3\n",
            "fastai==1.0.42\n",
            "fastdtw==0.3.4\n",
            "fastprogress==1.0.0\n",
            "fastrlock==0.5\n",
            "fbprophet==0.7.1\n",
            "feather-format==0.4.1\n",
            "filelock==3.0.12\n",
            "firebase-admin==4.1.0\n",
            "fix-yahoo-finance==0.0.22\n",
            "Flask==1.1.2\n",
            "folium==0.8.3\n",
            "future==0.16.0\n",
            "gast==0.3.3\n",
            "GDAL==2.2.2\n",
            "gdown==3.6.4\n",
            "gensim==3.6.0\n",
            "geographiclib==1.50\n",
            "geopy==1.17.0\n",
            "gin-config==0.3.0\n",
            "glob2==0.7\n",
            "google==2.0.3\n",
            "google-api-core==1.16.0\n",
            "google-api-python-client==1.7.12\n",
            "google-auth==1.17.2\n",
            "google-auth-httplib2==0.0.4\n",
            "google-auth-oauthlib==0.4.1\n",
            "google-cloud-bigquery==1.21.0\n",
            "google-cloud-core==1.0.3\n",
            "google-cloud-datastore==1.8.0\n",
            "google-cloud-firestore==1.7.0\n",
            "google-cloud-language==1.2.0\n",
            "google-cloud-storage==1.18.1\n",
            "google-cloud-translate==1.5.0\n",
            "google-colab==1.0.0\n",
            "google-pasta==0.2.0\n",
            "google-resumable-media==0.4.1\n",
            "googleapis-common-protos==1.52.0\n",
            "googledrivedownloader==0.4\n",
            "graphviz==0.10.1\n",
            "grpcio==1.32.0\n",
            "gspread==3.0.1\n",
            "gspread-dataframe==3.0.8\n",
            "gym==0.17.2\n",
            "h5py==2.10.0\n",
            "HeapDict==1.0.1\n",
            "holidays==0.10.3\n",
            "holoviews==1.13.3\n",
            "html5lib==1.0.1\n",
            "httpimport==0.5.18\n",
            "httplib2==0.17.4\n",
            "httplib2shim==0.0.3\n",
            "humanize==0.5.1\n",
            "hyperopt==0.1.2\n",
            "ideep4py==2.0.0.post3\n",
            "idna==2.10\n",
            "image==1.5.32\n",
            "imageio==2.4.1\n",
            "imagesize==1.2.0\n",
            "imbalanced-learn==0.4.3\n",
            "imblearn==0.0\n",
            "imgaug==0.2.9\n",
            "importlib-metadata==1.7.0\n",
            "imutils==0.5.3\n",
            "inflect==2.1.0\n",
            "iniconfig==1.0.1\n",
            "intel-openmp==2020.0.133\n",
            "intervaltree==2.1.0\n",
            "ipykernel==4.10.1\n",
            "ipython==5.5.0\n",
            "ipython-genutils==0.2.0\n",
            "ipython-sql==0.3.9\n",
            "ipywidgets==7.5.1\n",
            "itsdangerous==1.1.0\n",
            "jax==0.1.75\n",
            "jaxlib==0.1.52\n",
            "jdcal==1.4.1\n",
            "jedi==0.17.2\n",
            "jieba==0.42.1\n",
            "Jinja2==2.11.2\n",
            "jmespath==0.10.0\n",
            "joblib==0.16.0\n",
            "jpeg4py==0.1.4\n",
            "jsonschema==2.6.0\n",
            "jupyter==1.0.0\n",
            "jupyter-client==5.3.5\n",
            "jupyter-console==5.2.0\n",
            "jupyter-core==4.6.3\n",
            "jupyterlab-pygments==0.1.1\n",
            "kaggle==1.5.8\n",
            "kapre==0.1.3.1\n",
            "Keras==2.4.3\n",
            "Keras-Preprocessing==1.1.2\n",
            "keras-vis==0.4.1\n",
            "kiwisolver==1.2.0\n",
            "knnimpute==0.1.0\n",
            "korean-lunar-calendar==0.2.1\n",
            "librosa==0.6.3\n",
            "lightgbm==2.2.3\n",
            "llvmlite==0.31.0\n",
            "lmdb==0.99\n",
            "lucid==0.3.8\n",
            "LunarCalendar==0.0.9\n",
            "lxml==4.2.6\n",
            "Markdown==3.2.2\n",
            "MarkupSafe==1.1.1\n",
            "matplotlib==3.2.2\n",
            "matplotlib-venn==0.11.5\n",
            "missingno==0.4.2\n",
            "mistune==0.8.4\n",
            "mizani==0.6.0\n",
            "mkl==2019.0\n",
            "mlxtend==0.14.0\n",
            "more-itertools==8.5.0\n",
            "moviepy==0.2.3.5\n",
            "mpmath==1.1.0\n",
            "msgpack==1.0.0\n",
            "multiprocess==0.70.10\n",
            "multitasking==0.0.9\n",
            "murmurhash==1.0.2\n",
            "music21==5.5.0\n",
            "natsort==5.5.0\n",
            "nbclient==0.5.0\n",
            "nbconvert==5.6.1\n",
            "nbformat==5.0.7\n",
            "nest-asyncio==1.4.0\n",
            "networkx==2.5\n",
            "nibabel==3.0.2\n",
            "nltk==3.2.5\n",
            "notebook==5.3.1\n",
            "np-utils==0.5.12.1\n",
            "numba==0.48.0\n",
            "numexpr==2.7.1\n",
            "numpy==1.18.5\n",
            "nvidia-ml-py3==7.352.0\n",
            "oauth2client==4.1.3\n",
            "oauthlib==3.1.0\n",
            "okgrade==0.4.3\n",
            "opencv-contrib-python==4.1.2.30\n",
            "opencv-python==4.1.2.30\n",
            "openpyxl==2.5.9\n",
            "opt-einsum==3.3.0\n",
            "osqp==0.6.1\n",
            "packaging==20.4\n",
            "palettable==3.3.0\n",
            "pandas==1.0.5\n",
            "pandas-datareader==0.8.1\n",
            "pandas-gbq==0.11.0\n",
            "pandas-profiling==1.4.1\n",
            "pandocfilters==1.4.2\n",
            "panel==0.9.7\n",
            "param==1.9.3\n",
            "parso==0.7.1\n",
            "pathlib==1.0.1\n",
            "patsy==0.5.1\n",
            "pexpect==4.8.0\n",
            "pickleshare==0.7.5\n",
            "Pillow==7.0.0\n",
            "pip-tools==4.5.1\n",
            "plac==1.1.3\n",
            "plotly==4.4.1\n",
            "plotnine==0.6.0\n",
            "pluggy==0.7.1\n",
            "portpicker==1.3.1\n",
            "prefetch-generator==1.0.1\n",
            "preshed==3.0.2\n",
            "prettytable==0.7.2\n",
            "progressbar2==3.38.0\n",
            "prometheus-client==0.8.0\n",
            "promise==2.3\n",
            "prompt-toolkit==1.0.18\n",
            "protobuf==3.12.4\n",
            "psutil==5.4.8\n",
            "psycopg2==2.7.6.1\n",
            "ptyprocess==0.6.0\n",
            "py==1.9.0\n",
            "pyarrow==0.14.1\n",
            "pyasn1==0.4.8\n",
            "pyasn1-modules==0.2.8\n",
            "pycocotools==2.0.2\n",
            "pycparser==2.20\n",
            "pyct==0.4.7\n",
            "pydata-google-auth==1.1.0\n",
            "pydot==1.3.0\n",
            "pydot-ng==2.0.0\n",
            "pydotplus==2.0.2\n",
            "PyDrive==1.3.1\n",
            "pyemd==0.5.1\n",
            "pyglet==1.5.0\n",
            "Pygments==2.6.1\n",
            "pygobject==3.26.1\n",
            "pymc3==3.7\n",
            "PyMeeus==0.3.7\n",
            "pymongo==3.11.0\n",
            "pymystem3==0.2.0\n",
            "PyOpenGL==3.1.5\n",
            "pyparsing==2.4.7\n",
            "pyrsistent==0.17.3\n",
            "pysndfile==1.3.8\n",
            "PySocks==1.7.1\n",
            "pystan==2.19.1.1\n",
            "pytest==3.6.4\n",
            "python-apt==1.6.5+ubuntu0.3\n",
            "python-chess==0.23.11\n",
            "python-dateutil==2.8.1\n",
            "python-louvain==0.14\n",
            "python-slugify==4.0.1\n",
            "python-utils==2.4.0\n",
            "pytz==2018.9\n",
            "pyviz-comms==0.7.6\n",
            "PyWavelets==1.1.1\n",
            "PyYAML==3.13\n",
            "pyzmq==19.0.2\n",
            "qtconsole==4.7.7\n",
            "QtPy==1.9.0\n",
            "regex==2019.12.20\n",
            "requests==2.23.0\n",
            "requests-oauthlib==1.3.0\n",
            "resampy==0.2.2\n",
            "retrying==1.3.3\n",
            "rpy2==3.2.7\n",
            "rsa==4.6\n",
            "s3transfer==0.3.3\n",
            "scikit-image==0.16.2\n",
            "scikit-learn==0.22.2.post1\n",
            "scipy==1.4.1\n",
            "screen-resolution-extra==0.0.0\n",
            "scs==2.1.2\n",
            "seaborn==0.10.1\n",
            "Send2Trash==1.5.0\n",
            "setuptools-git==1.2\n",
            "Shapely==1.7.1\n",
            "simplegeneric==0.8.1\n",
            "six==1.15.0\n",
            "sklearn==0.0\n",
            "sklearn-pandas==1.8.0\n",
            "slugify==0.0.1\n",
            "smart-open==2.1.1\n",
            "snowballstemmer==2.0.0\n",
            "sortedcontainers==2.2.2\n",
            "spacy==2.2.4\n",
            "Sphinx==1.8.5\n",
            "sphinxcontrib-serializinghtml==1.1.4\n",
            "sphinxcontrib-websupport==1.2.4\n",
            "SQLAlchemy==1.3.19\n",
            "sqlparse==0.3.1\n",
            "srsly==1.0.2\n",
            "statsmodels==0.10.2\n",
            "sympy==1.1.1\n",
            "tables==3.4.4\n",
            "tabulate==0.8.7\n",
            "tblib==1.7.0\n",
            "tensorboard==2.3.0\n",
            "tensorboard-plugin-wit==1.7.0\n",
            "tensorboardcolab==0.0.22\n",
            "tensorflow==2.3.0\n",
            "tensorflow-addons==0.8.3\n",
            "tensorflow-datasets==2.1.0\n",
            "tensorflow-estimator==2.3.0\n",
            "tensorflow-gcs-config==2.3.0\n",
            "tensorflow-hub==0.9.0\n",
            "tensorflow-metadata==0.24.0\n",
            "tensorflow-privacy==0.2.2\n",
            "tensorflow-probability==0.11.0\n",
            "termcolor==1.1.0\n",
            "terminado==0.8.3\n",
            "testpath==0.4.4\n",
            "text-unidecode==1.3\n",
            "textblob==0.15.3\n",
            "textgenrnn==1.4.1\n",
            "Theano==1.0.5\n",
            "thinc==7.4.0\n",
            "tifffile==2020.9.3\n",
            "toml==0.10.1\n",
            "toolz==0.10.0\n",
            "torch==1.6.0+cu101\n",
            "torchsummary==1.5.1\n",
            "torchtext==0.3.1\n",
            "torchvision==0.7.0+cu101\n",
            "tornado==5.1.1\n",
            "tqdm==4.41.1\n",
            "traitlets==4.3.3\n",
            "tweepy==3.6.0\n",
            "typeguard==2.7.1\n",
            "typing==3.7.4.3\n",
            "typing-extensions==3.7.4.3\n",
            "tzlocal==1.5.1\n",
            "umap-learn==0.4.6\n",
            "uritemplate==3.0.1\n",
            "urllib3==1.24.3\n",
            "vega-datasets==0.8.0\n",
            "wasabi==0.8.0\n",
            "wcwidth==0.2.5\n",
            "webencodings==0.5.1\n",
            "Werkzeug==1.0.1\n",
            "widgetsnbextension==3.5.1\n",
            "wordcloud==1.5.0\n",
            "wrapt==1.12.1\n",
            "xarray==0.15.1\n",
            "xgboost==0.90\n",
            "xkit==0.0.0\n",
            "xlrd==1.1.0\n",
            "xlwt==1.3.0\n",
            "yellowbrick==0.9.1\n",
            "zict==2.0.0\n",
            "zipp==3.1.0\n"
          ],
          "name": "stdout"
        }
      ]
    },
    {
      "cell_type": "markdown",
      "metadata": {
        "id": "ibwny6Q7IgoF"
      },
      "source": [
        "## Votre premier model"
      ]
    },
    {
      "cell_type": "code",
      "metadata": {
        "id": "8szy4uEnIkUH"
      },
      "source": [
        "from fastai.vision.all import *\n",
        "path = untar_data(URLs.PETS)/'images'\n",
        "\n",
        "def is_cat(x): return x[0].isupper()\n",
        "dls = ImageDataLoaders.from_name_func(\n",
        "    path, get_image_files(path), valid_pct=0.2, seed=42,\n",
        "    label_func=is_cat, item_tfms=Resize(224))\n",
        "\n",
        "learn = cnn_learner(dls, resnet34, metrics=error_rate)\n",
        "learn.fine_tune(1)"
      ],
      "execution_count": null,
      "outputs": []
    },
    {
      "cell_type": "code",
      "metadata": {
        "id": "BRvcFrVgIny0"
      },
      "source": [
        "img = PILImage.create(image_cat())\n",
        "img.to_thumb(192)"
      ],
      "execution_count": null,
      "outputs": []
    },
    {
      "cell_type": "code",
      "metadata": {
        "id": "WrtKI6niJDFq"
      },
      "source": [
        "uploader = widgets.FileUpload()\n",
        "uploader"
      ],
      "execution_count": null,
      "outputs": []
    },
    {
      "cell_type": "code",
      "metadata": {
        "id": "uzrkA26ZJE3t"
      },
      "source": [
        "img = PILImage.create(uploader.data[0])\n",
        "is_cat,_,probs = learn.predict(img)\n",
        "print(f\"Est-ce un chat ?: {is_cat}.\")\n",
        "print(f\"La probablité que c'est un chat: {probs[1].item():.6f}\")"
      ],
      "execution_count": null,
      "outputs": []
    },
    {
      "cell_type": "markdown",
      "metadata": {
        "hide_input": false,
        "id": "vMi-TAoDWhia"
      },
      "source": [
        "# Creating your own dataset from Google Images\n",
        "\n",
        "*by: Francisco Ingham and Jeremy Howard. Inspired by [Adrian Rosebrock](https://www.pyimagesearch.com/2017/12/04/how-to-create-a-deep-learning-dataset-using-google-images/)*"
      ]
    },
    {
      "cell_type": "markdown",
      "metadata": {
        "hide_input": true,
        "id": "S9aOVdW-Whic"
      },
      "source": [
        "In this tutorial we will see how to easily create an image dataset through Google Images. **Note**: You will have to repeat these steps for any new category you want to Google (e.g once for dogs and once for cats)."
      ]
    },
    {
      "cell_type": "code",
      "metadata": {
        "hide_input": false,
        "id": "66PvcZ1kWhid"
      },
      "source": [
        "from fastai.vision import *"
      ],
      "execution_count": null,
      "outputs": []
    },
    {
      "cell_type": "markdown",
      "metadata": {
        "id": "jwJ3kzNeWhik"
      },
      "source": [
        "## Get a list of URLs"
      ]
    },
    {
      "cell_type": "markdown",
      "metadata": {
        "id": "hSU9wqkhWhil"
      },
      "source": [
        "### Search and scroll"
      ]
    },
    {
      "cell_type": "markdown",
      "metadata": {
        "id": "jpDkXjN4Whim"
      },
      "source": [
        "1. Go to [Google Images](http://images.google.com) and search for the images you are interested in. The more specific you are in your Google Search, the better the results and the less manual pruning you will have to do.\n",
        "\n",
        "2. Scroll down until you've seen all the images you want to download, or until you see a button that says 'Show more results'. All the images you scrolled past are now available to download. To get more, click on the button, and continue scrolling. The maximum number of images Google Images shows is 700.\n",
        "\n",
        "3. It is a good idea to put things you want to exclude into the search query, for instance if you are searching for the Eurasian wolf, \"canis lupus lupus\", it might be a good idea to exclude other variants:\n",
        "\n",
        "    \"canis lupus lupus\" -dog -arctos -familiaris -baileyi -occidentalis\n",
        "\n",
        "4. You can also limit your results to show only photos by clicking on Tools and selecting Photos from the Type dropdown."
      ]
    },
    {
      "cell_type": "markdown",
      "metadata": {
        "id": "kaYewzMfWhin"
      },
      "source": [
        "### Download into file"
      ]
    },
    {
      "cell_type": "markdown",
      "metadata": {
        "id": "lygrbQ72Whio"
      },
      "source": [
        "0. Now you must run some Javascript code in your browser which will save the URLs of all the images you want for you dataset.\n",
        "\n",
        "1. In Google Chrome press <kbd>Ctrl</kbd><kbd>Shift</kbd><kbd>j</kbd> on Windows/Linux and <kbd>Cmd</kbd><kbd>Opt</kbd><kbd>j</kbd> on macOS, and a small window the javascript 'Console' will appear. In Firefox press <kbd>Ctrl</kbd><kbd>Shift</kbd><kbd>k</kbd> on Windows/Linux or <kbd>Cmd</kbd><kbd>Opt</kbd><kbd>k</kbd> on macOS. That is where you will paste the JavaScript commands.\n",
        "\n",
        "2. You will need to get the urls of each of the images. Before running the following commands, you may want to disable ad blocking extensions (uBlock, AdBlockPlus etc.) in Chrome. Otherwise the window.open() command doesn't work. Then you can run the following commands:\n",
        "\n",
        "```javascript\n",
        "urls=Array.from(document.querySelectorAll('.rg_i')).map(el=> el.hasAttribute('data-src')?el.getAttribute('data-src'):el.getAttribute('data-iurl'));\n",
        "window.open('data:text/csv;charset=utf-8,' + escape(urls.join('\\n')));\n",
        "```"
      ]
    },
    {
      "cell_type": "markdown",
      "metadata": {
        "id": "_qcqS2vOWhip"
      },
      "source": [
        "### Create directory and upload urls file into your server\n"
      ]
    },
    {
      "cell_type": "markdown",
      "metadata": {
        "id": "458_L_3zWhir"
      },
      "source": [
        "Choose an appropriate name for your labeled images. You can run these steps multiple times to create different labels."
      ]
    },
    {
      "cell_type": "code",
      "metadata": {
        "id": "eobHe_lsW8pt"
      },
      "source": [
        "src_list =[\n",
        "    ('football', 'urls_football.csv'),\n",
        "    ('basketball', 'urls_basketball.csv'),\n",
        "    ('judo', 'urls_judo.csv'),\n",
        "]"
      ],
      "execution_count": null,
      "outputs": []
    },
    {
      "cell_type": "markdown",
      "metadata": {
        "id": "h-QUqOCYWhi7"
      },
      "source": [
        "Loop through each category:\n",
        "  - create the destination directory\n",
        "  - upload csv files containing URLs"
      ]
    },
    {
      "cell_type": "code",
      "metadata": {
        "id": "5bn9_hwwWhi8"
      },
      "source": [
        "path = Path('data/sports')\n",
        "for folder, _ in src_list:\n",
        "    dest = path/folder\n",
        "    dest.mkdir(parents=True, exist_ok=True)"
      ],
      "execution_count": null,
      "outputs": []
    },
    {
      "cell_type": "code",
      "metadata": {
        "id": "MdeT1yzFmNXv"
      },
      "source": [
        "!ls data/sports/"
      ],
      "execution_count": null,
      "outputs": []
    },
    {
      "cell_type": "code",
      "metadata": {
        "id": "3d7g0-3pduot",
        "colab": {
          "resources": {
            "http://localhost:8080/nbextensions/google.colab/files.js": {
              "data": "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",
              "ok": true,
              "headers": [
                [
                  "content-type",
                  "application/javascript"
                ]
              ],
              "status": 200,
              "status_text": ""
            }
          },
          "base_uri": "https://localhost:8080/",
          "height": 192
        },
        "outputId": "87b2c28c-f5da-403b-dbfd-1de878355c7b"
      },
      "source": [
        "from google.colab import files\n",
        "\n",
        "uploaded = files.upload()\n",
        "\n",
        "for fn in uploaded.keys():\n",
        "  print('User uploaded file \"{name}\" with length {length} bytes'.format(\n",
        "      name=fn, length=len(uploaded[fn])))"
      ],
      "execution_count": null,
      "outputs": [
        {
          "output_type": "display_data",
          "data": {
            "text/html": [
              "\n",
              "     <input type=\"file\" id=\"files-428e3fee-4774-4344-8f7b-eabad71b65ac\" name=\"files[]\" multiple disabled\n",
              "        style=\"border:none\" />\n",
              "     <output id=\"result-428e3fee-4774-4344-8f7b-eabad71b65ac\">\n",
              "      Upload widget is only available when the cell has been executed in the\n",
              "      current browser session. Please rerun this cell to enable.\n",
              "      </output>\n",
              "      <script src=\"/nbextensions/google.colab/files.js\"></script> "
            ],
            "text/plain": [
              "<IPython.core.display.HTML object>"
            ]
          },
          "metadata": {
            "tags": []
          }
        },
        {
          "output_type": "stream",
          "text": [
            "Saving urls_judo.csv to urls_judo.csv\n",
            "Saving urls_basketball.csv to urls_basketball.csv\n",
            "Saving urls_football.csv to urls_football.csv\n",
            "User uploaded file \"urls_judo.csv\" with length 32921 bytes\n",
            "User uploaded file \"urls_basketball.csv\" with length 32921 bytes\n",
            "User uploaded file \"urls_football.csv\" with length 32921 bytes\n"
          ],
          "name": "stdout"
        }
      ]
    },
    {
      "cell_type": "code",
      "metadata": {
        "id": "OGqodC46mp-Z",
        "colab": {
          "base_uri": "https://localhost:8080/",
          "height": 34
        },
        "outputId": "584edd3f-581f-4285-d78e-014742f01c35"
      },
      "source": [
        "!ls"
      ],
      "execution_count": null,
      "outputs": [
        {
          "output_type": "stream",
          "text": [
            "data  sample_data  urls_basketball.csv\turls_football.csv  urls_judo.csv\n"
          ],
          "name": "stdout"
        }
      ]
    },
    {
      "cell_type": "code",
      "metadata": {
        "id": "vv-vIGtGlq7b"
      },
      "source": [
        "!mv *.csv data/sports"
      ],
      "execution_count": null,
      "outputs": []
    },
    {
      "cell_type": "code",
      "metadata": {
        "id": "JTVeS_7MfFDV",
        "colab": {
          "base_uri": "https://localhost:8080/",
          "height": 51
        },
        "outputId": "9a9ab343-1ee0-4af6-ca5a-4184fd873b4f"
      },
      "source": [
        "!ls data/sports/"
      ],
      "execution_count": null,
      "outputs": [
        {
          "output_type": "stream",
          "text": [
            "basketball  judo\t\t urls_football.csv\n",
            "football    urls_basketball.csv  urls_judo.csv\n"
          ],
          "name": "stdout"
        }
      ]
    },
    {
      "cell_type": "code",
      "metadata": {
        "id": "j_IU4fYWkqk4"
      },
      "source": [
        "!rm -r data/sports/basketball"
      ],
      "execution_count": null,
      "outputs": []
    },
    {
      "cell_type": "markdown",
      "metadata": {
        "id": "GpQ5sKncWhjM"
      },
      "source": [
        "## Download images"
      ]
    },
    {
      "cell_type": "markdown",
      "metadata": {
        "id": "FceEJCb3WhjN"
      },
      "source": [
        "Now you will need to download your images from their respective urls.\n",
        "\n",
        "fast.ai has a function that allows you to do just that. You just have to specify the urls filename as well as the destination folder and this function will download and save all images that can be opened. If they have some problem in being opened, they will not be saved.\n",
        "\n",
        "Let's download our images! Notice you can choose a maximum number of images to be downloaded. In this case we will not download all the urls.\n",
        "\n",
        "You will need to run this line once for every category."
      ]
    },
    {
      "cell_type": "code",
      "metadata": {
        "id": "AlN5YZzoWhjT"
      },
      "source": [
        "for folder, file in src_list:\n",
        "    dest = path/folder\n",
        "    download_images(path/file, dest, max_pics=200)"
      ],
      "execution_count": null,
      "outputs": []
    },
    {
      "cell_type": "code",
      "metadata": {
        "id": "h-AraptiWhjY",
        "outputId": "e88f0daf-1b6f-45b9-f7dc-897f1a23b891"
      },
      "source": [
        "# If you have problems download, try with `max_workers=0` to see exceptions:\n",
        "for _, file in src_list:\n",
        "  download_images(path/file, dest, max_pics=20, max_workers=0)"
      ],
      "execution_count": null,
      "outputs": [
        {
          "output_type": "stream",
          "text": [
            ""
          ],
          "name": "stdout"
        }
      ]
    },
    {
      "cell_type": "code",
      "metadata": {
        "id": "I4ZXGorXiKZv",
        "colab": {
          "base_uri": "https://localhost:8080/",
          "height": 583
        },
        "outputId": "4b8ce46a-1bcd-4328-fa99-b86d3dedf735"
      },
      "source": [
        "!ls data/sports/basketball"
      ],
      "execution_count": null,
      "outputs": [
        {
          "output_type": "stream",
          "text": [
            "00000000.jpg  00000033.jpg  00000066.jpg  00000119.jpg\t00000152.jpg\n",
            "00000001.jpg  00000034.jpg  00000067.jpg  00000120.jpg\t00000153.jpg\n",
            "00000002.jpg  00000035.jpg  00000068.jpg  00000121.jpg\t00000154.jpg\n",
            "00000003.jpg  00000036.jpg  00000069.jpg  00000122.jpg\t00000155.jpg\n",
            "00000004.jpg  00000037.jpg  00000070.jpg  00000123.jpg\t00000156.jpg\n",
            "00000005.jpg  00000038.jpg  00000071.jpg  00000124.jpg\t00000157.jpg\n",
            "00000006.jpg  00000039.jpg  00000072.jpg  00000125.jpg\t00000158.jpg\n",
            "00000007.jpg  00000040.jpg  00000073.jpg  00000126.jpg\t00000159.jpg\n",
            "00000008.jpg  00000041.jpg  00000074.jpg  00000127.jpg\t00000160.jpg\n",
            "00000009.jpg  00000042.jpg  00000075.jpg  00000128.jpg\t00000161.jpg\n",
            "00000010.jpg  00000043.jpg  00000076.jpg  00000129.jpg\t00000162.jpg\n",
            "00000011.jpg  00000044.jpg  00000077.jpg  00000130.jpg\t00000163.jpg\n",
            "00000012.jpg  00000045.jpg  00000078.jpg  00000131.jpg\t00000164.jpg\n",
            "00000013.jpg  00000046.jpg  00000079.jpg  00000132.jpg\t00000165.jpg\n",
            "00000014.jpg  00000047.jpg  00000100.jpg  00000133.jpg\t00000166.jpg\n",
            "00000015.jpg  00000048.jpg  00000101.jpg  00000134.jpg\t00000167.jpg\n",
            "00000016.jpg  00000049.jpg  00000102.jpg  00000135.jpg\t00000168.jpg\n",
            "00000017.jpg  00000050.jpg  00000103.jpg  00000136.jpg\t00000169.jpg\n",
            "00000018.jpg  00000051.jpg  00000104.jpg  00000137.jpg\t00000170.jpg\n",
            "00000019.jpg  00000052.jpg  00000105.jpg  00000138.jpg\t00000171.jpg\n",
            "00000020.jpg  00000053.jpg  00000106.jpg  00000139.jpg\t00000172.jpg\n",
            "00000021.jpg  00000054.jpg  00000107.jpg  00000140.jpg\t00000173.jpg\n",
            "00000022.jpg  00000055.jpg  00000108.jpg  00000141.jpg\t00000174.jpg\n",
            "00000023.jpg  00000056.jpg  00000109.jpg  00000142.jpg\t00000175.jpg\n",
            "00000024.jpg  00000057.jpg  00000110.jpg  00000143.jpg\t00000176.jpg\n",
            "00000025.jpg  00000058.jpg  00000111.jpg  00000144.jpg\t00000177.jpg\n",
            "00000026.jpg  00000059.jpg  00000112.jpg  00000145.jpg\t00000178.jpg\n",
            "00000027.jpg  00000060.jpg  00000113.jpg  00000146.jpg\t00000179.jpg\n",
            "00000028.jpg  00000061.jpg  00000114.jpg  00000147.jpg\t00000199.jpg\n",
            "00000029.jpg  00000062.jpg  00000115.jpg  00000148.jpg\n",
            "00000030.jpg  00000063.jpg  00000116.jpg  00000149.jpg\n",
            "00000031.jpg  00000064.jpg  00000117.jpg  00000150.jpg\n",
            "00000032.jpg  00000065.jpg  00000118.jpg  00000151.jpg\n"
          ],
          "name": "stdout"
        }
      ]
    },
    {
      "cell_type": "markdown",
      "metadata": {
        "id": "K29mILCKWhje"
      },
      "source": [
        "Then we can remove any images that can't be opened:"
      ]
    },
    {
      "cell_type": "code",
      "metadata": {
        "id": "FAqLIo1dWhjg",
        "colab": {
          "base_uri": "https://localhost:8080/",
          "height": 146
        },
        "outputId": "d41ec049-d592-493a-c747-d8f4f81c0f37"
      },
      "source": [
        "classes = [class_name for class_name, folder in src_list]\n",
        "for c in classes:\n",
        "    print(c)\n",
        "    verify_images(path/c, delete=True, max_size=500)"
      ],
      "execution_count": null,
      "outputs": [
        {
          "output_type": "stream",
          "text": [
            "football\n"
          ],
          "name": "stdout"
        },
        {
          "output_type": "display_data",
          "data": {
            "text/html": [
              "\n",
              "    <div>\n",
              "        <style>\n",
              "            /* Turns off some styling */\n",
              "            progress {\n",
              "                /* gets rid of default border in Firefox and Opera. */\n",
              "                border: none;\n",
              "                /* Needs to be in here for Safari polyfill so background images work as expected. */\n",
              "                background-size: auto;\n",
              "            }\n",
              "            .progress-bar-interrupted, .progress-bar-interrupted::-webkit-progress-bar {\n",
              "                background: #F44336;\n",
              "            }\n",
              "        </style>\n",
              "      <progress value='161' class='' max='161' style='width:300px; height:20px; vertical-align: middle;'></progress>\n",
              "      100.00% [161/161 00:00<00:00]\n",
              "    </div>\n",
              "    "
            ],
            "text/plain": [
              "<IPython.core.display.HTML object>"
            ]
          },
          "metadata": {
            "tags": []
          }
        },
        {
          "output_type": "stream",
          "text": [
            "basketball\n"
          ],
          "name": "stdout"
        },
        {
          "output_type": "display_data",
          "data": {
            "text/html": [
              "\n",
              "    <div>\n",
              "        <style>\n",
              "            /* Turns off some styling */\n",
              "            progress {\n",
              "                /* gets rid of default border in Firefox and Opera. */\n",
              "                border: none;\n",
              "                /* Needs to be in here for Safari polyfill so background images work as expected. */\n",
              "                background-size: auto;\n",
              "            }\n",
              "            .progress-bar-interrupted, .progress-bar-interrupted::-webkit-progress-bar {\n",
              "                background: #F44336;\n",
              "            }\n",
              "        </style>\n",
              "      <progress value='161' class='' max='161' style='width:300px; height:20px; vertical-align: middle;'></progress>\n",
              "      100.00% [161/161 00:00<00:00]\n",
              "    </div>\n",
              "    "
            ],
            "text/plain": [
              "<IPython.core.display.HTML object>"
            ]
          },
          "metadata": {
            "tags": []
          }
        },
        {
          "output_type": "stream",
          "text": [
            "judo\n"
          ],
          "name": "stdout"
        },
        {
          "output_type": "display_data",
          "data": {
            "text/html": [
              "\n",
              "    <div>\n",
              "        <style>\n",
              "            /* Turns off some styling */\n",
              "            progress {\n",
              "                /* gets rid of default border in Firefox and Opera. */\n",
              "                border: none;\n",
              "                /* Needs to be in here for Safari polyfill so background images work as expected. */\n",
              "                background-size: auto;\n",
              "            }\n",
              "            .progress-bar-interrupted, .progress-bar-interrupted::-webkit-progress-bar {\n",
              "                background: #F44336;\n",
              "            }\n",
              "        </style>\n",
              "      <progress value='161' class='' max='161' style='width:300px; height:20px; vertical-align: middle;'></progress>\n",
              "      100.00% [161/161 00:00<00:00]\n",
              "    </div>\n",
              "    "
            ],
            "text/plain": [
              "<IPython.core.display.HTML object>"
            ]
          },
          "metadata": {
            "tags": []
          }
        },
        {
          "output_type": "stream",
          "text": [
            "Image data/sports/judo/00000023.jpg has 1 instead of 3 channels\n"
          ],
          "name": "stdout"
        }
      ]
    },
    {
      "cell_type": "markdown",
      "metadata": {
        "id": "ZfNMInAEWhjl"
      },
      "source": [
        "## View data"
      ]
    },
    {
      "cell_type": "code",
      "metadata": {
        "id": "Kt-sv1ZDWhjm",
        "colab": {
          "base_uri": "https://localhost:8080/",
          "height": 157
        },
        "outputId": "1245c685-f49c-42d9-8403-0d39a1850867"
      },
      "source": [
        "np.random.seed(42)\n",
        "data = ImageDataBunch.from_folder(\n",
        "    path, \n",
        "    train=\".\", \n",
        "    valid_pct=0.2,\n",
        "    ds_tfms=get_transforms(), \n",
        "    size=224, \n",
        "    num_workers=4).normalize(imagenet_stats)"
      ],
      "execution_count": null,
      "outputs": [
        {
          "output_type": "stream",
          "text": [
            "You can deactivate this warning by passing `no_check=True`.\n"
          ],
          "name": "stdout"
        },
        {
          "output_type": "stream",
          "text": [
            "/usr/local/lib/python3.6/dist-packages/torch/nn/functional.py:3384: UserWarning: Default grid_sample and affine_grid behavior has changed to align_corners=False since 1.3.0. Please specify align_corners=True if the old behavior is desired. See the documentation of grid_sample for details.\n",
            "  warnings.warn(\"Default grid_sample and affine_grid behavior has changed \"\n",
            "/usr/local/lib/python3.6/dist-packages/torch/nn/functional.py:3384: UserWarning: Default grid_sample and affine_grid behavior has changed to align_corners=False since 1.3.0. Please specify align_corners=True if the old behavior is desired. See the documentation of grid_sample for details.\n",
            "  warnings.warn(\"Default grid_sample and affine_grid behavior has changed \"\n",
            "/usr/local/lib/python3.6/dist-packages/fastai/basic_data.py:226: UserWarning: There seems to be something wrong with your dataset, can't access these elements in self.train_ds: 329,297,25,309,68...\n",
            "  warn(warn_msg)\n"
          ],
          "name": "stderr"
        }
      ]
    },
    {
      "cell_type": "code",
      "metadata": {
        "id": "-RUQgc_9Whjr"
      },
      "source": [
        "# If you already cleaned your data, run this cell instead of the one before\n",
        "# np.random.seed(42)\n",
        "# data = ImageDataBunch.from_csv(path, folder=\".\", valid_pct=0.2, csv_labels='cleaned.csv',\n",
        "#         ds_tfms=get_transforms(), size=224, num_workers=4).normalize(imagenet_stats)"
      ],
      "execution_count": null,
      "outputs": []
    },
    {
      "cell_type": "markdown",
      "metadata": {
        "id": "RgTbv50PWhjw"
      },
      "source": [
        "Good! Let's take a look at some of our pictures then."
      ]
    },
    {
      "cell_type": "code",
      "metadata": {
        "id": "9oLfw414Whjx",
        "colab": {
          "base_uri": "https://localhost:8080/",
          "height": 34
        },
        "outputId": "1558ab5d-106e-424e-b780-ecd6737e5047"
      },
      "source": [
        "data.classes"
      ],
      "execution_count": null,
      "outputs": [
        {
          "output_type": "execute_result",
          "data": {
            "text/plain": [
              "['basketball', 'football', 'judo']"
            ]
          },
          "metadata": {
            "tags": []
          },
          "execution_count": 16
        }
      ]
    },
    {
      "cell_type": "code",
      "metadata": {
        "id": "N96UWCLzWhj2",
        "colab": {
          "base_uri": "https://localhost:8080/",
          "height": 1000
        },
        "outputId": "28966a07-8d1e-4e28-8487-9bd0178dc061"
      },
      "source": [
        "data.show_batch(rows=3, figsize=(7,8))"
      ],
      "execution_count": null,
      "outputs": [
        {
          "output_type": "error",
          "ename": "AttributeError",
          "evalue": "ignored",
          "traceback": [
            "\u001b[0;31m---------------------------------------------------------------------------\u001b[0m",
            "\u001b[0;31mAttributeError\u001b[0m                            Traceback (most recent call last)",
            "\u001b[0;32m<ipython-input-17-5e754e6c0691>\u001b[0m in \u001b[0;36m<module>\u001b[0;34m()\u001b[0m\n\u001b[0;32m----> 1\u001b[0;31m \u001b[0mdata\u001b[0m\u001b[0;34m.\u001b[0m\u001b[0mshow_batch\u001b[0m\u001b[0;34m(\u001b[0m\u001b[0mrows\u001b[0m\u001b[0;34m=\u001b[0m\u001b[0;36m3\u001b[0m\u001b[0;34m,\u001b[0m \u001b[0mfigsize\u001b[0m\u001b[0;34m=\u001b[0m\u001b[0;34m(\u001b[0m\u001b[0;36m7\u001b[0m\u001b[0;34m,\u001b[0m\u001b[0;36m8\u001b[0m\u001b[0;34m)\u001b[0m\u001b[0;34m)\u001b[0m\u001b[0;34m\u001b[0m\u001b[0;34m\u001b[0m\u001b[0m\n\u001b[0m",
            "\u001b[0;32m/usr/local/lib/python3.6/dist-packages/fastai/basic_data.py\u001b[0m in \u001b[0;36mshow_batch\u001b[0;34m(self, rows, ds_type, **kwargs)\u001b[0m\n\u001b[1;32m    157\u001b[0m     \u001b[0;32mdef\u001b[0m \u001b[0mshow_batch\u001b[0m\u001b[0;34m(\u001b[0m\u001b[0mself\u001b[0m\u001b[0;34m,\u001b[0m \u001b[0mrows\u001b[0m\u001b[0;34m:\u001b[0m\u001b[0mint\u001b[0m\u001b[0;34m=\u001b[0m\u001b[0;36m5\u001b[0m\u001b[0;34m,\u001b[0m \u001b[0mds_type\u001b[0m\u001b[0;34m:\u001b[0m\u001b[0mDatasetType\u001b[0m\u001b[0;34m=\u001b[0m\u001b[0mDatasetType\u001b[0m\u001b[0;34m.\u001b[0m\u001b[0mTrain\u001b[0m\u001b[0;34m,\u001b[0m \u001b[0;34m**\u001b[0m\u001b[0mkwargs\u001b[0m\u001b[0;34m)\u001b[0m\u001b[0;34m->\u001b[0m\u001b[0;32mNone\u001b[0m\u001b[0;34m:\u001b[0m\u001b[0;34m\u001b[0m\u001b[0;34m\u001b[0m\u001b[0m\n\u001b[1;32m    158\u001b[0m         \u001b[0;34m\"Show a batch of data in `ds_type` on a few `rows`.\"\u001b[0m\u001b[0;34m\u001b[0m\u001b[0;34m\u001b[0m\u001b[0m\n\u001b[0;32m--> 159\u001b[0;31m         \u001b[0mx\u001b[0m\u001b[0;34m,\u001b[0m\u001b[0my\u001b[0m \u001b[0;34m=\u001b[0m \u001b[0mself\u001b[0m\u001b[0;34m.\u001b[0m\u001b[0mone_batch\u001b[0m\u001b[0;34m(\u001b[0m\u001b[0mds_type\u001b[0m\u001b[0;34m,\u001b[0m \u001b[0;32mTrue\u001b[0m\u001b[0;34m,\u001b[0m \u001b[0;32mTrue\u001b[0m\u001b[0;34m)\u001b[0m\u001b[0;34m\u001b[0m\u001b[0;34m\u001b[0m\u001b[0m\n\u001b[0m\u001b[1;32m    160\u001b[0m         \u001b[0mn_items\u001b[0m \u001b[0;34m=\u001b[0m \u001b[0mrows\u001b[0m \u001b[0;34m**\u001b[0m\u001b[0;36m2\u001b[0m \u001b[0;32mif\u001b[0m \u001b[0mself\u001b[0m\u001b[0;34m.\u001b[0m\u001b[0mtrain_ds\u001b[0m\u001b[0;34m.\u001b[0m\u001b[0mx\u001b[0m\u001b[0;34m.\u001b[0m\u001b[0m_square_show\u001b[0m \u001b[0;32melse\u001b[0m \u001b[0mrows\u001b[0m\u001b[0;34m\u001b[0m\u001b[0;34m\u001b[0m\u001b[0m\n\u001b[1;32m    161\u001b[0m         \u001b[0;32mif\u001b[0m \u001b[0mself\u001b[0m\u001b[0;34m.\u001b[0m\u001b[0mdl\u001b[0m\u001b[0;34m(\u001b[0m\u001b[0mds_type\u001b[0m\u001b[0;34m)\u001b[0m\u001b[0;34m.\u001b[0m\u001b[0mbatch_size\u001b[0m \u001b[0;34m<\u001b[0m \u001b[0mn_items\u001b[0m\u001b[0;34m:\u001b[0m \u001b[0mn_items\u001b[0m \u001b[0;34m=\u001b[0m \u001b[0mself\u001b[0m\u001b[0;34m.\u001b[0m\u001b[0mdl\u001b[0m\u001b[0;34m(\u001b[0m\u001b[0mds_type\u001b[0m\u001b[0;34m)\u001b[0m\u001b[0;34m.\u001b[0m\u001b[0mbatch_size\u001b[0m\u001b[0;34m\u001b[0m\u001b[0;34m\u001b[0m\u001b[0m\n",
            "\u001b[0;32m/usr/local/lib/python3.6/dist-packages/fastai/basic_data.py\u001b[0m in \u001b[0;36mone_batch\u001b[0;34m(self, ds_type, detach, denorm, cpu)\u001b[0m\n\u001b[1;32m    140\u001b[0m         \u001b[0mw\u001b[0m \u001b[0;34m=\u001b[0m \u001b[0mself\u001b[0m\u001b[0;34m.\u001b[0m\u001b[0mnum_workers\u001b[0m\u001b[0;34m\u001b[0m\u001b[0;34m\u001b[0m\u001b[0m\n\u001b[1;32m    141\u001b[0m         \u001b[0mself\u001b[0m\u001b[0;34m.\u001b[0m\u001b[0mnum_workers\u001b[0m \u001b[0;34m=\u001b[0m \u001b[0;36m0\u001b[0m\u001b[0;34m\u001b[0m\u001b[0;34m\u001b[0m\u001b[0m\n\u001b[0;32m--> 142\u001b[0;31m         \u001b[0;32mtry\u001b[0m\u001b[0;34m:\u001b[0m     \u001b[0mx\u001b[0m\u001b[0;34m,\u001b[0m\u001b[0my\u001b[0m \u001b[0;34m=\u001b[0m \u001b[0mnext\u001b[0m\u001b[0;34m(\u001b[0m\u001b[0miter\u001b[0m\u001b[0;34m(\u001b[0m\u001b[0mdl\u001b[0m\u001b[0;34m)\u001b[0m\u001b[0;34m)\u001b[0m\u001b[0;34m\u001b[0m\u001b[0;34m\u001b[0m\u001b[0m\n\u001b[0m\u001b[1;32m    143\u001b[0m         \u001b[0;32mfinally\u001b[0m\u001b[0;34m:\u001b[0m \u001b[0mself\u001b[0m\u001b[0;34m.\u001b[0m\u001b[0mnum_workers\u001b[0m \u001b[0;34m=\u001b[0m \u001b[0mw\u001b[0m\u001b[0;34m\u001b[0m\u001b[0;34m\u001b[0m\u001b[0m\n\u001b[1;32m    144\u001b[0m         \u001b[0;32mif\u001b[0m \u001b[0mdetach\u001b[0m\u001b[0;34m:\u001b[0m \u001b[0mx\u001b[0m\u001b[0;34m,\u001b[0m\u001b[0my\u001b[0m \u001b[0;34m=\u001b[0m \u001b[0mto_detach\u001b[0m\u001b[0;34m(\u001b[0m\u001b[0mx\u001b[0m\u001b[0;34m,\u001b[0m\u001b[0mcpu\u001b[0m\u001b[0;34m=\u001b[0m\u001b[0mcpu\u001b[0m\u001b[0;34m)\u001b[0m\u001b[0;34m,\u001b[0m\u001b[0mto_detach\u001b[0m\u001b[0;34m(\u001b[0m\u001b[0my\u001b[0m\u001b[0;34m,\u001b[0m\u001b[0mcpu\u001b[0m\u001b[0;34m=\u001b[0m\u001b[0mcpu\u001b[0m\u001b[0;34m)\u001b[0m\u001b[0;34m\u001b[0m\u001b[0;34m\u001b[0m\u001b[0m\n",
            "\u001b[0;32m/usr/local/lib/python3.6/dist-packages/fastai/basic_data.py\u001b[0m in \u001b[0;36m__iter__\u001b[0;34m(self)\u001b[0m\n\u001b[1;32m     69\u001b[0m     \u001b[0;32mdef\u001b[0m \u001b[0m__iter__\u001b[0m\u001b[0;34m(\u001b[0m\u001b[0mself\u001b[0m\u001b[0;34m)\u001b[0m\u001b[0;34m:\u001b[0m\u001b[0;34m\u001b[0m\u001b[0;34m\u001b[0m\u001b[0m\n\u001b[1;32m     70\u001b[0m         \u001b[0;34m\"Process and returns items from `DataLoader`.\"\u001b[0m\u001b[0;34m\u001b[0m\u001b[0;34m\u001b[0m\u001b[0m\n\u001b[0;32m---> 71\u001b[0;31m         \u001b[0;32mfor\u001b[0m \u001b[0mb\u001b[0m \u001b[0;32min\u001b[0m \u001b[0mself\u001b[0m\u001b[0;34m.\u001b[0m\u001b[0mdl\u001b[0m\u001b[0;34m:\u001b[0m \u001b[0;32myield\u001b[0m \u001b[0mself\u001b[0m\u001b[0;34m.\u001b[0m\u001b[0mproc_batch\u001b[0m\u001b[0;34m(\u001b[0m\u001b[0mb\u001b[0m\u001b[0;34m)\u001b[0m\u001b[0;34m\u001b[0m\u001b[0;34m\u001b[0m\u001b[0m\n\u001b[0m\u001b[1;32m     72\u001b[0m \u001b[0;34m\u001b[0m\u001b[0m\n\u001b[1;32m     73\u001b[0m     \u001b[0;34m@\u001b[0m\u001b[0mclassmethod\u001b[0m\u001b[0;34m\u001b[0m\u001b[0;34m\u001b[0m\u001b[0m\n",
            "\u001b[0;32m/usr/local/lib/python3.6/dist-packages/torch/utils/data/dataloader.py\u001b[0m in \u001b[0;36m__next__\u001b[0;34m(self)\u001b[0m\n\u001b[1;32m    361\u001b[0m \u001b[0;34m\u001b[0m\u001b[0m\n\u001b[1;32m    362\u001b[0m     \u001b[0;32mdef\u001b[0m \u001b[0m__next__\u001b[0m\u001b[0;34m(\u001b[0m\u001b[0mself\u001b[0m\u001b[0;34m)\u001b[0m\u001b[0;34m:\u001b[0m\u001b[0;34m\u001b[0m\u001b[0;34m\u001b[0m\u001b[0m\n\u001b[0;32m--> 363\u001b[0;31m         \u001b[0mdata\u001b[0m \u001b[0;34m=\u001b[0m \u001b[0mself\u001b[0m\u001b[0;34m.\u001b[0m\u001b[0m_next_data\u001b[0m\u001b[0;34m(\u001b[0m\u001b[0;34m)\u001b[0m\u001b[0;34m\u001b[0m\u001b[0;34m\u001b[0m\u001b[0m\n\u001b[0m\u001b[1;32m    364\u001b[0m         \u001b[0mself\u001b[0m\u001b[0;34m.\u001b[0m\u001b[0m_num_yielded\u001b[0m \u001b[0;34m+=\u001b[0m \u001b[0;36m1\u001b[0m\u001b[0;34m\u001b[0m\u001b[0;34m\u001b[0m\u001b[0m\n\u001b[1;32m    365\u001b[0m         \u001b[0;32mif\u001b[0m \u001b[0mself\u001b[0m\u001b[0;34m.\u001b[0m\u001b[0m_dataset_kind\u001b[0m \u001b[0;34m==\u001b[0m \u001b[0m_DatasetKind\u001b[0m\u001b[0;34m.\u001b[0m\u001b[0mIterable\u001b[0m \u001b[0;32mand\u001b[0m\u001b[0;31m \u001b[0m\u001b[0;31m\\\u001b[0m\u001b[0;34m\u001b[0m\u001b[0;34m\u001b[0m\u001b[0m\n",
            "\u001b[0;32m/usr/local/lib/python3.6/dist-packages/torch/utils/data/dataloader.py\u001b[0m in \u001b[0;36m_next_data\u001b[0;34m(self)\u001b[0m\n\u001b[1;32m    987\u001b[0m             \u001b[0;32melse\u001b[0m\u001b[0;34m:\u001b[0m\u001b[0;34m\u001b[0m\u001b[0;34m\u001b[0m\u001b[0m\n\u001b[1;32m    988\u001b[0m                 \u001b[0;32mdel\u001b[0m \u001b[0mself\u001b[0m\u001b[0;34m.\u001b[0m\u001b[0m_task_info\u001b[0m\u001b[0;34m[\u001b[0m\u001b[0midx\u001b[0m\u001b[0;34m]\u001b[0m\u001b[0;34m\u001b[0m\u001b[0;34m\u001b[0m\u001b[0m\n\u001b[0;32m--> 989\u001b[0;31m                 \u001b[0;32mreturn\u001b[0m \u001b[0mself\u001b[0m\u001b[0;34m.\u001b[0m\u001b[0m_process_data\u001b[0m\u001b[0;34m(\u001b[0m\u001b[0mdata\u001b[0m\u001b[0;34m)\u001b[0m\u001b[0;34m\u001b[0m\u001b[0;34m\u001b[0m\u001b[0m\n\u001b[0m\u001b[1;32m    990\u001b[0m \u001b[0;34m\u001b[0m\u001b[0m\n\u001b[1;32m    991\u001b[0m     \u001b[0;32mdef\u001b[0m \u001b[0m_try_put_index\u001b[0m\u001b[0;34m(\u001b[0m\u001b[0mself\u001b[0m\u001b[0;34m)\u001b[0m\u001b[0;34m:\u001b[0m\u001b[0;34m\u001b[0m\u001b[0;34m\u001b[0m\u001b[0m\n",
            "\u001b[0;32m/usr/local/lib/python3.6/dist-packages/torch/utils/data/dataloader.py\u001b[0m in \u001b[0;36m_process_data\u001b[0;34m(self, data)\u001b[0m\n\u001b[1;32m   1012\u001b[0m         \u001b[0mself\u001b[0m\u001b[0;34m.\u001b[0m\u001b[0m_try_put_index\u001b[0m\u001b[0;34m(\u001b[0m\u001b[0;34m)\u001b[0m\u001b[0;34m\u001b[0m\u001b[0;34m\u001b[0m\u001b[0m\n\u001b[1;32m   1013\u001b[0m         \u001b[0;32mif\u001b[0m \u001b[0misinstance\u001b[0m\u001b[0;34m(\u001b[0m\u001b[0mdata\u001b[0m\u001b[0;34m,\u001b[0m \u001b[0mExceptionWrapper\u001b[0m\u001b[0;34m)\u001b[0m\u001b[0;34m:\u001b[0m\u001b[0;34m\u001b[0m\u001b[0;34m\u001b[0m\u001b[0m\n\u001b[0;32m-> 1014\u001b[0;31m             \u001b[0mdata\u001b[0m\u001b[0;34m.\u001b[0m\u001b[0mreraise\u001b[0m\u001b[0;34m(\u001b[0m\u001b[0;34m)\u001b[0m\u001b[0;34m\u001b[0m\u001b[0;34m\u001b[0m\u001b[0m\n\u001b[0m\u001b[1;32m   1015\u001b[0m         \u001b[0;32mreturn\u001b[0m \u001b[0mdata\u001b[0m\u001b[0;34m\u001b[0m\u001b[0;34m\u001b[0m\u001b[0m\n\u001b[1;32m   1016\u001b[0m \u001b[0;34m\u001b[0m\u001b[0m\n",
            "\u001b[0;32m/usr/local/lib/python3.6/dist-packages/torch/_utils.py\u001b[0m in \u001b[0;36mreraise\u001b[0;34m(self)\u001b[0m\n\u001b[1;32m    393\u001b[0m             \u001b[0;31m# (https://bugs.python.org/issue2651), so we work around it.\u001b[0m\u001b[0;34m\u001b[0m\u001b[0;34m\u001b[0m\u001b[0;34m\u001b[0m\u001b[0m\n\u001b[1;32m    394\u001b[0m             \u001b[0mmsg\u001b[0m \u001b[0;34m=\u001b[0m \u001b[0mKeyErrorMessage\u001b[0m\u001b[0;34m(\u001b[0m\u001b[0mmsg\u001b[0m\u001b[0;34m)\u001b[0m\u001b[0;34m\u001b[0m\u001b[0;34m\u001b[0m\u001b[0m\n\u001b[0;32m--> 395\u001b[0;31m         \u001b[0;32mraise\u001b[0m \u001b[0mself\u001b[0m\u001b[0;34m.\u001b[0m\u001b[0mexc_type\u001b[0m\u001b[0;34m(\u001b[0m\u001b[0mmsg\u001b[0m\u001b[0;34m)\u001b[0m\u001b[0;34m\u001b[0m\u001b[0;34m\u001b[0m\u001b[0m\n\u001b[0m",
            "\u001b[0;31mAttributeError\u001b[0m: Caught AttributeError in DataLoader worker process 0.\nOriginal Traceback (most recent call last):\n  File \"/usr/local/lib/python3.6/dist-packages/torch/utils/data/_utils/worker.py\", line 185, in _worker_loop\n    data = fetcher.fetch(index)\n  File \"/usr/local/lib/python3.6/dist-packages/torch/utils/data/_utils/fetch.py\", line 44, in fetch\n    data = [self.dataset[idx] for idx in possibly_batched_index]\n  File \"/usr/local/lib/python3.6/dist-packages/torch/utils/data/_utils/fetch.py\", line 44, in <listcomp>\n    data = [self.dataset[idx] for idx in possibly_batched_index]\n  File \"/usr/local/lib/python3.6/dist-packages/fastai/data_block.py\", line 567, in __getitem__\n    x = x.apply_tfms(self.tfms, **self.tfmargs)\n  File \"/usr/local/lib/python3.6/dist-packages/fastai/vision/image.py\", line 118, in apply_tfms\n    else: x = tfm(x)\n  File \"/usr/local/lib/python3.6/dist-packages/fastai/vision/image.py\", line 506, in __call__\n    return self.tfm(x, *args, **{**self.resolved, **kwargs}) if self.do_run else x\n  File \"/usr/local/lib/python3.6/dist-packages/fastai/vision/image.py\", line 453, in __call__\n    if args: return self.calc(*args, **kwargs)\n  File \"/usr/local/lib/python3.6/dist-packages/fastai/vision/image.py\", line 458, in calc\n    if self._wrap: return getattr(x, self._wrap)(self.func, *args, **kwargs)\n  File \"/usr/local/lib/python3.6/dist-packages/fastai/vision/image.py\", line 172, in coord\n    self.flow = func(self.flow, *args, **kwargs)\n  File \"/usr/local/lib/python3.6/dist-packages/fastai/vision/transform.py\", line 259, in _symmetric_warp\n    return _do_perspective_warp(c, targ_pts, invert)\n  File \"/usr/local/lib/python3.6/dist-packages/fastai/vision/transform.py\", line 246, in _do_perspective_warp\n    return _apply_perspective(c, _find_coeffs(_orig_pts, targ_pts))\n  File \"/usr/local/lib/python3.6/dist-packages/fastai/vision/transform.py\", line 227, in _find_coeffs\n    return torch.gesv(B,A)[0][:,0]\nAttributeError: module 'torch' has no attribute 'gesv'\n"
          ]
        }
      ]
    },
    {
      "cell_type": "code",
      "metadata": {
        "id": "xvBVk6XuWhj6",
        "colab": {
          "base_uri": "https://localhost:8080/",
          "height": 34
        },
        "outputId": "47fca2ed-54f5-4b7f-9c0b-54523016673e"
      },
      "source": [
        "data.classes, data.c, len(data.train_ds), len(data.valid_ds)"
      ],
      "execution_count": null,
      "outputs": [
        {
          "output_type": "execute_result",
          "data": {
            "text/plain": [
              "(['basketball', 'football', 'judo'], 3, 480, 120)"
            ]
          },
          "metadata": {
            "tags": []
          },
          "execution_count": 17
        }
      ]
    },
    {
      "cell_type": "markdown",
      "metadata": {
        "id": "Dza7pmooWhkB"
      },
      "source": [
        "## Train model"
      ]
    },
    {
      "cell_type": "code",
      "metadata": {
        "id": "w0GisujjWhkC",
        "colab": {
          "base_uri": "https://localhost:8080/",
          "height": 103,
          "referenced_widgets": [
            "b1c539bf3f154195beff9eadf55504a3",
            "6be87d633bac4ac39f4810680ed3668a",
            "9b1f124318ac431ea95fb6edae1cc255",
            "bf0925e7315544a6b11ce04ae20a3d58",
            "c5ccadb37f864ef699b4ab293570b026",
            "2e9f4e7f152c4b53b9d6023f6e6cabbb",
            "89115e6c4e2f412ebcdab6d661cd0799",
            "af7c1fce0561482da7eee5f2be8bda6f"
          ]
        },
        "outputId": "0b13db21-647b-45de-c00d-48d2a4b4250e"
      },
      "source": [
        "learn = cnn_learner(data, models.resnet34, metrics=error_rate)\n",
        "                  "
      ],
      "execution_count": null,
      "outputs": [
        {
          "output_type": "stream",
          "text": [
            "Downloading: \"https://download.pytorch.org/models/resnet34-333f7ec4.pth\" to /root/.cache/torch/hub/checkpoints/resnet34-333f7ec4.pth\n"
          ],
          "name": "stderr"
        },
        {
          "output_type": "display_data",
          "data": {
            "application/vnd.jupyter.widget-view+json": {
              "model_id": "b1c539bf3f154195beff9eadf55504a3",
              "version_minor": 0,
              "version_major": 2
            },
            "text/plain": [
              "HBox(children=(FloatProgress(value=0.0, max=87306240.0), HTML(value='')))"
            ]
          },
          "metadata": {
            "tags": []
          }
        },
        {
          "output_type": "stream",
          "text": [
            "\n"
          ],
          "name": "stdout"
        }
      ]
    },
    {
      "cell_type": "code",
      "metadata": {
        "id": "ti-d4fvsWhkG",
        "colab": {
          "base_uri": "https://localhost:8080/",
          "height": 172
        },
        "outputId": "78179d5a-dabb-4829-c7b9-9f6387d55107"
      },
      "source": [
        "learn.fit_one_cycle(4)"
      ],
      "execution_count": null,
      "outputs": [
        {
          "output_type": "display_data",
          "data": {
            "text/html": [
              "<table border=\"1\" class=\"dataframe\">\n",
              "  <thead>\n",
              "    <tr style=\"text-align: left;\">\n",
              "      <th>epoch</th>\n",
              "      <th>train_loss</th>\n",
              "      <th>valid_loss</th>\n",
              "      <th>error_rate</th>\n",
              "      <th>time</th>\n",
              "    </tr>\n",
              "  </thead>\n",
              "  <tbody>\n",
              "    <tr>\n",
              "      <td>0</td>\n",
              "      <td>1.556449</td>\n",
              "      <td>0.386024</td>\n",
              "      <td>0.125000</td>\n",
              "      <td>00:05</td>\n",
              "    </tr>\n",
              "    <tr>\n",
              "      <td>1</td>\n",
              "      <td>0.868024</td>\n",
              "      <td>0.199944</td>\n",
              "      <td>0.050000</td>\n",
              "      <td>00:05</td>\n",
              "    </tr>\n",
              "    <tr>\n",
              "      <td>2</td>\n",
              "      <td>0.603501</td>\n",
              "      <td>0.155198</td>\n",
              "      <td>0.050000</td>\n",
              "      <td>00:05</td>\n",
              "    </tr>\n",
              "    <tr>\n",
              "      <td>3</td>\n",
              "      <td>0.478056</td>\n",
              "      <td>0.170917</td>\n",
              "      <td>0.050000</td>\n",
              "      <td>00:05</td>\n",
              "    </tr>\n",
              "  </tbody>\n",
              "</table>"
            ],
            "text/plain": [
              "<IPython.core.display.HTML object>"
            ]
          },
          "metadata": {
            "tags": []
          }
        }
      ]
    },
    {
      "cell_type": "code",
      "metadata": {
        "id": "m7oBZslEWhkK"
      },
      "source": [
        "learn.save('stage-1')"
      ],
      "execution_count": null,
      "outputs": []
    },
    {
      "cell_type": "code",
      "metadata": {
        "id": "h9jvAVh-WhkN"
      },
      "source": [
        "learn.unfreeze()"
      ],
      "execution_count": null,
      "outputs": []
    },
    {
      "cell_type": "code",
      "metadata": {
        "id": "f4QXiutfWhkR",
        "colab": {
          "base_uri": "https://localhost:8080/",
          "height": 357
        },
        "outputId": "c0326d3f-a41e-48cc-85bb-019de2837603"
      },
      "source": [
        "learn.lr_find()"
      ],
      "execution_count": null,
      "outputs": [
        {
          "output_type": "display_data",
          "data": {
            "text/html": [
              "\n",
              "    <div>\n",
              "        <style>\n",
              "            /* Turns off some styling */\n",
              "            progress {\n",
              "                /* gets rid of default border in Firefox and Opera. */\n",
              "                border: none;\n",
              "                /* Needs to be in here for Safari polyfill so background images work as expected. */\n",
              "                background-size: auto;\n",
              "            }\n",
              "            .progress-bar-interrupted, .progress-bar-interrupted::-webkit-progress-bar {\n",
              "                background: #F44336;\n",
              "            }\n",
              "        </style>\n",
              "      <progress value='8' class='' max='15' style='width:300px; height:20px; vertical-align: middle;'></progress>\n",
              "      53.33% [8/15 00:44<00:39]\n",
              "    </div>\n",
              "    \n",
              "<table border=\"1\" class=\"dataframe\">\n",
              "  <thead>\n",
              "    <tr style=\"text-align: left;\">\n",
              "      <th>epoch</th>\n",
              "      <th>train_loss</th>\n",
              "      <th>valid_loss</th>\n",
              "      <th>error_rate</th>\n",
              "      <th>time</th>\n",
              "    </tr>\n",
              "  </thead>\n",
              "  <tbody>\n",
              "    <tr>\n",
              "      <td>0</td>\n",
              "      <td>0.235180</td>\n",
              "      <td>#na#</td>\n",
              "      <td>00:05</td>\n",
              "    </tr>\n",
              "    <tr>\n",
              "      <td>1</td>\n",
              "      <td>0.226057</td>\n",
              "      <td>#na#</td>\n",
              "      <td>00:05</td>\n",
              "    </tr>\n",
              "    <tr>\n",
              "      <td>2</td>\n",
              "      <td>0.182616</td>\n",
              "      <td>#na#</td>\n",
              "      <td>00:05</td>\n",
              "    </tr>\n",
              "    <tr>\n",
              "      <td>3</td>\n",
              "      <td>0.166388</td>\n",
              "      <td>#na#</td>\n",
              "      <td>00:05</td>\n",
              "    </tr>\n",
              "    <tr>\n",
              "      <td>4</td>\n",
              "      <td>0.150534</td>\n",
              "      <td>#na#</td>\n",
              "      <td>00:05</td>\n",
              "    </tr>\n",
              "    <tr>\n",
              "      <td>5</td>\n",
              "      <td>0.128922</td>\n",
              "      <td>#na#</td>\n",
              "      <td>00:05</td>\n",
              "    </tr>\n",
              "    <tr>\n",
              "      <td>6</td>\n",
              "      <td>0.110990</td>\n",
              "      <td>#na#</td>\n",
              "      <td>00:05</td>\n",
              "    </tr>\n",
              "    <tr>\n",
              "      <td>7</td>\n",
              "      <td>0.129842</td>\n",
              "      <td>#na#</td>\n",
              "      <td>00:05</td>\n",
              "    </tr>\n",
              "  </tbody>\n",
              "</table><p>\n",
              "\n",
              "    <div>\n",
              "        <style>\n",
              "            /* Turns off some styling */\n",
              "            progress {\n",
              "                /* gets rid of default border in Firefox and Opera. */\n",
              "                border: none;\n",
              "                /* Needs to be in here for Safari polyfill so background images work as expected. */\n",
              "                background-size: auto;\n",
              "            }\n",
              "            .progress-bar-interrupted, .progress-bar-interrupted::-webkit-progress-bar {\n",
              "                background: #F44336;\n",
              "            }\n",
              "        </style>\n",
              "      <progress value='6' class='' max='7' style='width:300px; height:20px; vertical-align: middle;'></progress>\n",
              "      85.71% [6/7 00:05<00:00 0.3450]\n",
              "    </div>\n",
              "    "
            ],
            "text/plain": [
              "<IPython.core.display.HTML object>"
            ]
          },
          "metadata": {
            "tags": []
          }
        },
        {
          "output_type": "stream",
          "text": [
            "LR Finder is complete, type {learner_name}.recorder.plot() to see the graph.\n"
          ],
          "name": "stdout"
        }
      ]
    },
    {
      "cell_type": "code",
      "metadata": {
        "id": "prktYoyAWhkV",
        "colab": {
          "base_uri": "https://localhost:8080/",
          "height": 279
        },
        "outputId": "366a27d0-d6b5-4e4a-9ae9-faa3be0e2d02"
      },
      "source": [
        "# If the plot is not showing try to give a start and end learning rate\n",
        "# learn.lr_find(start_lr=1e-5, end_lr=1e-1)\n",
        "learn.recorder.plot()"
      ],
      "execution_count": null,
      "outputs": [
        {
          "output_type": "display_data",
          "data": {
            "image/png": "[encoded data removed]",
            "text/plain": [
              "<Figure size 432x288 with 1 Axes>"
            ]
          },
          "metadata": {
            "tags": [],
            "needs_background": "light"
          }
        }
      ]
    },
    {
      "cell_type": "code",
      "metadata": {
        "id": "NkZhjKVCWhkZ",
        "colab": {
          "base_uri": "https://localhost:8080/",
          "height": 110
        },
        "outputId": "1edf50c8-3ca7-4119-a550-ec5080200007"
      },
      "source": [
        "learn.fit_one_cycle(2, max_lr=slice(1e-6,1e-5))"
      ],
      "execution_count": null,
      "outputs": [
        {
          "output_type": "display_data",
          "data": {
            "text/html": [
              "<table border=\"1\" class=\"dataframe\">\n",
              "  <thead>\n",
              "    <tr style=\"text-align: left;\">\n",
              "      <th>epoch</th>\n",
              "      <th>train_loss</th>\n",
              "      <th>valid_loss</th>\n",
              "      <th>error_rate</th>\n",
              "      <th>time</th>\n",
              "    </tr>\n",
              "  </thead>\n",
              "  <tbody>\n",
              "    <tr>\n",
              "      <td>0</td>\n",
              "      <td>0.169328</td>\n",
              "      <td>0.165811</td>\n",
              "      <td>0.058333</td>\n",
              "      <td>00:06</td>\n",
              "    </tr>\n",
              "    <tr>\n",
              "      <td>1</td>\n",
              "      <td>0.154963</td>\n",
              "      <td>0.154323</td>\n",
              "      <td>0.058333</td>\n",
              "      <td>00:06</td>\n",
              "    </tr>\n",
              "  </tbody>\n",
              "</table>"
            ],
            "text/plain": [
              "<IPython.core.display.HTML object>"
            ]
          },
          "metadata": {
            "tags": []
          }
        }
      ]
    },
    {
      "cell_type": "code",
      "metadata": {
        "id": "7xTuaChvWhkf"
      },
      "source": [
        "learn.save('stage-2')"
      ],
      "execution_count": null,
      "outputs": []
    },
    {
      "cell_type": "markdown",
      "metadata": {
        "id": "hVvFvmocWhkk"
      },
      "source": [
        "## Interpretation"
      ]
    },
    {
      "cell_type": "code",
      "metadata": {
        "id": "k4pmnXMHWhkl"
      },
      "source": [
        "learn.load('stage-1');"
      ],
      "execution_count": null,
      "outputs": []
    },
    {
      "cell_type": "code",
      "metadata": {
        "id": "E0N58Z_mWhkp",
        "colab": {
          "base_uri": "https://localhost:8080/",
          "height": 17
        },
        "outputId": "27d1fa0c-ea02-4cfb-a838-d17bccf2a31b"
      },
      "source": [
        "interp = ClassificationInterpretation.from_learner(learn)"
      ],
      "execution_count": null,
      "outputs": [
        {
          "output_type": "display_data",
          "data": {
            "text/html": [
              ""
            ],
            "text/plain": [
              "<IPython.core.display.HTML object>"
            ]
          },
          "metadata": {
            "tags": []
          }
        }
      ]
    },
    {
      "cell_type": "code",
      "metadata": {
        "id": "3Xh5PmZqWhks",
        "colab": {
          "base_uri": "https://localhost:8080/",
          "height": 311
        },
        "outputId": "4788bc97-7ba1-42e8-95e8-7f620530623f"
      },
      "source": [
        "interp.plot_confusion_matrix()"
      ],
      "execution_count": null,
      "outputs": [
        {
          "output_type": "display_data",
          "data": {
            "image/png": "[encoded data removed]",
            "text/plain": [
              "<Figure size 432x288 with 1 Axes>"
            ]
          },
          "metadata": {
            "tags": [],
            "needs_background": "light"
          }
        }
      ]
    },
    {
      "cell_type": "markdown",
      "metadata": {
        "id": "J-G1irJmWhkw"
      },
      "source": [
        "## Cleaning Up\n",
        "\n",
        "Some of our top losses aren't due to bad performance by our model. There are images in our data set that shouldn't be.\n",
        "\n",
        "Using the `ImageCleaner` widget from `fastai.widgets` we can prune our top losses, removing photos that don't belong."
      ]
    },
    {
      "cell_type": "code",
      "metadata": {
        "id": "2f_0c4uXWhkx"
      },
      "source": [
        "from fastai.widgets import *"
      ],
      "execution_count": null,
      "outputs": []
    },
    {
      "cell_type": "markdown",
      "metadata": {
        "id": "yyF4BUolWhk2"
      },
      "source": [
        "First we need to get the file paths from our top_losses. We can do this with `.from_toplosses`. We then feed the top losses indexes and corresponding dataset to `ImageCleaner`.\n",
        "\n",
        "Notice that the widget will not delete images directly from disk but it will create a new csv file `cleaned.csv` from where you can create a new ImageDataBunch with the corrected labels to continue training your model."
      ]
    },
    {
      "cell_type": "markdown",
      "metadata": {
        "id": "q3qNGGOtWhk3"
      },
      "source": [
        "In order to clean the entire set of images, we need to create a new dataset without the split. The video lecture demostrated the use of the `ds_type` param which no longer has any effect. See [the thread](https://forums.fast.ai/t/duplicate-widget/30975/10) for more details."
      ]
    },
    {
      "cell_type": "code",
      "metadata": {
        "id": "LyE0ihV2Whk4"
      },
      "source": [
        "db = (ImageList.from_folder(path)\n",
        "                   .split_none()\n",
        "                   .label_from_folder()\n",
        "                   .transform(get_transforms(), size=224)\n",
        "                   .databunch()\n",
        "     )"
      ],
      "execution_count": null,
      "outputs": []
    },
    {
      "cell_type": "code",
      "metadata": {
        "id": "sQwSinS2Whk7"
      },
      "source": [
        "# If you already cleaned your data using indexes from `from_toplosses`,\n",
        "# run this cell instead of the one before to proceed with removing duplicates.\n",
        "# Otherwise all the results of the previous step would be overwritten by\n",
        "# the new run of `ImageCleaner`.\n",
        "\n",
        "# db = (ImageList.from_csv(path, 'cleaned.csv', folder='.')\n",
        "#                    .split_none()\n",
        "#                    .label_from_df()\n",
        "#                    .transform(get_transforms(), size=224)\n",
        "#                    .databunch()\n",
        "#      )"
      ],
      "execution_count": null,
      "outputs": []
    },
    {
      "cell_type": "markdown",
      "metadata": {
        "id": "C1POS7lkWhk_"
      },
      "source": [
        "Then we create a new learner to use our new databunch with all the images."
      ]
    },
    {
      "cell_type": "code",
      "metadata": {
        "id": "fDhSHnq_WhlA"
      },
      "source": [
        "learn_cln = cnn_learner(db, models.resnet34, metrics=error_rate)\n",
        "\n",
        "learn_cln.load('stage-1');"
      ],
      "execution_count": null,
      "outputs": []
    },
    {
      "cell_type": "code",
      "metadata": {
        "id": "txd5NJJtWhlE",
        "colab": {
          "base_uri": "https://localhost:8080/",
          "height": 17
        },
        "outputId": "3893bc8d-f174-4d6e-824f-81f497a4f080"
      },
      "source": [
        "ds, idxs = DatasetFormatter().from_toplosses(learn_cln)"
      ],
      "execution_count": null,
      "outputs": [
        {
          "output_type": "display_data",
          "data": {
            "text/html": [
              ""
            ],
            "text/plain": [
              "<IPython.core.display.HTML object>"
            ]
          },
          "metadata": {
            "tags": []
          }
        }
      ]
    },
    {
      "cell_type": "markdown",
      "metadata": {
        "id": "jWvQop3mWhlH"
      },
      "source": [
        "Make sure you're running this notebook in Jupyter Notebook, not Jupyter Lab. That is accessible via [/tree](/tree), not [/lab](/lab). Running the `ImageCleaner` widget in Jupyter Lab is [not currently supported](https://github.com/fastai/fastai/issues/1539)."
      ]
    },
    {
      "cell_type": "code",
      "metadata": {
        "id": "Vv62VRBEWhlI",
        "colab": {
          "base_uri": "https://localhost:8080/",
          "height": 349,
          "referenced_widgets": [
            "96df7b556368495db9fe0bf70890db2b",
            "0e1ae2b358a7461faed72005b1f88a33",
            "588b77fec72d44989d9ff27b562ad809",
            "1f9229087b8242e9beda114dbb75f9dc",
            "6f14f68a873544abbbcc3090c1664662",
            "f5b9b05f1e144960ba217a890bb74404",
            "b886cb11daee4494aa3a4546ec5001e6",
            "c8a416013afb4bc2959458b42f391f11",
            "b0261e89b99b40d7954f6ace26656678",
            "ca3b858e64754fdfb8791d846d560191",
            "9d3d6372e5c3443390aef238f7847c74",
            "f102ffd8526348d797776fd62beaeebc",
            "e3cab15e9fbe4569a127168516001c71",
            "de450457335549d29b22d68a71903c19",
            "90b6aca2d5574ad3a2d82dbbc8c63361",
            "75663716e87a4d478812173bd5761389",
            "d1d261b61e5f4883b3f0433b4240e1c0",
            "ae4c4f9ae93c41cf92985c8244cbbf93",
            "2f8e20d2b3ad49c5a90cf3933bc5cec1",
            "3c15a3e5712d4090b87b39abda418813",
            "7a466df93c724ec3bd26fb9fb32874d1",
            "4acd69dd43654fbc979da7a43583ea85",
            "95dbee83dcfb4142987217b3b7a974ec",
            "00192d10357744d3bf9909b4be440d57",
            "5baae9ada82f4d72869ea8902298fffd",
            "00fd6164990d4952b398dc48b0e53138",
            "09f1c2eb239041b98fb6bc812bc25f75",
            "96ba921ca62b4af4aa79ad3491221a65",
            "1a9dda0876734b9a957c60ee7056f277",
            "12138ceb60e744e381ec88f223260738",
            "144e685764c14629ae22e7f50c433959",
            "5925d52e55964e84bca4bee03a44de09",
            "86e0a0392f23447cb6dcf97580f77998",
            "498b5e190d444cadb3299e93211e53ba",
            "06ff8d8aa98340a68fe8c436f08c588d",
            "43fb17d9e6944d8c8dbbfd8821f99abf",
            "da9179cf798a4d46a15b1cb399fe5758",
            "3d672398533048b5af515d856aaa28bf",
            "65ffa0fe443f496c8c0960cabfc778a8",
            "ebf3e5f9c36f4b3fa52e0b9e1d8a2a11",
            "929cdec0ac1c4200b32d98b4d56a91dd",
            "09d258e3d37f424e8b30997e288e6331",
            "9672f3463f0048ffaffa1bb48cf7f76a",
            "2c7f0fd487a442ec8600de12ffec9498",
            "480cd38f7f5e4beface6169380937d62",
            "54dcc6db4f194c18b1174afac37f4a1e",
            "536e9d8fa09548cc8d4dc9503b3c1304",
            "89658f8cff84469d8b0044fdcc6baad9",
            "c777244dcc4d42ffbb04fc681a09e442",
            "eed3636cebf84b0c97c5f279eded6f74",
            "7dbc57b217cc449388c005f1efd86798",
            "21eb7c60e76d47fa8ba13f67df9416bd",
            "98d58548cbed45ad9a3208f4dddffcf4",
            "c67eed14bd30436c9d1381fbc797323e",
            "4831bbf72e734cf9951984df0ce98ef4",
            "d573fa4196124b0ca49f562c350ff7c9",
            "69a362e09ed846b89441e1f978a3f700",
            "5668ecea21dc41c592c9cd51128564fc",
            "84224e6c556749848488efcaf8d025b2",
            "2c2c01755afb48afadc9f7942f5f930a",
            "92440aa8ef774c0884d323c9d3d50833",
            "5976f0925eaa452795d5d57a3310c224",
            "48f47c03d2564864bc7b460ec422a728",
            "f20c662433ee4ff798456faf8de4e987",
            "38ee3c467eb9451eb53e4c1161df8c42",
            "6471202164914160971ba924b615bd07",
            "ade0a91ab42044dabe1802f6bde971e0",
            "e76f00f2a9974c34b2957873ba84071b",
            "e51aedbb7c054dec99abaeeda038bf74",
            "40df02c3436b4f988f59157504eb6671",
            "953e14bcb84443779445dee88cd50f9a",
            "d4de0f9ce77c4130823c9e62d080dab2",
            "f38e32916d2d4690aac122fe009a3621",
            "25c8f1ed07144f028b3a7dfd296461d9",
            "fd5dc4ca9d4b4ca983590cda4fe7bc15",
            "5c3f28d19db348088c569dba7239aec1",
            "8cfaf4641f044970a7c7e5f347ec012f",
            "50059ac3354c4f569e3e99480556a635",
            "8ff4ce4a29624bbfa94d0661ef9b3fcd",
            "8294000d60e24d318bffe21541e41118",
            "334a18ae33b242ef92ea682a52fa8209",
            "e88f32ef545247c1b1be9ff9c2ebeceb",
            "154b7a78ec6a433bbd0783a575fdafe4",
            "b1a20975633b4fd1ac696e844c33643d",
            "23e1024c063e4c39829307876be52f1f",
            "ff331c2cc82f4b208fd28906285a6eae",
            "41d21687c43842c8bf204af6e35fc5f5",
            "33d174330e42418b803e300ff4ba1d1a",
            "2f133ab6b0d74e0b899c15aefb200491",
            "cb461d26d29343b0b7ec0d4f5022c935",
            "f892ef9bdfed4c2c9f809a5a31b4010b",
            "54ddad7b06eb4d40b9cde4b9d88f6357",
            "15eea4d613dd4e039be758b9f3eb3ddc",
            "2dfe0005a8cb4bb3a5a23e9b577bc572",
            "df09ac668add4c19943ca223bc263293",
            "6548974c83eb498a94f31e44afe266bd",
            "81909503bcba4874a234f43c842ab4c6",
            "4e9714fdef2243c49ecd3ff5b07819bd",
            "91196eab8993414a80a5c081e0173257",
            "bc006ca2a5144f929c18f3373c82e79d",
            "9fb2c9712c304924bf09dd1a68a1f028",
            "d2d4decb9b5646bbbc499b1c6d36974c",
            "23e429067f8e41ff899bef364dda6695",
            "0926bdbf4e1c456b909be52d8eae7d4b"
          ]
        },
        "outputId": "c1c40b6f-716d-4de7-8741-3804db7bbc36"
      },
      "source": [
        "# Don't run this in google colab or any other instances running jupyter lab.\n",
        "# If you do run this on Jupyter Lab, you need to restart your runtime and\n",
        "# runtime state including all local variables will be lost.\n",
        "ImageCleaner(ds, idxs, path)"
      ],
      "execution_count": null,
      "outputs": [
        {
          "output_type": "display_data",
          "data": {
            "application/vnd.jupyter.widget-view+json": {
              "model_id": "d4de0f9ce77c4130823c9e62d080dab2",
              "version_minor": 0,
              "version_major": 2
            },
            "text/plain": [
              "HBox(children=(VBox(children=(Image(value=b'\\xff\\xd8\\xff\\xe0\\x00\\x10JFIF\\x00\\x01\\x01\\x01\\x00d\\x00d\\x00\\x00\\xff…"
            ]
          },
          "metadata": {
            "tags": []
          }
        },
        {
          "output_type": "display_data",
          "data": {
            "application/vnd.jupyter.widget-view+json": {
              "model_id": "23e429067f8e41ff899bef364dda6695",
              "version_minor": 0,
              "version_major": 2
            },
            "text/plain": [
              "Button(button_style='primary', description='Next Batch', layout=Layout(width='auto'), style=ButtonStyle())"
            ]
          },
          "metadata": {
            "tags": []
          }
        }
      ]
    },
    {
      "cell_type": "markdown",
      "metadata": {
        "id": "B5R-4ksYWhlM"
      },
      "source": [
        "\n",
        "If the code above does not show any GUI(contains images and buttons) rendered by widgets but only text output, that may caused by the configuration problem of ipywidgets. Try the solution in this [link](https://github.com/fastai/fastai/issues/1539#issuecomment-505999861) to solve it.\n"
      ]
    },
    {
      "cell_type": "markdown",
      "metadata": {
        "id": "gUiZdUbOWhlN"
      },
      "source": [
        "Flag photos for deletion by clicking 'Delete'. Then click 'Next Batch' to delete flagged photos and keep the rest in that row. `ImageCleaner` will show you a new row of images until there are no more to show. In this case, the widget will show you images until there are none left from `top_losses.ImageCleaner(ds, idxs)`"
      ]
    },
    {
      "cell_type": "markdown",
      "metadata": {
        "id": "s8oSgA8UWhlN"
      },
      "source": [
        "You can also find duplicates in your dataset and delete them! To do this, you need to run `.from_similars` to get the potential duplicates' ids and then run `ImageCleaner` with `duplicates=True`. The API works in a similar way as with misclassified images: just choose the ones you want to delete and click 'Next Batch' until there are no more images left."
      ]
    },
    {
      "cell_type": "markdown",
      "metadata": {
        "id": "uYhjY_O1WhlO"
      },
      "source": [
        "Make sure to recreate the databunch and `learn_cln` from the `cleaned.csv` file. Otherwise the file would be overwritten from scratch, losing all the results from cleaning the data from toplosses."
      ]
    },
    {
      "cell_type": "code",
      "metadata": {
        "id": "-z3lTx-BWhlP",
        "outputId": "2027d310-0c5e-442b-87cf-51186eb66526"
      },
      "source": [
        "ds, idxs = DatasetFormatter().from_similars(learn_cln)"
      ],
      "execution_count": null,
      "outputs": [
        {
          "output_type": "stream",
          "text": [
            "Getting activations...\n"
          ],
          "name": "stdout"
        },
        {
          "output_type": "display_data",
          "data": {
            "text/html": [
              "\n",
              "    <div>\n",
              "        <style>\n",
              "        \t/* Turns off some styling */\n",
              "        \tprogress {\n",
              "\n",
              "            \t/* gets rid of default border in Firefox and Opera. */\n",
              "            \tborder: none;\n",
              "\n",
              "            \t/* Needs to be in here for Safari polyfill so background images work as expected. */\n",
              "            \tbackground-size: auto;\n",
              "            }\n",
              "\n",
              "            .progress-bar-interrupted, .progress-bar-interrupted::-webkit-progress-bar {\n",
              "                background: #F44336;\n",
              "            }\n",
              "        </style>\n",
              "      <progress value='1' class='' max='1', style='width:300px; height:20px; vertical-align: middle;'></progress>\n",
              "      100.00% [1/1 00:01<00:00]\n",
              "    </div>\n",
              "    "
            ],
            "text/plain": [
              "<IPython.core.display.HTML object>"
            ]
          },
          "metadata": {
            "tags": []
          }
        },
        {
          "output_type": "stream",
          "text": [
            "Computing similarities...\n"
          ],
          "name": "stdout"
        },
        {
          "output_type": "display_data",
          "data": {
            "text/html": [
              "\n",
              "    <div>\n",
              "        <style>\n",
              "        \t/* Turns off some styling */\n",
              "        \tprogress {\n",
              "\n",
              "            \t/* gets rid of default border in Firefox and Opera. */\n",
              "            \tborder: none;\n",
              "\n",
              "            \t/* Needs to be in here for Safari polyfill so background images work as expected. */\n",
              "            \tbackground-size: auto;\n",
              "            }\n",
              "\n",
              "            .progress-bar-interrupted, .progress-bar-interrupted::-webkit-progress-bar {\n",
              "                background: #F44336;\n",
              "            }\n",
              "        </style>\n",
              "      <progress value='55' class='' max='55', style='width:300px; height:20px; vertical-align: middle;'></progress>\n",
              "      100.00% [55/55 00:00<00:00]\n",
              "    </div>\n",
              "    "
            ],
            "text/plain": [
              "<IPython.core.display.HTML object>"
            ]
          },
          "metadata": {
            "tags": []
          }
        }
      ]
    },
    {
      "cell_type": "code",
      "metadata": {
        "id": "7VlTlRUvWhlT",
        "outputId": "c62f905f-6fe6-4755-9869-9151d1dc44f0"
      },
      "source": [
        "ImageCleaner(ds, idxs, path, duplicates=True)"
      ],
      "execution_count": null,
      "outputs": [
        {
          "output_type": "display_data",
          "data": {
            "text/plain": [
              "'No images to show :)'"
            ]
          },
          "metadata": {
            "tags": []
          }
        }
      ]
    },
    {
      "cell_type": "markdown",
      "metadata": {
        "id": "6xSlvCe8WhlW"
      },
      "source": [
        "Remember to recreate your ImageDataBunch from your `cleaned.csv` to include the changes you made in your data!"
      ]
    },
    {
      "cell_type": "markdown",
      "metadata": {
        "id": "mAodsx24WhlX"
      },
      "source": [
        "## Putting your model in production"
      ]
    },
    {
      "cell_type": "markdown",
      "metadata": {
        "id": "gr_y0-z0WhlY"
      },
      "source": [
        "First thing first, let's export the content of our `Learner` object for production:"
      ]
    },
    {
      "cell_type": "code",
      "metadata": {
        "id": "DO0q8L2IWhlY"
      },
      "source": [
        "learn.export()"
      ],
      "execution_count": null,
      "outputs": []
    },
    {
      "cell_type": "code",
      "metadata": {
        "id": "MFzR3stXq1wz",
        "colab": {
          "base_uri": "https://localhost:8080/",
          "height": 51
        },
        "outputId": "97f25127-1aa7-4514-cc77-ddded2211137"
      },
      "source": [
        "!ls data/sports"
      ],
      "execution_count": null,
      "outputs": [
        {
          "output_type": "stream",
          "text": [
            "basketball   export.pkl  judo\t urls_basketball.csv  urls_judo.csv\n",
            "cleaned.csv  football\t models  urls_football.csv\n"
          ],
          "name": "stdout"
        }
      ]
    },
    {
      "cell_type": "code",
      "metadata": {
        "id": "eND4YIuXuIe3"
      },
      "source": [
        "!mv data/sports/export.pkl gdrive/My\\ Drive/kda_fastai"
      ],
      "execution_count": null,
      "outputs": []
    },
    {
      "cell_type": "code",
      "metadata": {
        "id": "WwXQYOfouhU-"
      },
      "source": [
        "!ls gdrive/My\\ Drive/kda_fastai"
      ],
      "execution_count": null,
      "outputs": []
    },
    {
      "cell_type": "markdown",
      "metadata": {
        "id": "9z5YWUOeWhld"
      },
      "source": [
        "This will create a file named 'export.pkl' in the directory where we were working that contains everything we need to deploy our model (the model, the weights but also some metadata like the classes or the transforms/normalization used)."
      ]
    },
    {
      "cell_type": "markdown",
      "metadata": {
        "id": "1J4erP8pWhle"
      },
      "source": [
        "You probably want to use CPU for inference, except at massive scale (and you almost certainly don't need to train in real-time). If you don't have a GPU that happens automatically. You can test your model on CPU like so:"
      ]
    },
    {
      "cell_type": "code",
      "metadata": {
        "id": "AxxaRFwzWhlf"
      },
      "source": [
        "defaults.device = torch.device('cpu')"
      ],
      "execution_count": null,
      "outputs": []
    },
    {
      "cell_type": "code",
      "metadata": {
        "id": "YPyr1y3qWhll",
        "colab": {
          "base_uri": "https://localhost:8080/",
          "height": 211
        },
        "outputId": "ede97bbd-e265-4968-a63d-aed6486e5c05"
      },
      "source": [
        "img = open_image(path/'basketball'/'00000021.jpg')\n",
        "img"
      ],
      "execution_count": null,
      "outputs": [
        {
          "output_type": "execute_result",
          "data": {
            "image/png": "[encoded data removed]",
            "image/jpeg": "[encoded data removed]",
            "text/plain": [
              "Image (3, 194, 259)"
            ]
          },
          "metadata": {
            "tags": []
          },
          "execution_count": 39
        }
      ]
    },
    {
      "cell_type": "markdown",
      "metadata": {
        "id": "AryqcNS7Whlr"
      },
      "source": [
        "We create our `Learner` in production enviromnent like this, just make sure that `path` contains the file 'export.pkl' from before."
      ]
    },
    {
      "cell_type": "code",
      "metadata": {
        "id": "v1ZKADReWhls"
      },
      "source": [
        "learn = load_learner(path)"
      ],
      "execution_count": null,
      "outputs": []
    },
    {
      "cell_type": "code",
      "metadata": {
        "id": "35YeOrFCWhly",
        "colab": {
          "base_uri": "https://localhost:8080/",
          "height": 35
        },
        "outputId": "93b35e22-aeaf-4775-dedc-f1b63e4173c4"
      },
      "source": [
        "pred_class,pred_idx,outputs = learn.predict(img)\n",
        "pred_class.obj"
      ],
      "execution_count": null,
      "outputs": [
        {
          "output_type": "execute_result",
          "data": {
            "application/vnd.google.colaboratory.intrinsic+json": {
              "type": "string"
            },
            "text/plain": [
              "'basketball'"
            ]
          },
          "metadata": {
            "tags": []
          },
          "execution_count": 40
        }
      ]
    },
    {
      "cell_type": "code",
      "metadata": {
        "id": "6a941Z3CrYKO",
        "colab": {
          "base_uri": "https://localhost:8080/",
          "height": 34
        },
        "outputId": "895b01b1-9e31-40d9-e597-eec6c09e7858"
      },
      "source": [
        "pred_class"
      ],
      "execution_count": null,
      "outputs": [
        {
          "output_type": "execute_result",
          "data": {
            "text/plain": [
              "Category tensor(2)"
            ]
          },
          "metadata": {
            "tags": []
          },
          "execution_count": 38
        }
      ]
    },
    {
      "cell_type": "markdown",
      "metadata": {
        "id": "IHZZq6RpWhl5"
      },
      "source": [
        "So you might create a route something like this ([thanks](https://github.com/simonw/cougar-or-not) to Simon Willison for the structure of this code):\n",
        "\n",
        "```python\n",
        "@app.route(\"/classify-url\", methods=[\"GET\"])\n",
        "async def classify_url(request):\n",
        "    bytes = await get_bytes(request.query_params[\"url\"])\n",
        "    img = open_image(BytesIO(bytes))\n",
        "    _,_,losses = learner.predict(img)\n",
        "    return JSONResponse({\n",
        "        \"predictions\": sorted(\n",
        "            zip(cat_learner.data.classes, map(float, losses)),\n",
        "            key=lambda p: p[1],\n",
        "            reverse=True\n",
        "        )\n",
        "    })\n",
        "```\n",
        "\n",
        "(This example is for the [Starlette](https://www.starlette.io/) web app toolkit.)"
      ]
    },
    {
      "cell_type": "markdown",
      "metadata": {
        "id": "gz26rLuu_mLJ"
      },
      "source": [
        "Deployez votre model dans une web app avec Render\n",
        "\n",
        "1. Exporter le model que nous avons entrainé précédement\n",
        "2. Upload le model sur une plareform cloud et noter l'URL\n",
        "  - Google Drive: Use this [link generator](https://www.wonderplugin.com/online-tools/google-drive-direct-link-generator/)\n",
        "  - Dropbox: Use this [link generator](https://syncwithtech.blogspot.com/p/direct-download-link-generator.html)\n",
        "3. Forker et cloner ce [template](https://github.com/render-examples/fastai-v3)\n",
        "4. Modifier le template:\n",
        "  - Modifiez le fichier `server.py` dans le répertoire` app` et mettez à jour la variable `model_file_url` avec l'URL copiée ci-dessus.\n",
        "  - Dans le même fichier, mettez à jour la ligne `classes = ['black', 'grizzly', 'teddys']` avec les classes que vous attendez de votre modèle.\n",
        "  - Faire un commit des changements effectués\n",
        "5. Créer un compte sur [Render](render.com)\n",
        "6. Deployer l'application sur Render\n",
        "  - Créez un nouveau **Web Service** sur Render et utilisez le dépôt que vous avez créé ci-dessus. Vous devrez accorder l'autorisation Render pour accéder à votre dépôt à cette étape.\n",
        "\n",
        "  - Sur l'écran de déploiement, choisissez un nom pour votre service et utilisez `Docker` pour l'environnement.\n",
        "\n",
        "  - Cliquez sur **Save Web Service***. C'est tout! Votre service commencera à se développer et devrait être opérationnel dans quelques minutes à l'URL affichée dans votre tableau de bord Render. Vous pouvez suivre sa progression dans les journaux de déploiement.\n"
      ]
    },
    {
      "cell_type": "markdown",
      "metadata": {
        "id": "PdRGMwtYWhl6"
      },
      "source": [
        "## Things that can go wrong"
      ]
    },
    {
      "cell_type": "markdown",
      "metadata": {
        "id": "tvsMrCXDWhl6"
      },
      "source": [
        "- Most of the time things will train fine with the defaults\n",
        "- There's not much you really need to tune (despite what you've heard!)\n",
        "- Most likely are\n",
        "  - Learning rate\n",
        "  - Number of epochs"
      ]
    },
    {
      "cell_type": "markdown",
      "metadata": {
        "id": "ytMS0L6DWhl7"
      },
      "source": [
        "### Learning rate (LR) too high"
      ]
    },
    {
      "cell_type": "code",
      "metadata": {
        "id": "pSZtLaiiWhl_"
      },
      "source": [
        "learn = cnn_learner(data, models.resnet34, metrics=error_rate)"
      ],
      "execution_count": null,
      "outputs": []
    },
    {
      "cell_type": "code",
      "metadata": {
        "id": "JYmspmfCWhmF",
        "outputId": "52a5a87c-05c5-4318-e3c3-c75d04d4a9cb"
      },
      "source": [
        "learn.fit_one_cycle(1, max_lr=0.5)"
      ],
      "execution_count": null,
      "outputs": [
        {
          "output_type": "stream",
          "text": [
            "Total time: 00:13\n",
            "epoch  train_loss  valid_loss  error_rate       \n",
            "1      12.220007   1144188288.000000  0.765957    (00:13)\n",
            "\n"
          ],
          "name": "stdout"
        }
      ]
    },
    {
      "cell_type": "markdown",
      "metadata": {
        "id": "iH00YETLWhmM"
      },
      "source": [
        "### Learning rate (LR) too low"
      ]
    },
    {
      "cell_type": "code",
      "metadata": {
        "id": "sdKWuuu4WhmN"
      },
      "source": [
        "learn = cnn_learner(data, models.resnet34, metrics=error_rate)"
      ],
      "execution_count": null,
      "outputs": []
    },
    {
      "cell_type": "markdown",
      "metadata": {
        "id": "ufdJbLe-WhmU"
      },
      "source": [
        "Previously we had this result:\n",
        "\n",
        "```\n",
        "Total time: 00:57\n",
        "epoch  train_loss  valid_loss  error_rate\n",
        "1      1.030236    0.179226    0.028369    (00:14)\n",
        "2      0.561508    0.055464    0.014184    (00:13)\n",
        "3      0.396103    0.053801    0.014184    (00:13)\n",
        "4      0.316883    0.050197    0.021277    (00:15)\n",
        "```"
      ]
    },
    {
      "cell_type": "code",
      "metadata": {
        "id": "dJhzC6vaWhmV",
        "outputId": "bd2d2c49-2c68-486c-f016-83f5e9a6f243"
      },
      "source": [
        "learn.fit_one_cycle(5, max_lr=1e-5)"
      ],
      "execution_count": null,
      "outputs": [
        {
          "output_type": "stream",
          "text": [
            "Total time: 01:07\n",
            "epoch  train_loss  valid_loss  error_rate\n",
            "1      1.349151    1.062807    0.609929    (00:13)\n",
            "2      1.373262    1.045115    0.546099    (00:13)\n",
            "3      1.346169    1.006288    0.468085    (00:13)\n",
            "4      1.334486    0.978713    0.453901    (00:13)\n",
            "5      1.320978    0.978108    0.446809    (00:13)\n",
            "\n"
          ],
          "name": "stdout"
        }
      ]
    },
    {
      "cell_type": "code",
      "metadata": {
        "id": "sKhVGoEPWhmb",
        "outputId": "48d9be59-e9cf-4131-b251-603a99ed441d"
      },
      "source": [
        "learn.recorder.plot_losses()"
      ],
      "execution_count": null,
      "outputs": [
        {
          "output_type": "display_data",
          "data": {
            "image/png": "[encoded data removed]",
            "text/plain": [
              "<Figure size 432x288 with 1 Axes>"
            ]
          },
          "metadata": {
            "tags": [],
            "needs_background": "light"
          }
        }
      ]
    },
    {
      "cell_type": "markdown",
      "metadata": {
        "id": "EH0X7nmXWhme"
      },
      "source": [
        "As well as taking a really long time, it's getting too many looks at each image, so may overfit."
      ]
    },
    {
      "cell_type": "markdown",
      "metadata": {
        "id": "BV5qZ3PGWhmf"
      },
      "source": [
        "### Too few epochs"
      ]
    },
    {
      "cell_type": "code",
      "metadata": {
        "id": "xCN7-AgcWhmf"
      },
      "source": [
        "learn = cnn_learner(data, models.resnet34, metrics=error_rate, pretrained=False)"
      ],
      "execution_count": null,
      "outputs": []
    },
    {
      "cell_type": "code",
      "metadata": {
        "id": "p9dHCK90Whml",
        "outputId": "49243595-32a4-4a68-92a5-d71e968ba8d7"
      },
      "source": [
        "learn.fit_one_cycle(1)"
      ],
      "execution_count": null,
      "outputs": [
        {
          "output_type": "stream",
          "text": [
            "Total time: 00:14\n",
            "epoch  train_loss  valid_loss  error_rate\n",
            "1      0.602823    0.119616    0.049645    (00:14)\n",
            "\n"
          ],
          "name": "stdout"
        }
      ]
    },
    {
      "cell_type": "markdown",
      "metadata": {
        "id": "d2SLh0qtWhmv"
      },
      "source": [
        "### Too many epochs"
      ]
    },
    {
      "cell_type": "code",
      "metadata": {
        "id": "42mhQhjcWhmw"
      },
      "source": [
        "np.random.seed(42)\n",
        "data = ImageDataBunch.from_folder(path, train=\".\", valid_pct=0.9, bs=32, \n",
        "        ds_tfms=get_transforms(do_flip=False, max_rotate=0, max_zoom=1, max_lighting=0, max_warp=0\n",
        "                              ),size=224, num_workers=4).normalize(imagenet_stats)"
      ],
      "execution_count": null,
      "outputs": []
    },
    {
      "cell_type": "code",
      "metadata": {
        "id": "SNjB1-GdWhm1"
      },
      "source": [
        "learn = cnn_learner(data, models.resnet50, metrics=error_rate, ps=0, wd=0)\n",
        "learn.unfreeze()"
      ],
      "execution_count": null,
      "outputs": []
    },
    {
      "cell_type": "code",
      "metadata": {
        "id": "-e0za_yIWhm4",
        "outputId": "50412c64-3e52-4c0b-b394-8bd93340fb07"
      },
      "source": [
        "learn.fit_one_cycle(40, slice(1e-6,1e-4))"
      ],
      "execution_count": null,
      "outputs": [
        {
          "output_type": "stream",
          "text": [
            "Total time: 06:39\n",
            "epoch  train_loss  valid_loss  error_rate\n",
            "1      1.513021    1.041628    0.507326    (00:13)\n",
            "2      1.290093    0.994758    0.443223    (00:09)\n",
            "3      1.185764    0.936145    0.410256    (00:09)\n",
            "4      1.117229    0.838402    0.322344    (00:09)\n",
            "5      1.022635    0.734872    0.252747    (00:09)\n",
            "6      0.951374    0.627288    0.192308    (00:10)\n",
            "7      0.916111    0.558621    0.184982    (00:09)\n",
            "8      0.839068    0.503755    0.177656    (00:09)\n",
            "9      0.749610    0.433475    0.144689    (00:09)\n",
            "10     0.678583    0.367560    0.124542    (00:09)\n",
            "11     0.615280    0.327029    0.100733    (00:10)\n",
            "12     0.558776    0.298989    0.095238    (00:09)\n",
            "13     0.518109    0.266998    0.084249    (00:09)\n",
            "14     0.476290    0.257858    0.084249    (00:09)\n",
            "15     0.436865    0.227299    0.067766    (00:09)\n",
            "16     0.457189    0.236593    0.078755    (00:10)\n",
            "17     0.420905    0.240185    0.080586    (00:10)\n",
            "18     0.395686    0.255465    0.082418    (00:09)\n",
            "19     0.373232    0.263469    0.080586    (00:09)\n",
            "20     0.348988    0.258300    0.080586    (00:10)\n",
            "21     0.324616    0.261346    0.080586    (00:09)\n",
            "22     0.311310    0.236431    0.071429    (00:09)\n",
            "23     0.328342    0.245841    0.069597    (00:10)\n",
            "24     0.306411    0.235111    0.064103    (00:10)\n",
            "25     0.289134    0.227465    0.069597    (00:09)\n",
            "26     0.284814    0.226022    0.064103    (00:09)\n",
            "27     0.268398    0.222791    0.067766    (00:09)\n",
            "28     0.255431    0.227751    0.073260    (00:10)\n",
            "29     0.240742    0.235949    0.071429    (00:09)\n",
            "30     0.227140    0.225221    0.075092    (00:09)\n",
            "31     0.213877    0.214789    0.069597    (00:09)\n",
            "32     0.201631    0.209382    0.062271    (00:10)\n",
            "33     0.189988    0.210684    0.065934    (00:09)\n",
            "34     0.181293    0.214666    0.073260    (00:09)\n",
            "35     0.184095    0.222575    0.073260    (00:09)\n",
            "36     0.194615    0.229198    0.076923    (00:10)\n",
            "37     0.186165    0.218206    0.075092    (00:09)\n",
            "38     0.176623    0.207198    0.062271    (00:10)\n",
            "39     0.166854    0.207256    0.065934    (00:10)\n",
            "40     0.162692    0.206044    0.062271    (00:09)\n",
            "\n"
          ],
          "name": "stdout"
        }
      ]
    }
  ]
}